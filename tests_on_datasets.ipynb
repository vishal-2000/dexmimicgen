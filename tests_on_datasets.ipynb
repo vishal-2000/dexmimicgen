{
 "cells": [
  {
   "cell_type": "code",
   "execution_count": 1,
   "id": "9aff8e46",
   "metadata": {},
   "outputs": [
    {
     "name": "stderr",
     "output_type": "stream",
     "text": [
      "\u001b[1m\u001b[33m[robosuite WARNING] \u001b[0mNo private macro file found! (macros.py:57)\n",
      "\u001b[1m\u001b[33m[robosuite WARNING] \u001b[0mIt is recommended to use a private macro file (macros.py:58)\n",
      "\u001b[1m\u001b[33m[robosuite WARNING] \u001b[0mTo setup, run: python /home/vishal/Volume_E/Active/Gap_year/grand-project-2025/deepak/robosuite/robosuite/scripts/setup_macros.py (macros.py:59)\n",
      "\u001b[1m\u001b[33m[robosuite WARNING] \u001b[0mCould not import robosuite_models. Some robots may not be available. If you want to use these robots, please install robosuite_models from source (https://github.com/ARISE-Initiative/robosuite_models) or through pip install. (__init__.py:30)\n",
      "\u001b[1m\u001b[33m[robosuite WARNING] \u001b[0mCould not load the mink-based whole-body IK. Make sure you install related import properly, otherwise you will not be able to use the default IK controller setting for GR1 robot. (__init__.py:40)\n"
     ]
    }
   ],
   "source": [
    "import h5py\n",
    "import imageio # Why?\n",
    "import robosuite"
   ]
  },
  {
   "cell_type": "code",
   "execution_count": 2,
   "id": "a61c3bd8",
   "metadata": {},
   "outputs": [],
   "source": [
    "import dexmimicgen"
   ]
  },
  {
   "cell_type": "code",
   "execution_count": 51,
   "id": "83f3c3de",
   "metadata": {},
   "outputs": [],
   "source": [
    "import numpy as np"
   ]
  },
  {
   "cell_type": "code",
   "execution_count": 68,
   "id": "71b892f9",
   "metadata": {},
   "outputs": [
    {
     "data": {
      "text/plain": [
       "'{\\n    \"env_name\": \"TwoArmBoxCleanup\",\\n    \"env_version\": \"1.5.1\",\\n    \"type\": 1,\\n    \"env_kwargs\": {\\n        \"robots\": [\\n            \"PandaDexRH\",\\n            \"PandaDexLH\"\\n        ],\\n        \"controller_configs\": {\\n            \"type\": \"BASIC\",\\n            \"body_parts\": {\\n                \"right\": {\\n                    \"type\": \"OSC_POSE\",\\n                    \"input_max\": 1,\\n                    \"input_min\": -1,\\n                    \"output_max\": [\\n                        0.05,\\n                        0.05,\\n                        0.05,\\n                        0.5,\\n                        0.5,\\n                        0.5\\n                    ],\\n                    \"output_min\": [\\n                        -0.05,\\n                        -0.05,\\n                        -0.05,\\n                        -0.5,\\n                        -0.5,\\n                        -0.5\\n                    ],\\n                    \"kp\": 150,\\n                    \"damping_ratio\": 1,\\n                    \"impedance_mode\": \"fixed\",\\n                    \"kp_limits\": [\\n                        0,\\n                        300\\n                    ],\\n                    \"damping_ratio_limits\": [\\n                        0,\\n                        10\\n                    ],\\n                    \"position_limits\": null,\\n                    \"orientation_limits\": null,\\n                    \"uncouple_pos_ori\": true,\\n                    \"input_type\": \"delta\",\\n                    \"input_ref_frame\": \"base\",\\n                    \"interpolation\": null,\\n                    \"ramp_ratio\": 0.2,\\n                    \"gripper\": {\\n                        \"type\": \"GRIP\",\\n                        \"use_action_scaling\": false\\n                    }\\n                }\\n            }\\n        },\\n        \"translucent_robot\": false,\\n        \"env_configuration\": \"parallel\",\\n        \"reward_shaping\": false,\\n        \"camera_names\": [\\n            \"agentview\",\\n            \"robot0_eye_in_hand\",\\n            \"robot1_eye_in_hand\"\\n        ],\\n        \"camera_heights\": 84,\\n        \"camera_widths\": 84,\\n        \"has_renderer\": false,\\n        \"has_offscreen_renderer\": true,\\n        \"ignore_done\": true,\\n        \"use_object_obs\": true,\\n        \"use_camera_obs\": true,\\n        \"camera_depths\": false,\\n        \"render_gpu_device_id\": 0,\\n        \"env_lang\": null\\n    }\\n}'"
      ]
     },
     "execution_count": 68,
     "metadata": {},
     "output_type": "execute_result"
    }
   ],
   "source": [
    "'''\n",
    "Attributes are a critical part of what makes HDF5 a “self-describing” format. They are small named pieces of data attached directly to Group and Dataset objects. This is the official way to store metadata in HDF5.\n",
    "\n",
    "Each Group or Dataset has a small proxy object attached to it, at <obj>.attrs. Attributes have the following properties:\n",
    "\n",
    "They may be created from any scalar or NumPy array\n",
    "\n",
    "Each attribute should be small (generally < 64k)\n",
    "\n",
    "There is no partial I/O (i.e. slicing); the entire attribute must be read.\n",
    "\n",
    "'''\n",
    "\n",
    "\n",
    "data['data'].attrs[\"env_args\"]"
   ]
  },
  {
   "cell_type": "code",
   "execution_count": 4,
   "id": "58dfd585",
   "metadata": {},
   "outputs": [
    {
     "name": "stdout",
     "output_type": "stream",
     "text": [
      "<KeysViewHDF5 ['data']>\n"
     ]
    }
   ],
   "source": [
    "dataset_path = \"/home/vishal/Volume_E/Active/Gap_year/grand-project-2025/deepak/dexmimicgen/datasets/two_arm_box_cleanup.hdf5\"\n",
    "data = h5py.File(dataset_path, 'r')\n",
    "print(data.keys())"
   ]
  },
  {
   "cell_type": "code",
   "execution_count": 9,
   "id": "ee5e97e3",
   "metadata": {},
   "outputs": [
    {
     "name": "stdout",
     "output_type": "stream",
     "text": [
      "Number of keys:  1016\n",
      "Keys in 'data':  <KeysViewHDF5 ['demo_0', 'demo_1', 'demo_10', 'demo_100', 'demo_1000', 'demo_1001', 'demo_1002', 'demo_1003', 'demo_1004', 'demo_1005', 'demo_1006', 'demo_1007', 'demo_1008', 'demo_1009', 'demo_101', 'demo_1010', 'demo_1011', 'demo_1012', 'demo_1013', 'demo_1014', 'demo_1015', 'demo_102', 'demo_103', 'demo_104', 'demo_105', 'demo_106', 'demo_107', 'demo_108', 'demo_109', 'demo_11', 'demo_110', 'demo_111', 'demo_112', 'demo_113', 'demo_114', 'demo_115', 'demo_116', 'demo_117', 'demo_118', 'demo_119', 'demo_12', 'demo_120', 'demo_121', 'demo_122', 'demo_123', 'demo_124', 'demo_125', 'demo_126', 'demo_127', 'demo_128', 'demo_129', 'demo_13', 'demo_130', 'demo_131', 'demo_132', 'demo_133', 'demo_134', 'demo_135', 'demo_136', 'demo_137', 'demo_138', 'demo_139', 'demo_14', 'demo_140', 'demo_141', 'demo_142', 'demo_143', 'demo_144', 'demo_145', 'demo_146', 'demo_147', 'demo_148', 'demo_149', 'demo_15', 'demo_150', 'demo_151', 'demo_152', 'demo_153', 'demo_154', 'demo_155', 'demo_156', 'demo_157', 'demo_158', 'demo_159', 'demo_16', 'demo_160', 'demo_161', 'demo_162', 'demo_163', 'demo_164', 'demo_165', 'demo_166', 'demo_167', 'demo_168', 'demo_169', 'demo_17', 'demo_170', 'demo_171', 'demo_172', 'demo_173', 'demo_174', 'demo_175', 'demo_176', 'demo_177', 'demo_178', 'demo_179', 'demo_18', 'demo_180', 'demo_181', 'demo_182', 'demo_183', 'demo_184', 'demo_185', 'demo_186', 'demo_187', 'demo_188', 'demo_189', 'demo_19', 'demo_190', 'demo_191', 'demo_192', 'demo_193', 'demo_194', 'demo_195', 'demo_196', 'demo_197', 'demo_198', 'demo_199', 'demo_2', 'demo_20', 'demo_200', 'demo_201', 'demo_202', 'demo_203', 'demo_204', 'demo_205', 'demo_206', 'demo_207', 'demo_208', 'demo_209', 'demo_21', 'demo_210', 'demo_211', 'demo_212', 'demo_213', 'demo_214', 'demo_215', 'demo_216', 'demo_217', 'demo_218', 'demo_219', 'demo_22', 'demo_220', 'demo_221', 'demo_222', 'demo_223', 'demo_224', 'demo_225', 'demo_226', 'demo_227', 'demo_228', 'demo_229', 'demo_23', 'demo_230', 'demo_231', 'demo_232', 'demo_233', 'demo_234', 'demo_235', 'demo_236', 'demo_237', 'demo_238', 'demo_239', 'demo_24', 'demo_240', 'demo_241', 'demo_242', 'demo_243', 'demo_244', 'demo_245', 'demo_246', 'demo_247', 'demo_248', 'demo_249', 'demo_25', 'demo_250', 'demo_251', 'demo_252', 'demo_253', 'demo_254', 'demo_255', 'demo_256', 'demo_257', 'demo_258', 'demo_259', 'demo_26', 'demo_260', 'demo_261', 'demo_262', 'demo_263', 'demo_264', 'demo_265', 'demo_266', 'demo_267', 'demo_268', 'demo_269', 'demo_27', 'demo_270', 'demo_271', 'demo_272', 'demo_273', 'demo_274', 'demo_275', 'demo_276', 'demo_277', 'demo_278', 'demo_279', 'demo_28', 'demo_280', 'demo_281', 'demo_282', 'demo_283', 'demo_284', 'demo_285', 'demo_286', 'demo_287', 'demo_288', 'demo_289', 'demo_29', 'demo_290', 'demo_291', 'demo_292', 'demo_293', 'demo_294', 'demo_295', 'demo_296', 'demo_297', 'demo_298', 'demo_299', 'demo_3', 'demo_30', 'demo_300', 'demo_301', 'demo_302', 'demo_303', 'demo_304', 'demo_305', 'demo_306', 'demo_307', 'demo_308', 'demo_309', 'demo_31', 'demo_310', 'demo_311', 'demo_312', 'demo_313', 'demo_314', 'demo_315', 'demo_316', 'demo_317', 'demo_318', 'demo_319', 'demo_32', 'demo_320', 'demo_321', 'demo_322', 'demo_323', 'demo_324', 'demo_325', 'demo_326', 'demo_327', 'demo_328', 'demo_329', 'demo_33', 'demo_330', 'demo_331', 'demo_332', 'demo_333', 'demo_334', 'demo_335', 'demo_336', 'demo_337', 'demo_338', 'demo_339', 'demo_34', 'demo_340', 'demo_341', 'demo_342', 'demo_343', 'demo_344', 'demo_345', 'demo_346', 'demo_347', 'demo_348', 'demo_349', 'demo_35', 'demo_350', 'demo_351', 'demo_352', 'demo_353', 'demo_354', 'demo_355', 'demo_356', 'demo_357', 'demo_358', 'demo_359', 'demo_36', 'demo_360', 'demo_361', 'demo_362', 'demo_363', 'demo_364', 'demo_365', 'demo_366', 'demo_367', 'demo_368', 'demo_369', 'demo_37', 'demo_370', 'demo_371', 'demo_372', 'demo_373', 'demo_374', 'demo_375', 'demo_376', 'demo_377', 'demo_378', 'demo_379', 'demo_38', 'demo_380', 'demo_381', 'demo_382', 'demo_383', 'demo_384', 'demo_385', 'demo_386', 'demo_387', 'demo_388', 'demo_389', 'demo_39', 'demo_390', 'demo_391', 'demo_392', 'demo_393', 'demo_394', 'demo_395', 'demo_396', 'demo_397', 'demo_398', 'demo_399', 'demo_4', 'demo_40', 'demo_400', 'demo_401', 'demo_402', 'demo_403', 'demo_404', 'demo_405', 'demo_406', 'demo_407', 'demo_408', 'demo_409', 'demo_41', 'demo_410', 'demo_411', 'demo_412', 'demo_413', 'demo_414', 'demo_415', 'demo_416', 'demo_417', 'demo_418', 'demo_419', 'demo_42', 'demo_420', 'demo_421', 'demo_422', 'demo_423', 'demo_424', 'demo_425', 'demo_426', 'demo_427', 'demo_428', 'demo_429', 'demo_43', 'demo_430', 'demo_431', 'demo_432', 'demo_433', 'demo_434', 'demo_435', 'demo_436', 'demo_437', 'demo_438', 'demo_439', 'demo_44', 'demo_440', 'demo_441', 'demo_442', 'demo_443', 'demo_444', 'demo_445', 'demo_446', 'demo_447', 'demo_448', 'demo_449', 'demo_45', 'demo_450', 'demo_451', 'demo_452', 'demo_453', 'demo_454', 'demo_455', 'demo_456', 'demo_457', 'demo_458', 'demo_459', 'demo_46', 'demo_460', 'demo_461', 'demo_462', 'demo_463', 'demo_464', 'demo_465', 'demo_466', 'demo_467', 'demo_468', 'demo_469', 'demo_47', 'demo_470', 'demo_471', 'demo_472', 'demo_473', 'demo_474', 'demo_475', 'demo_476', 'demo_477', 'demo_478', 'demo_479', 'demo_48', 'demo_480', 'demo_481', 'demo_482', 'demo_483', 'demo_484', 'demo_485', 'demo_486', 'demo_487', 'demo_488', 'demo_489', 'demo_49', 'demo_490', 'demo_491', 'demo_492', 'demo_493', 'demo_494', 'demo_495', 'demo_496', 'demo_497', 'demo_498', 'demo_499', 'demo_5', 'demo_50', 'demo_500', 'demo_501', 'demo_502', 'demo_503', 'demo_504', 'demo_505', 'demo_506', 'demo_507', 'demo_508', 'demo_509', 'demo_51', 'demo_510', 'demo_511', 'demo_512', 'demo_513', 'demo_514', 'demo_515', 'demo_516', 'demo_517', 'demo_518', 'demo_519', 'demo_52', 'demo_520', 'demo_521', 'demo_522', 'demo_523', 'demo_524', 'demo_525', 'demo_526', 'demo_527', 'demo_528', 'demo_529', 'demo_53', 'demo_530', 'demo_531', 'demo_532', 'demo_533', 'demo_534', 'demo_535', 'demo_536', 'demo_537', 'demo_538', 'demo_539', 'demo_54', 'demo_540', 'demo_541', 'demo_542', 'demo_543', 'demo_544', 'demo_545', 'demo_546', 'demo_547', 'demo_548', 'demo_549', 'demo_55', 'demo_550', 'demo_551', 'demo_552', 'demo_553', 'demo_554', 'demo_555', 'demo_556', 'demo_557', 'demo_558', 'demo_559', 'demo_56', 'demo_560', 'demo_561', 'demo_562', 'demo_563', 'demo_564', 'demo_565', 'demo_566', 'demo_567', 'demo_568', 'demo_569', 'demo_57', 'demo_570', 'demo_571', 'demo_572', 'demo_573', 'demo_574', 'demo_575', 'demo_576', 'demo_577', 'demo_578', 'demo_579', 'demo_58', 'demo_580', 'demo_581', 'demo_582', 'demo_583', 'demo_584', 'demo_585', 'demo_586', 'demo_587', 'demo_588', 'demo_589', 'demo_59', 'demo_590', 'demo_591', 'demo_592', 'demo_593', 'demo_594', 'demo_595', 'demo_596', 'demo_597', 'demo_598', 'demo_599', 'demo_6', 'demo_60', 'demo_600', 'demo_601', 'demo_602', 'demo_603', 'demo_604', 'demo_605', 'demo_606', 'demo_607', 'demo_608', 'demo_609', 'demo_61', 'demo_610', 'demo_611', 'demo_612', 'demo_613', 'demo_614', 'demo_615', 'demo_616', 'demo_617', 'demo_618', 'demo_619', 'demo_62', 'demo_620', 'demo_621', 'demo_622', 'demo_623', 'demo_624', 'demo_625', 'demo_626', 'demo_627', 'demo_628', 'demo_629', 'demo_63', 'demo_630', 'demo_631', 'demo_632', 'demo_633', 'demo_634', 'demo_635', 'demo_636', 'demo_637', 'demo_638', 'demo_639', 'demo_64', 'demo_640', 'demo_641', 'demo_642', 'demo_643', 'demo_644', 'demo_645', 'demo_646', 'demo_647', 'demo_648', 'demo_649', 'demo_65', 'demo_650', 'demo_651', 'demo_652', 'demo_653', 'demo_654', 'demo_655', 'demo_656', 'demo_657', 'demo_658', 'demo_659', 'demo_66', 'demo_660', 'demo_661', 'demo_662', 'demo_663', 'demo_664', 'demo_665', 'demo_666', 'demo_667', 'demo_668', 'demo_669', 'demo_67', 'demo_670', 'demo_671', 'demo_672', 'demo_673', 'demo_674', 'demo_675', 'demo_676', 'demo_677', 'demo_678', 'demo_679', 'demo_68', 'demo_680', 'demo_681', 'demo_682', 'demo_683', 'demo_684', 'demo_685', 'demo_686', 'demo_687', 'demo_688', 'demo_689', 'demo_69', 'demo_690', 'demo_691', 'demo_692', 'demo_693', 'demo_694', 'demo_695', 'demo_696', 'demo_697', 'demo_698', 'demo_699', 'demo_7', 'demo_70', 'demo_700', 'demo_701', 'demo_702', 'demo_703', 'demo_704', 'demo_705', 'demo_706', 'demo_707', 'demo_708', 'demo_709', 'demo_71', 'demo_710', 'demo_711', 'demo_712', 'demo_713', 'demo_714', 'demo_715', 'demo_716', 'demo_717', 'demo_718', 'demo_719', 'demo_72', 'demo_720', 'demo_721', 'demo_722', 'demo_723', 'demo_724', 'demo_725', 'demo_726', 'demo_727', 'demo_728', 'demo_729', 'demo_73', 'demo_730', 'demo_731', 'demo_732', 'demo_733', 'demo_734', 'demo_735', 'demo_736', 'demo_737', 'demo_738', 'demo_739', 'demo_74', 'demo_740', 'demo_741', 'demo_742', 'demo_743', 'demo_744', 'demo_745', 'demo_746', 'demo_747', 'demo_748', 'demo_749', 'demo_75', 'demo_750', 'demo_751', 'demo_752', 'demo_753', 'demo_754', 'demo_755', 'demo_756', 'demo_757', 'demo_758', 'demo_759', 'demo_76', 'demo_760', 'demo_761', 'demo_762', 'demo_763', 'demo_764', 'demo_765', 'demo_766', 'demo_767', 'demo_768', 'demo_769', 'demo_77', 'demo_770', 'demo_771', 'demo_772', 'demo_773', 'demo_774', 'demo_775', 'demo_776', 'demo_777', 'demo_778', 'demo_779', 'demo_78', 'demo_780', 'demo_781', 'demo_782', 'demo_783', 'demo_784', 'demo_785', 'demo_786', 'demo_787', 'demo_788', 'demo_789', 'demo_79', 'demo_790', 'demo_791', 'demo_792', 'demo_793', 'demo_794', 'demo_795', 'demo_796', 'demo_797', 'demo_798', 'demo_799', 'demo_8', 'demo_80', 'demo_800', 'demo_801', 'demo_802', 'demo_803', 'demo_804', 'demo_805', 'demo_806', 'demo_807', 'demo_808', 'demo_809', 'demo_81', 'demo_810', 'demo_811', 'demo_812', 'demo_813', 'demo_814', 'demo_815', 'demo_816', 'demo_817', 'demo_818', 'demo_819', 'demo_82', 'demo_820', 'demo_821', 'demo_822', 'demo_823', 'demo_824', 'demo_825', 'demo_826', 'demo_827', 'demo_828', 'demo_829', 'demo_83', 'demo_830', 'demo_831', 'demo_832', 'demo_833', 'demo_834', 'demo_835', 'demo_836', 'demo_837', 'demo_838', 'demo_839', 'demo_84', 'demo_840', 'demo_841', 'demo_842', 'demo_843', 'demo_844', 'demo_845', 'demo_846', 'demo_847', 'demo_848', 'demo_849', 'demo_85', 'demo_850', 'demo_851', 'demo_852', 'demo_853', 'demo_854', 'demo_855', 'demo_856', 'demo_857', 'demo_858', 'demo_859', 'demo_86', 'demo_860', 'demo_861', 'demo_862', 'demo_863', 'demo_864', 'demo_865', 'demo_866', 'demo_867', 'demo_868', 'demo_869', 'demo_87', 'demo_870', 'demo_871', 'demo_872', 'demo_873', 'demo_874', 'demo_875', 'demo_876', 'demo_877', 'demo_878', 'demo_879', 'demo_88', 'demo_880', 'demo_881', 'demo_882', 'demo_883', 'demo_884', 'demo_885', 'demo_886', 'demo_887', 'demo_888', 'demo_889', 'demo_89', 'demo_890', 'demo_891', 'demo_892', 'demo_893', 'demo_894', 'demo_895', 'demo_896', 'demo_897', 'demo_898', 'demo_899', 'demo_9', 'demo_90', 'demo_900', 'demo_901', 'demo_902', 'demo_903', 'demo_904', 'demo_905', 'demo_906', 'demo_907', 'demo_908', 'demo_909', 'demo_91', 'demo_910', 'demo_911', 'demo_912', 'demo_913', 'demo_914', 'demo_915', 'demo_916', 'demo_917', 'demo_918', 'demo_919', 'demo_92', 'demo_920', 'demo_921', 'demo_922', 'demo_923', 'demo_924', 'demo_925', 'demo_926', 'demo_927', 'demo_928', 'demo_929', 'demo_93', 'demo_930', 'demo_931', 'demo_932', 'demo_933', 'demo_934', 'demo_935', 'demo_936', 'demo_937', 'demo_938', 'demo_939', 'demo_94', 'demo_940', 'demo_941', 'demo_942', 'demo_943', 'demo_944', 'demo_945', 'demo_946', 'demo_947', 'demo_948', 'demo_949', 'demo_95', 'demo_950', 'demo_951', 'demo_952', 'demo_953', 'demo_954', 'demo_955', 'demo_956', 'demo_957', 'demo_958', 'demo_959', 'demo_96', 'demo_960', 'demo_961', 'demo_962', 'demo_963', 'demo_964', 'demo_965', 'demo_966', 'demo_967', 'demo_968', 'demo_969', 'demo_97', 'demo_970', 'demo_971', 'demo_972', 'demo_973', 'demo_974', 'demo_975', 'demo_976', 'demo_977', 'demo_978', 'demo_979', 'demo_98', 'demo_980', 'demo_981', 'demo_982', 'demo_983', 'demo_984', 'demo_985', 'demo_986', 'demo_987', 'demo_988', 'demo_989', 'demo_99', 'demo_990', 'demo_991', 'demo_992', 'demo_993', 'demo_994', 'demo_995', 'demo_996', 'demo_997', 'demo_998', 'demo_999']>\n"
     ]
    }
   ],
   "source": [
    "print(\"Number of keys: \", len(data['data'].keys()))\n",
    "\n",
    "print(\"Keys in 'data': \", data['data'].keys())"
   ]
  },
  {
   "cell_type": "code",
   "execution_count": 11,
   "id": "08e60dec",
   "metadata": {},
   "outputs": [
    {
     "data": {
      "text/plain": [
       "<HDF5 group \"/data/demo_10\" (5 members)>"
      ]
     },
     "execution_count": 11,
     "metadata": {},
     "output_type": "execute_result"
    }
   ],
   "source": [
    "data['data']['demo_10']"
   ]
  },
  {
   "cell_type": "code",
   "execution_count": 12,
   "id": "1f08c7c5",
   "metadata": {},
   "outputs": [
    {
     "data": {
      "text/plain": [
       "<KeysViewHDF5 ['action_dict', 'actions', 'datagen_info', 'obs', 'states']>"
      ]
     },
     "execution_count": 12,
     "metadata": {},
     "output_type": "execute_result"
    }
   ],
   "source": [
    "data['data']['demo_10'].keys()"
   ]
  },
  {
   "cell_type": "code",
   "execution_count": 52,
   "id": "967c4e64",
   "metadata": {},
   "outputs": [
    {
     "name": "stdout",
     "output_type": "stream",
     "text": [
      "<KeysViewHDF5 ['eef_pose', 'gripper_action', 'object_poses', 'subtask_term_signals', 'target_pose']>\n",
      "eef_pose: <HDF5 dataset \"eef_pose\": shape (226, 2, 4, 4), type \"<f8\">\n",
      "gripper_action: <HDF5 dataset \"gripper_action\": shape (226, 2, 6), type \"<f8\">\n",
      "object_poses: <HDF5 group \"/data/demo_10/datagen_info/object_poses\" (2 members)>\n",
      "subtask_term_signals: <HDF5 group \"/data/demo_10/datagen_info/subtask_term_signals\" (1 members)>\n",
      "target_pose: <HDF5 dataset \"target_pose\": shape (226, 2, 4, 4), type \"<f8\">\n",
      "\n",
      "More about sub-task termination signals =============================  \n",
      "\n",
      "<KeysViewHDF5 ['lid_off_ground']>\n",
      "lid_off_ground: <HDF5 dataset \"lid_off_ground\": shape (226,), type \"<i8\">\n",
      "Example reading of subtask termination signals:  [0 0 0 0 0 0 0 0 0 0]\n",
      "Sum of subtask termination signal (lid_off_ground):  {90}\n",
      "Non zero signals at indices:  [0 0 0 0 0 0 0 0 0 0 0 0 0 0 0 0 0 0 0 0 0 0 0 0 0 0 0 0 0 0 0 0 0 0 0 0 0\n",
      " 0 0 0 0 0 0 0 0 0 0 0 0 0 0 0 0 0 0 0 0 0 0 0 0 0 0 0 0 0 0 0 0 0 0 0 0 0\n",
      " 0 0 0 0 0 0 0 0 0 0 0 0 0 0 0 0 0 0 0 0 0 0 0 0 0 0 0 0 0 0 0 0 0 0 0 0 0\n",
      " 0 0 0 0 0 0 0 0 0 0 0 0 0 0 0 0 0 0 0 0 0 0 0 0 0 1 1 1 1 1 1 1 1 1 1 1 1\n",
      " 1 1 1 1 1 1 1 1 1 1 1 1 1 1 1 1 1 1 1 1 1 1 1 1 1 1 1 1 1 1 1 1 1 1 1 1 1\n",
      " 1 1 1 1 1 1 1 1 1 1 1 1 1 1 1 1 1 1 1 1 1 1 1 1 1 1 1 1 1 1 1 1 1 1 1 1 1\n",
      " 1 1 1 1]\n"
     ]
    }
   ],
   "source": [
    "print(data['data']['demo_10']['datagen_info'].keys())\n",
    "for key in data['data']['demo_10']['datagen_info'].keys():\n",
    "    print(f\"{key}: {data['data']['demo_10']['datagen_info'][key]}\")\n",
    "\n",
    "print(\"\\nMore about sub-task termination signals =============================  \\n\")\n",
    "\n",
    "print(data['data']['demo_10']['datagen_info']['subtask_term_signals'].keys())\n",
    "for key in data['data']['demo_10']['datagen_info']['subtask_term_signals'].keys():\n",
    "    print(f\"{key}: {data['data']['demo_10']['datagen_info']['subtask_term_signals'][key]}\")\n",
    "\n",
    "print(\"Example reading of subtask termination signals: \", data['data']['demo_10']['datagen_info']['subtask_term_signals']['lid_off_ground'][30:40])\n",
    "# Are sub task termination signals always 0?\n",
    "print(\"Sum of subtask termination signal (lid_off_ground): \", {sum(data['data']['demo_10']['datagen_info']['subtask_term_signals']['lid_off_ground'])})\n",
    "non_zero_sigs = np.array(data['data']['demo_10']['datagen_info']['subtask_term_signals']['lid_off_ground'])\n",
    "print(\"Non zero signals at indices: \", non_zero_sigs)"
   ]
  },
  {
   "cell_type": "markdown",
   "id": "16a3a101",
   "metadata": {},
   "source": [
    "# Notes on Data Set Structure\n",
    "1. We are only given augmented demonstrations\n",
    "2. We have around 1000 demonstrations for two_arm_box_cleanup dataset. Size around 5 GB\n",
    "3. Consists of two sub-tasks - one reaching the lid, and the other picking the lid off the ground and placing it in its target positon"
   ]
  },
  {
   "cell_type": "code",
   "execution_count": 37,
   "id": "51a2002a",
   "metadata": {},
   "outputs": [
    {
     "name": "stdout",
     "output_type": "stream",
     "text": [
      "Keys in 'action_dict':  <KeysViewHDF5 ['left_gripper', 'left_rel_pos', 'left_rel_rot_6d', 'left_rel_rot_axis_angle', 'right_gripper', 'right_rel_pos', 'right_rel_rot_6d', 'right_rel_rot_axis_angle']>\n",
      "<HDF5 dataset \"left_rel_rot_axis_angle\": shape (244, 3), type \"<f4\">\n",
      "\n",
      " ==== All keys and their values in demo_9 ==== \n",
      "\n",
      "action_dict: <HDF5 group \"/data/demo_9/action_dict\" (8 members)>\n",
      "actions: <HDF5 dataset \"actions\": shape (244, 24), type \"<f8\">\n",
      "datagen_info: <HDF5 group \"/data/demo_9/datagen_info\" (5 members)>\n",
      "obs: <HDF5 group \"/data/demo_9/obs\" (21 members)>\n",
      "states: <HDF5 dataset \"states\": shape (244, 103), type \"<f8\">\n",
      "\n",
      " ==== All keys and their values in action_dict of demo_9 ==== \n",
      "\n",
      "left_gripper: <HDF5 dataset \"left_gripper\": shape (244, 6), type \"<f4\">\n",
      "left_rel_pos: <HDF5 dataset \"left_rel_pos\": shape (244, 3), type \"<f4\">\n",
      "left_rel_rot_6d: <HDF5 dataset \"left_rel_rot_6d\": shape (244, 6), type \"<f4\">\n",
      "left_rel_rot_axis_angle: <HDF5 dataset \"left_rel_rot_axis_angle\": shape (244, 3), type \"<f4\">\n",
      "right_gripper: <HDF5 dataset \"right_gripper\": shape (244, 6), type \"<f4\">\n",
      "right_rel_pos: <HDF5 dataset \"right_rel_pos\": shape (244, 3), type \"<f4\">\n",
      "right_rel_rot_6d: <HDF5 dataset \"right_rel_rot_6d\": shape (244, 6), type \"<f4\">\n",
      "right_rel_rot_axis_angle: <HDF5 dataset \"right_rel_rot_axis_angle\": shape (244, 3), type \"<f4\">\n"
     ]
    }
   ],
   "source": [
    "print(\"Keys in 'action_dict': \", data['data']['demo_9']['action_dict'].keys())\n",
    "print(f\"{data['data']['demo_9']['action_dict']['left_rel_rot_axis_angle']}\")\n",
    "print()\n",
    "print(\" ==== All keys and their values in demo_9 ==== \")\n",
    "print()\n",
    "for key in data['data']['demo_9'].keys():\n",
    "    print(f\"{key}: {data['data']['demo_9'][key]}\")\n",
    "print()\n",
    "print(\" ==== All keys and their values in action_dict of demo_9 ==== \")\n",
    "print()\n",
    "for key in data['data']['demo_9']['action_dict'].keys():\n",
    "    print(f\"{key}: {data['data']['demo_9']['action_dict'][key]}\")"
   ]
  },
  {
   "cell_type": "markdown",
   "id": "df409f0d",
   "metadata": {},
   "source": [
    "# Notes on trajectory data\n",
    "\n",
    "- The dataset for task `two_arm_box_cleanup` consists of 1016 demonstrations.\n",
    "\n",
    "- Although trajectory lengths vary among the initial set of 10 demonstrations (between 209 and 244), most demonstrations post 30 seem to have a size of about 238 waypoints/state-action pairs. "
   ]
  },
  {
   "cell_type": "code",
   "execution_count": 15,
   "id": "13d75201",
   "metadata": {},
   "outputs": [
    {
     "data": {
      "text/plain": [
       "<HDF5 dataset \"actions\": shape (226, 24), type \"<f8\">"
      ]
     },
     "execution_count": 15,
     "metadata": {},
     "output_type": "execute_result"
    }
   ],
   "source": [
    "data['data']['demo_10']['actions']\n"
   ]
  },
  {
   "cell_type": "code",
   "execution_count": 28,
   "id": "fdfb46b0",
   "metadata": {},
   "outputs": [
    {
     "data": {
      "text/plain": [
       "array([ 7.53327273e-02, -2.81475012e-02,  7.30194213e-02, -4.37843846e-03,\n",
       "       -3.12801227e-02,  4.12576832e-04,  0.00000000e+00,  0.00000000e+00,\n",
       "        0.00000000e+00,  0.00000000e+00,  0.00000000e+00,  1.57079633e+00,\n",
       "       -7.66736512e-02, -4.66412965e-03, -2.63613784e-02, -2.01307777e-02,\n",
       "        2.47150920e-02,  3.56377698e-02,  0.00000000e+00,  0.00000000e+00,\n",
       "        0.00000000e+00,  0.00000000e+00,  0.00000000e+00,  1.57079633e+00])"
      ]
     },
     "execution_count": 28,
     "metadata": {},
     "output_type": "execute_result"
    }
   ],
   "source": [
    "data['data']['demo_10']['actions'][0]"
   ]
  },
  {
   "cell_type": "code",
   "execution_count": 29,
   "id": "55a5e24f",
   "metadata": {},
   "outputs": [
    {
     "name": "stdout",
     "output_type": "stream",
     "text": [
      "left_gripper: [0.        0.        0.        0.        0.        1.5707964]\n",
      "left_rel_pos: [-0.07667365 -0.00466413 -0.02636138]\n",
      "left_rel_rot_6d: [ 0.99905974 -0.03587291  0.02434704  0.03537547  0.9991625   0.02056342]\n",
      "left_rel_rot_axis_angle: [-0.02013078  0.02471509  0.03563777]\n",
      "right_gripper: [0.        0.        0.        0.        0.        1.5707964]\n",
      "right_rel_pos: [ 0.07533272 -0.0281475   0.07301942]\n",
      "right_rel_rot_6d: [ 9.9951071e-01 -3.4403487e-04 -3.1275824e-02  4.8098154e-04\n",
      "  9.9999034e-01  4.3712584e-03]\n",
      "right_rel_rot_axis_angle: [-0.00437844 -0.03128012  0.00041258]\n"
     ]
    }
   ],
   "source": [
    "for key in data['data']['demo_10']['action_dict'].keys():\n",
    "    print(f\"{key}: {data['data']['demo_10']['action_dict'][key][0]}\")"
   ]
  },
  {
   "cell_type": "markdown",
   "id": "3a2ec198",
   "metadata": {},
   "source": [
    "# Notes on Action Dict and Actions\n",
    "\n",
    "Action dict consists of additional information which actions does not. \n",
    "\n",
    "`Action Dict` consists of:\n",
    "- left_gripper: `<HDF5 dataset \"left_gripper\": shape (226, 6), type \"<f4\">`\n",
    "- left_rel_pos: `<HDF5 dataset \"left_rel_pos\": shape (226, 3), type \"<f4\">`\n",
    "- `left_rel_rot_6d`: `<HDF5 dataset \"left_rel_rot_6d\": shape (226, 6), type \"<f4\">`\n",
    "- left_rel_rot_axis_angle: `<HDF5 dataset \"left_rel_rot_axis_angle\": shape (226, 3), type \"<f4\">`\n",
    "- right_gripper: `<HDF5 dataset \"right_gripper\": shape (226, 6), type \"<f4\">`\n",
    "- right_rel_pos: `<HDF5 dataset \"right_rel_pos\": shape (226, 3), type \"<f4\">`\n",
    "- `right_rel_rot_6d`: `<HDF5 dataset \"right_rel_rot_6d\": shape (226, 6), type \"<f4\">`\n",
    "- right_rel_rot_axis_angle: `<HDF5 dataset \"right_rel_rot_axis_angle\": shape (226, 3), type \"<f4\">`\n",
    "\n",
    "Info not present in Actions is highlighted in Action_dict (rel_rot_6d arrays)\n",
    "\n",
    "Whereas, action dictionary consists of a subset of this information:\n",
    "- left_gripper: `<HDF5 dataset \"left_gripper\": shape (226, 6), type \"<f4\">`\n",
    "- left_rel_pos: `<HDF5 dataset \"left_rel_pos\": shape (226, 3), type \"<f4\">`\n",
    "- left_rel_rot_axis_angle: `<HDF5 dataset \"left_rel_rot_axis_angle\": shape (226, 3), type \"<f4\">`\n",
    "- right_gripper: `<HDF5 dataset \"right_gripper\": shape (226, 6), type \"<f4\">`\n",
    "- right_rel_pos: `<HDF5 dataset \"right_rel_pos\": shape (226, 3), type \"<f4\">`\n",
    "- right_rel_rot_axis_angle: `<HDF5 dataset \"right_rel_rot_axis_angle\": shape (226, 3), type \"<f4\">`"
   ]
  },
  {
   "cell_type": "code",
   "execution_count": 56,
   "id": "7e130336",
   "metadata": {},
   "outputs": [
    {
     "name": "stdout",
     "output_type": "stream",
     "text": [
      "Observations shape: <KeysViewHDF5 ['agentview_image', 'robot0_eef_pos', 'robot0_eef_quat', 'robot0_eef_quat_site', 'robot0_eye_in_hand_image', 'robot0_gripper_qpos', 'robot0_gripper_qvel', 'robot0_joint_pos', 'robot0_joint_pos_cos', 'robot0_joint_pos_sin', 'robot0_joint_vel', 'robot1_eef_pos', 'robot1_eef_quat', 'robot1_eef_quat_site', 'robot1_eye_in_hand_image', 'robot1_gripper_qpos', 'robot1_gripper_qvel', 'robot1_joint_pos', 'robot1_joint_pos_cos', 'robot1_joint_pos_sin', 'robot1_joint_vel']>\n"
     ]
    }
   ],
   "source": [
    "print(f\"Observations shape: {data['data']['demo_10']['obs'].keys()}\")"
   ]
  },
  {
   "cell_type": "code",
   "execution_count": 57,
   "id": "19a8d8bc",
   "metadata": {},
   "outputs": [
    {
     "name": "stdout",
     "output_type": "stream",
     "text": [
      "Shape of agentview_image: (226, 84, 84, 3)\n",
      "Shape of robot0_eye_in_hand_image: (226, 84, 84, 3)\n",
      "Shape of robot1_eye_in_hand_image: (226, 84, 84, 3)\n"
     ]
    }
   ],
   "source": [
    "'''\n",
    "Understanding images in the observation data\n",
    "'''\n",
    "image_data_keys = ['agentview_image', 'robot0_eye_in_hand_image', 'robot1_eye_in_hand_image']\n",
    "for key in image_data_keys:\n",
    "    print(f\"Shape of {key}: {data['data']['demo_10']['obs'][key].shape}\")\n",
    "# print(f\"I\")"
   ]
  },
  {
   "cell_type": "code",
   "execution_count": 63,
   "id": "c1a0dfb0",
   "metadata": {},
   "outputs": [
    {
     "name": "stdout",
     "output_type": "stream",
     "text": [
      "Robot quat site:  [-0.02326871  0.7010004   0.7127386   0.00779116]\n",
      "Robot quat:  [ 0.99966443  0.01094427  0.02196266 -0.00830017]\n",
      "\n",
      "\n",
      "\n",
      "Robot gripper qpos:  [ 1.30066807e+00  7.75580481e-02  1.82543191e-02  4.10195388e-03\n",
      " -5.08135294e-04  7.35969256e-04 -4.93038054e-04  6.49767654e-04\n",
      " -3.86284477e-04  8.49120038e-04 -2.42472530e-04  1.10449142e-03]\n",
      "Robot gripper qvel:  [-3.96775096e-03  3.03610544e-04  6.20536393e-04  7.77580005e-05\n",
      "  1.77170569e-03  7.21522975e-04  1.80967598e-03  7.47264181e-04\n",
      "  1.89508896e-03  6.77992170e-04  1.98500623e-03  5.48458338e-04]\n",
      "Robot joint pos:  [ 0.33953891  0.91302686  0.03717349 -1.92145061 -0.31936718  2.99751729\n",
      "  1.37168468]\n",
      "Robot joint vel:  [-0.06782659  0.23847568  0.20685003  0.31740933  0.29767983 -0.12474099\n",
      " -0.34644535]\n",
      "Robot eef pos:  [-0.01392331 -0.00947829  0.94100618]\n",
      "Robot eef quat:  [ 0.99540886  0.04293592  0.08343563 -0.01887321]\n",
      "\n",
      "\n",
      "\n"
     ]
    }
   ],
   "source": [
    "'''\n",
    "1. What is 'robot0_eef_quat_site'? What does it encode differently when compared to 'robot0_eef_quat'?\n",
    "2. What are 'robot0_gripper_qpos', 'robot0_gripper_qvel'? How are they different from 'robot0_eef_pos', 'robot0_eef_quat'?\n",
    "3. What are 'robot0_joint_pos_cos', 'robot0_joint_pos_sin'? Why do we need them, when we already have 'robot0_joint_pos'?\n",
    "'''\n",
    "print(\"Robot quat site: \", data['data']['demo_10']['obs']['robot0_eef_quat_site'][0])\n",
    "print(\"Robot quat: \", data['data']['demo_10']['obs']['robot0_eef_quat'][0])\n",
    "print(\"\\n\\n\")\n",
    "print(\"Robot gripper qpos: \", data['data']['demo_10']['obs']['robot0_gripper_qpos'][50])\n",
    "print(\"Robot gripper qvel: \", data['data']['demo_10']['obs']['robot0_gripper_qvel'][50])\n",
    "print(\"Robot joint pos: \", data['data']['demo_10']['obs']['robot0_joint_pos'][50])\n",
    "print(\"Robot joint vel: \", data['data']['demo_10']['obs']['robot0_joint_vel'][50])\n",
    "print(\"Robot eef pos: \", data['data']['demo_10']['obs']['robot0_eef_pos'][50])\n",
    "print(\"Robot eef quat: \", data['data']['demo_10']['obs']['robot0_eef_quat'][50])\n",
    "print(\"\\n\\n\")"
   ]
  },
  {
   "cell_type": "markdown",
   "id": "72840f2e",
   "metadata": {},
   "source": [
    "# Notes on Observations\n",
    "\n",
    "1. What is 'robot0_eef_quat_site'? What does it encode differently when compared to 'robot0_eef_quat'?\n",
    "   1. Robot quat site represents a site labelled for a robot end-effector that usually typically called 'tool-center-point', which is some distance offset from the gripper itself. \n",
    "2. What are 'robot0_gripper_qpos', 'robot0_gripper_qvel'? How are they different from 'robot0_eef_pos', 'robot0_eef_quat'?\n",
    "3. What are 'robot0_joint_pos_cos', 'robot0_joint_pos_sin'? Why do we need them, when we already have 'robot0_joint_pos'?"
   ]
  },
  {
   "cell_type": "code",
   "execution_count": 71,
   "id": "8e209754",
   "metadata": {},
   "outputs": [
    {
     "data": {
      "text/plain": [
       "<KeysViewHDF5 ['box', 'lid']>"
      ]
     },
     "execution_count": 71,
     "metadata": {},
     "output_type": "execute_result"
    }
   ],
   "source": [
    "data['data']['demo_10']['datagen_info']['object_poses'].keys()"
   ]
  },
  {
   "cell_type": "code",
   "execution_count": 72,
   "id": "565ca514",
   "metadata": {},
   "outputs": [
    {
     "data": {
      "text/plain": [
       "(<HDF5 dataset \"box\": shape (226, 4, 4), type \"<f8\">,\n",
       " <HDF5 dataset \"lid\": shape (226, 4, 4), type \"<f8\">)"
      ]
     },
     "execution_count": 72,
     "metadata": {},
     "output_type": "execute_result"
    }
   ],
   "source": [
    "data['data']['demo_10']['datagen_info']['object_poses']['box'], data['data']['demo_10']['datagen_info']['object_poses']['lid']"
   ]
  },
  {
   "cell_type": "code",
   "execution_count": 73,
   "id": "c6cc67f8",
   "metadata": {},
   "outputs": [
    {
     "data": {
      "text/plain": [
       "<KeysViewHDF5 ['eef_pose', 'gripper_action', 'object_poses', 'subtask_term_signals', 'target_pose']>"
      ]
     },
     "execution_count": 73,
     "metadata": {},
     "output_type": "execute_result"
    }
   ],
   "source": [
    "data['data']['demo_10']['datagen_info'].keys()"
   ]
  },
  {
   "cell_type": "code",
   "execution_count": 74,
   "id": "903bfcb1",
   "metadata": {},
   "outputs": [
    {
     "name": "stdout",
     "output_type": "stream",
     "text": [
      "Key: eef_pose\n",
      "Value: <HDF5 dataset \"eef_pose\": shape (226, 2, 4, 4), type \"<f8\">\n",
      "Key: gripper_action\n",
      "Value: <HDF5 dataset \"gripper_action\": shape (226, 2, 6), type \"<f8\">\n",
      "Key: object_poses\n",
      "Value: <HDF5 group \"/data/demo_10/datagen_info/object_poses\" (2 members)>\n",
      "Key: subtask_term_signals\n",
      "Value: <HDF5 group \"/data/demo_10/datagen_info/subtask_term_signals\" (1 members)>\n",
      "Key: target_pose\n",
      "Value: <HDF5 dataset \"target_pose\": shape (226, 2, 4, 4), type \"<f8\">\n"
     ]
    }
   ],
   "source": [
    "'''Printing how the data looks for each of the key in datagen_info\n",
    "'''\n",
    "for key in data['data']['demo_10']['datagen_info'].keys():\n",
    "    print(f\"Key: {key}\")\n",
    "    print(f\"Value: {data['data']['demo_10']['datagen_info'][key]}\")"
   ]
  },
  {
   "cell_type": "code",
   "execution_count": 77,
   "id": "334ef90b",
   "metadata": {},
   "outputs": [
    {
     "name": "stdout",
     "output_type": "stream",
     "text": [
      "EEF Pose 0: [[[-0.99879573 -0.04372889 -0.02224577 -0.13490092]\n",
      "  [-0.0215166  -0.0170755   0.99962266 -0.23224472]\n",
      "  [-0.04409225  0.9988975   0.01611404  1.08629194]\n",
      "  [ 0.          0.          0.          1.        ]]\n",
      "\n",
      " [[ 0.99576062 -0.09159092  0.00847903 -0.11707356]\n",
      "  [ 0.00788088 -0.00689029 -0.99994521  0.25813644]\n",
      "  [ 0.09164432  0.99577288 -0.00613927  1.0979786 ]\n",
      "  [ 0.          0.          0.          1.        ]]]\n",
      "Target pose 0: [[[-0.9979799  -0.05934271 -0.02268416 -0.13113429]\n",
      "  [-0.02183613 -0.01490012  0.99965052 -0.2336521 ]\n",
      "  [-0.05965997  0.99812646  0.01357421  1.08994291]\n",
      "  [ 0.          0.          0.          1.        ]]\n",
      "\n",
      " [[ 0.99650978 -0.07923135  0.02628012 -0.12090724]\n",
      "  [ 0.0264914   0.00161647 -0.99964773  0.25790323]\n",
      "  [ 0.07916096  0.99685494  0.00370978  1.09666053]\n",
      "  [ 0.          0.          0.          1.        ]]]\n",
      "\n",
      "\n",
      "EEF Pose 1: [[[-0.99820464 -0.05739496 -0.0171265  -0.13117135]\n",
      "  [-0.01632371 -0.01442688  0.99976267 -0.23540594]\n",
      "  [-0.05762842  0.99824731  0.01346408  1.09007912]\n",
      "  [ 0.          0.          0.          1.        ]]\n",
      "\n",
      " [[ 0.99541345 -0.09519956  0.00943974 -0.11708138]\n",
      "  [ 0.00901238 -0.00491814 -0.99994729  0.25680063]\n",
      "  [ 0.09524097  0.99544606 -0.00403761  1.09911369]\n",
      "  [ 0.          0.          0.          1.        ]]]\n",
      "Target pose 1: [[[-0.99692061 -0.07494323 -0.02308276 -0.12736765]\n",
      "  [-0.02218952 -0.01272991  0.99967273 -0.23505947]\n",
      "  [-0.07521255  0.99710654  0.01102776  1.09359388]\n",
      "  [ 0.          0.          0.          1.        ]]\n",
      "\n",
      " [[ 0.99650979 -0.07923122  0.02628017 -0.12474093]\n",
      "  [ 0.02649145  0.0016165  -0.99964773  0.25767003]\n",
      "  [ 0.07916083  0.99685495  0.0037098   1.09534246]\n",
      "  [ 0.          0.          0.          1.        ]]]\n"
     ]
    }
   ],
   "source": [
    "print(f\"EEF Pose 0: {data['data']['demo_10']['datagen_info']['eef_pose'][0]}\")\n",
    "print(f\"Target pose 0: {data['data']['demo_10']['datagen_info']['target_pose'][0]}\")\n",
    "\n",
    "print('\\n')\n",
    "\n",
    "print(f\"EEF Pose 1: {data['data']['demo_10']['datagen_info']['eef_pose'][1]}\")\n",
    "print(f\"Target pose 1: {data['data']['demo_10']['datagen_info']['target_pose'][1]}\")"
   ]
  },
  {
   "cell_type": "code",
   "execution_count": null,
   "id": "70111518",
   "metadata": {},
   "outputs": [],
   "source": [
    "'''\n",
    "Are actions really just delta between target and current poses?\n",
    "\n",
    "Nope, actions are actually the exact differences between current pose and the reached pose (delta pose). Whereas,\n",
    "the target pose is the controller's target for the next step, which makes it execute the delta pose. \n",
    "'''\n"
   ]
  }
 ],
 "metadata": {
  "kernelspec": {
   "display_name": "dexmimicgen",
   "language": "python",
   "name": "python3"
  },
  "language_info": {
   "codemirror_mode": {
    "name": "ipython",
    "version": 3
   },
   "file_extension": ".py",
   "mimetype": "text/x-python",
   "name": "python",
   "nbconvert_exporter": "python",
   "pygments_lexer": "ipython3",
   "version": "3.9.23"
  }
 },
 "nbformat": 4,
 "nbformat_minor": 5
}
