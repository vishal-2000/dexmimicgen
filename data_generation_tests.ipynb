{
 "cells": [
  {
   "cell_type": "markdown",
   "id": "f432279e",
   "metadata": {},
   "source": [
    "# Data Generation (Dex Mimic Gen)\n",
    "\n",
    "Task 1:\n",
    "1. Coordinated Task - Pickup Tray\n",
    "\n",
    "- [x] Load a dual-robot environment on Robosuite\n",
    "- [x] Record a dual-robot random-action video\n",
    "- [x] Extract a demonstration from the given dataset and visualize\n",
    "- [x] Augment more object states and Visualize original trajectory execution on them\n",
    "- [ ] Implement DexMimicGen's data aug strategy and visualize the new trajectories on these augmented states|"
   ]
  },
  {
   "cell_type": "code",
   "execution_count": 1,
   "id": "b67570c2",
   "metadata": {},
   "outputs": [
    {
     "name": "stderr",
     "output_type": "stream",
     "text": [
      "\u001b[1m\u001b[33m[robosuite WARNING] \u001b[0mNo private macro file found! (macros.py:57)\n",
      "\u001b[1m\u001b[33m[robosuite WARNING] \u001b[0mIt is recommended to use a private macro file (macros.py:58)\n",
      "\u001b[1m\u001b[33m[robosuite WARNING] \u001b[0mTo setup, run: python /home/vishal/Volume_E/Active/Gap_year/grand-project-2025/deepak/robosuite/robosuite/scripts/setup_macros.py (macros.py:59)\n",
      "\u001b[1m\u001b[33m[robosuite WARNING] \u001b[0mCould not import robosuite_models. Some robots may not be available. If you want to use these robots, please install robosuite_models from source (https://github.com/ARISE-Initiative/robosuite_models) or through pip install. (__init__.py:30)\n",
      "\u001b[1m\u001b[33m[robosuite WARNING] \u001b[0mCould not load the mink-based whole-body IK. Make sure you install related import properly, otherwise you will not be able to use the default IK controller setting for GR1 robot. (__init__.py:40)\n"
     ]
    }
   ],
   "source": [
    "import robosuite \n",
    "import dexmimicgen  \n",
    "\n",
    "import h5py \n",
    "import imageio \n",
    "import numpy as np\n",
    "import time \n",
    "import os\n",
    "import json"
   ]
  },
  {
   "cell_type": "code",
   "execution_count": 2,
   "id": "48775f1a",
   "metadata": {},
   "outputs": [
    {
     "name": "stdout",
     "output_type": "stream",
     "text": [
      "{'env_name': 'TwoArmBoxCleanup', 'env_version': '1.5.1', 'type': 1, 'env_kwargs': {'robots': ['PandaDexRH', 'PandaDexLH'], 'controller_configs': {'type': 'BASIC', 'body_parts': {'right': {'type': 'OSC_POSE', 'input_max': 1, 'input_min': -1, 'output_max': [0.05, 0.05, 0.05, 0.5, 0.5, 0.5], 'output_min': [-0.05, -0.05, -0.05, -0.5, -0.5, -0.5], 'kp': 150, 'damping_ratio': 1, 'impedance_mode': 'fixed', 'kp_limits': [0, 300], 'damping_ratio_limits': [0, 10], 'position_limits': None, 'orientation_limits': None, 'uncouple_pos_ori': True, 'input_type': 'delta', 'input_ref_frame': 'base', 'interpolation': None, 'ramp_ratio': 0.2, 'gripper': {'type': 'GRIP', 'use_action_scaling': False}}}}, 'translucent_robot': False, 'env_configuration': 'parallel', 'reward_shaping': False, 'camera_names': ['agentview', 'robot0_eye_in_hand', 'robot1_eye_in_hand'], 'camera_heights': 84, 'camera_widths': 84, 'has_renderer': False, 'has_offscreen_renderer': True, 'ignore_done': True, 'use_object_obs': True, 'use_camera_obs': True, 'camera_depths': False, 'render_gpu_device_id': 0, 'env_lang': None}}\n"
     ]
    }
   ],
   "source": [
    "'''\n",
    "\n",
    "1. Loading dual robot environment\n",
    "'''\n",
    "\n",
    "def get_env_metadata_from_dataset(dataset_path, ds_format=\"robomimic\"):\n",
    "    \"\"\"\n",
    "    Retrieves env metadata from dataset.\n",
    "\n",
    "    Args:\n",
    "        dataset_path (str): path to dataset\n",
    "\n",
    "    Returns:\n",
    "        env_meta (dict): environment metadata. Contains 3 keys:\n",
    "\n",
    "            :`'env_name'`: name of environment\n",
    "            :`'type'`: type of environment, should be a value in EB.EnvType\n",
    "            :`'env_kwargs'`: dictionary of keyword arguments to pass to environment constructor\n",
    "    \"\"\"\n",
    "    dataset_path = os.path.expanduser(dataset_path)\n",
    "    f = h5py.File(dataset_path, \"r\")\n",
    "    if ds_format == \"robomimic\":\n",
    "        env_meta = json.loads(f[\"data\"].attrs[\"env_args\"])\n",
    "    else:\n",
    "        raise ValueError\n",
    "    f.close()\n",
    "    return env_meta\n",
    "\n",
    "dataset_path = \"/home/vishal/Volume_E/Active/Gap_year/grand-project-2025/deepak/dexmimicgen/datasets/two_arm_box_cleanup.hdf5\"\n",
    "\n",
    "env_meta = get_env_metadata_from_dataset(dataset_path)\n",
    "print(env_meta)"
   ]
  },
  {
   "cell_type": "code",
   "execution_count": 3,
   "id": "021f926e",
   "metadata": {},
   "outputs": [],
   "source": [
    "write_to_video = False\n",
    "\n",
    "env_kwargs = env_meta['env_kwargs']\n",
    "env_kwargs[\"env_name\"] = env_meta[\"env_name\"]\n",
    "env_kwargs[\"has_renderer\"] = True\n",
    "env_kwargs[\"renderer\"] = \"mjviewer\"\n",
    "env_kwargs[\"has_offscreen_renderer\"] = write_to_video # False # write_video\n",
    "env_kwargs[\"use_camera_obs\"] = False\n",
    "\n",
    "env_kwargs.pop(\"env_lang\")\n",
    "\n",
    "env = robosuite.make(**env_kwargs)"
   ]
  },
  {
   "cell_type": "code",
   "execution_count": 4,
   "id": "c1bbb72b",
   "metadata": {},
   "outputs": [],
   "source": [
    "# / = env.reset()"
   ]
  },
  {
   "cell_type": "code",
   "execution_count": 4,
   "id": "000bf2a8",
   "metadata": {},
   "outputs": [],
   "source": [
    "env.action_dim\n",
    "env.reset() # reset kills the viewer. So, do not just reset stuff. Instead, reset, then set action to zero, and then render\n",
    "# env.render()\n",
    "env.step(np.zeros(env.action_dim))\n",
    "env.render()"
   ]
  },
  {
   "cell_type": "code",
   "execution_count": 90,
   "id": "86178b79",
   "metadata": {},
   "outputs": [
    {
     "name": "stdout",
     "output_type": "stream",
     "text": [
      "False\n"
     ]
    }
   ],
   "source": [
    "print(write_to_video)"
   ]
  },
  {
   "cell_type": "code",
   "execution_count": 91,
   "id": "62475496",
   "metadata": {},
   "outputs": [],
   "source": [
    "'''\n",
    "Run without writing a video\n",
    "'''\n",
    "\n",
    "if not write_to_video:\n",
    "    for i in range(1000):\n",
    "        action = np.random.randn(env.action_dim) # 24\n",
    "        obs, reward, done, info = env.step(action)\n",
    "        env.render()\n",
    "else:\n",
    "    video_filename = \"two_arm_box_cleanup_random.mp4\"\n",
    "    video_path = os.path.join(\"/home/vishal/Volume_E/Active/Gap_year/grand-project-2025/deepak/dev/saved_videos\", video_filename)\n",
    "    print(f\"Saving video to {video_path}\")\n",
    "    writer = imageio.get_writer(video_path, fps=30)\n",
    "    for i in range(100):\n",
    "        action = np.random.randn(env.action_dim) # 24\n",
    "        obs, reward, done, info = env.step(action)\n",
    "        frame = env.sim.render(height=512, width=512, camera_name=None)\n",
    "        # Frame generated is inverted (just upside down)\n",
    "        frame = np.flipud(frame)\n",
    "        # frame = np.fliplr(frame)\n",
    "        writer.append_data(frame)\n",
    "    writer.close()"
   ]
  },
  {
   "cell_type": "code",
   "execution_count": 5,
   "id": "b17e6d59",
   "metadata": {},
   "outputs": [
    {
     "name": "stdout",
     "output_type": "stream",
     "text": [
      "Keys in the dataset: <KeysViewHDF5 ['demo_0', 'demo_1', 'demo_10', 'demo_100', 'demo_1000', 'demo_1001', 'demo_1002', 'demo_1003', 'demo_1004', 'demo_1005', 'demo_1006', 'demo_1007', 'demo_1008', 'demo_1009', 'demo_101', 'demo_1010', 'demo_1011', 'demo_1012', 'demo_1013', 'demo_1014', 'demo_1015', 'demo_102', 'demo_103', 'demo_104', 'demo_105', 'demo_106', 'demo_107', 'demo_108', 'demo_109', 'demo_11', 'demo_110', 'demo_111', 'demo_112', 'demo_113', 'demo_114', 'demo_115', 'demo_116', 'demo_117', 'demo_118', 'demo_119', 'demo_12', 'demo_120', 'demo_121', 'demo_122', 'demo_123', 'demo_124', 'demo_125', 'demo_126', 'demo_127', 'demo_128', 'demo_129', 'demo_13', 'demo_130', 'demo_131', 'demo_132', 'demo_133', 'demo_134', 'demo_135', 'demo_136', 'demo_137', 'demo_138', 'demo_139', 'demo_14', 'demo_140', 'demo_141', 'demo_142', 'demo_143', 'demo_144', 'demo_145', 'demo_146', 'demo_147', 'demo_148', 'demo_149', 'demo_15', 'demo_150', 'demo_151', 'demo_152', 'demo_153', 'demo_154', 'demo_155', 'demo_156', 'demo_157', 'demo_158', 'demo_159', 'demo_16', 'demo_160', 'demo_161', 'demo_162', 'demo_163', 'demo_164', 'demo_165', 'demo_166', 'demo_167', 'demo_168', 'demo_169', 'demo_17', 'demo_170', 'demo_171', 'demo_172', 'demo_173', 'demo_174', 'demo_175', 'demo_176', 'demo_177', 'demo_178', 'demo_179', 'demo_18', 'demo_180', 'demo_181', 'demo_182', 'demo_183', 'demo_184', 'demo_185', 'demo_186', 'demo_187', 'demo_188', 'demo_189', 'demo_19', 'demo_190', 'demo_191', 'demo_192', 'demo_193', 'demo_194', 'demo_195', 'demo_196', 'demo_197', 'demo_198', 'demo_199', 'demo_2', 'demo_20', 'demo_200', 'demo_201', 'demo_202', 'demo_203', 'demo_204', 'demo_205', 'demo_206', 'demo_207', 'demo_208', 'demo_209', 'demo_21', 'demo_210', 'demo_211', 'demo_212', 'demo_213', 'demo_214', 'demo_215', 'demo_216', 'demo_217', 'demo_218', 'demo_219', 'demo_22', 'demo_220', 'demo_221', 'demo_222', 'demo_223', 'demo_224', 'demo_225', 'demo_226', 'demo_227', 'demo_228', 'demo_229', 'demo_23', 'demo_230', 'demo_231', 'demo_232', 'demo_233', 'demo_234', 'demo_235', 'demo_236', 'demo_237', 'demo_238', 'demo_239', 'demo_24', 'demo_240', 'demo_241', 'demo_242', 'demo_243', 'demo_244', 'demo_245', 'demo_246', 'demo_247', 'demo_248', 'demo_249', 'demo_25', 'demo_250', 'demo_251', 'demo_252', 'demo_253', 'demo_254', 'demo_255', 'demo_256', 'demo_257', 'demo_258', 'demo_259', 'demo_26', 'demo_260', 'demo_261', 'demo_262', 'demo_263', 'demo_264', 'demo_265', 'demo_266', 'demo_267', 'demo_268', 'demo_269', 'demo_27', 'demo_270', 'demo_271', 'demo_272', 'demo_273', 'demo_274', 'demo_275', 'demo_276', 'demo_277', 'demo_278', 'demo_279', 'demo_28', 'demo_280', 'demo_281', 'demo_282', 'demo_283', 'demo_284', 'demo_285', 'demo_286', 'demo_287', 'demo_288', 'demo_289', 'demo_29', 'demo_290', 'demo_291', 'demo_292', 'demo_293', 'demo_294', 'demo_295', 'demo_296', 'demo_297', 'demo_298', 'demo_299', 'demo_3', 'demo_30', 'demo_300', 'demo_301', 'demo_302', 'demo_303', 'demo_304', 'demo_305', 'demo_306', 'demo_307', 'demo_308', 'demo_309', 'demo_31', 'demo_310', 'demo_311', 'demo_312', 'demo_313', 'demo_314', 'demo_315', 'demo_316', 'demo_317', 'demo_318', 'demo_319', 'demo_32', 'demo_320', 'demo_321', 'demo_322', 'demo_323', 'demo_324', 'demo_325', 'demo_326', 'demo_327', 'demo_328', 'demo_329', 'demo_33', 'demo_330', 'demo_331', 'demo_332', 'demo_333', 'demo_334', 'demo_335', 'demo_336', 'demo_337', 'demo_338', 'demo_339', 'demo_34', 'demo_340', 'demo_341', 'demo_342', 'demo_343', 'demo_344', 'demo_345', 'demo_346', 'demo_347', 'demo_348', 'demo_349', 'demo_35', 'demo_350', 'demo_351', 'demo_352', 'demo_353', 'demo_354', 'demo_355', 'demo_356', 'demo_357', 'demo_358', 'demo_359', 'demo_36', 'demo_360', 'demo_361', 'demo_362', 'demo_363', 'demo_364', 'demo_365', 'demo_366', 'demo_367', 'demo_368', 'demo_369', 'demo_37', 'demo_370', 'demo_371', 'demo_372', 'demo_373', 'demo_374', 'demo_375', 'demo_376', 'demo_377', 'demo_378', 'demo_379', 'demo_38', 'demo_380', 'demo_381', 'demo_382', 'demo_383', 'demo_384', 'demo_385', 'demo_386', 'demo_387', 'demo_388', 'demo_389', 'demo_39', 'demo_390', 'demo_391', 'demo_392', 'demo_393', 'demo_394', 'demo_395', 'demo_396', 'demo_397', 'demo_398', 'demo_399', 'demo_4', 'demo_40', 'demo_400', 'demo_401', 'demo_402', 'demo_403', 'demo_404', 'demo_405', 'demo_406', 'demo_407', 'demo_408', 'demo_409', 'demo_41', 'demo_410', 'demo_411', 'demo_412', 'demo_413', 'demo_414', 'demo_415', 'demo_416', 'demo_417', 'demo_418', 'demo_419', 'demo_42', 'demo_420', 'demo_421', 'demo_422', 'demo_423', 'demo_424', 'demo_425', 'demo_426', 'demo_427', 'demo_428', 'demo_429', 'demo_43', 'demo_430', 'demo_431', 'demo_432', 'demo_433', 'demo_434', 'demo_435', 'demo_436', 'demo_437', 'demo_438', 'demo_439', 'demo_44', 'demo_440', 'demo_441', 'demo_442', 'demo_443', 'demo_444', 'demo_445', 'demo_446', 'demo_447', 'demo_448', 'demo_449', 'demo_45', 'demo_450', 'demo_451', 'demo_452', 'demo_453', 'demo_454', 'demo_455', 'demo_456', 'demo_457', 'demo_458', 'demo_459', 'demo_46', 'demo_460', 'demo_461', 'demo_462', 'demo_463', 'demo_464', 'demo_465', 'demo_466', 'demo_467', 'demo_468', 'demo_469', 'demo_47', 'demo_470', 'demo_471', 'demo_472', 'demo_473', 'demo_474', 'demo_475', 'demo_476', 'demo_477', 'demo_478', 'demo_479', 'demo_48', 'demo_480', 'demo_481', 'demo_482', 'demo_483', 'demo_484', 'demo_485', 'demo_486', 'demo_487', 'demo_488', 'demo_489', 'demo_49', 'demo_490', 'demo_491', 'demo_492', 'demo_493', 'demo_494', 'demo_495', 'demo_496', 'demo_497', 'demo_498', 'demo_499', 'demo_5', 'demo_50', 'demo_500', 'demo_501', 'demo_502', 'demo_503', 'demo_504', 'demo_505', 'demo_506', 'demo_507', 'demo_508', 'demo_509', 'demo_51', 'demo_510', 'demo_511', 'demo_512', 'demo_513', 'demo_514', 'demo_515', 'demo_516', 'demo_517', 'demo_518', 'demo_519', 'demo_52', 'demo_520', 'demo_521', 'demo_522', 'demo_523', 'demo_524', 'demo_525', 'demo_526', 'demo_527', 'demo_528', 'demo_529', 'demo_53', 'demo_530', 'demo_531', 'demo_532', 'demo_533', 'demo_534', 'demo_535', 'demo_536', 'demo_537', 'demo_538', 'demo_539', 'demo_54', 'demo_540', 'demo_541', 'demo_542', 'demo_543', 'demo_544', 'demo_545', 'demo_546', 'demo_547', 'demo_548', 'demo_549', 'demo_55', 'demo_550', 'demo_551', 'demo_552', 'demo_553', 'demo_554', 'demo_555', 'demo_556', 'demo_557', 'demo_558', 'demo_559', 'demo_56', 'demo_560', 'demo_561', 'demo_562', 'demo_563', 'demo_564', 'demo_565', 'demo_566', 'demo_567', 'demo_568', 'demo_569', 'demo_57', 'demo_570', 'demo_571', 'demo_572', 'demo_573', 'demo_574', 'demo_575', 'demo_576', 'demo_577', 'demo_578', 'demo_579', 'demo_58', 'demo_580', 'demo_581', 'demo_582', 'demo_583', 'demo_584', 'demo_585', 'demo_586', 'demo_587', 'demo_588', 'demo_589', 'demo_59', 'demo_590', 'demo_591', 'demo_592', 'demo_593', 'demo_594', 'demo_595', 'demo_596', 'demo_597', 'demo_598', 'demo_599', 'demo_6', 'demo_60', 'demo_600', 'demo_601', 'demo_602', 'demo_603', 'demo_604', 'demo_605', 'demo_606', 'demo_607', 'demo_608', 'demo_609', 'demo_61', 'demo_610', 'demo_611', 'demo_612', 'demo_613', 'demo_614', 'demo_615', 'demo_616', 'demo_617', 'demo_618', 'demo_619', 'demo_62', 'demo_620', 'demo_621', 'demo_622', 'demo_623', 'demo_624', 'demo_625', 'demo_626', 'demo_627', 'demo_628', 'demo_629', 'demo_63', 'demo_630', 'demo_631', 'demo_632', 'demo_633', 'demo_634', 'demo_635', 'demo_636', 'demo_637', 'demo_638', 'demo_639', 'demo_64', 'demo_640', 'demo_641', 'demo_642', 'demo_643', 'demo_644', 'demo_645', 'demo_646', 'demo_647', 'demo_648', 'demo_649', 'demo_65', 'demo_650', 'demo_651', 'demo_652', 'demo_653', 'demo_654', 'demo_655', 'demo_656', 'demo_657', 'demo_658', 'demo_659', 'demo_66', 'demo_660', 'demo_661', 'demo_662', 'demo_663', 'demo_664', 'demo_665', 'demo_666', 'demo_667', 'demo_668', 'demo_669', 'demo_67', 'demo_670', 'demo_671', 'demo_672', 'demo_673', 'demo_674', 'demo_675', 'demo_676', 'demo_677', 'demo_678', 'demo_679', 'demo_68', 'demo_680', 'demo_681', 'demo_682', 'demo_683', 'demo_684', 'demo_685', 'demo_686', 'demo_687', 'demo_688', 'demo_689', 'demo_69', 'demo_690', 'demo_691', 'demo_692', 'demo_693', 'demo_694', 'demo_695', 'demo_696', 'demo_697', 'demo_698', 'demo_699', 'demo_7', 'demo_70', 'demo_700', 'demo_701', 'demo_702', 'demo_703', 'demo_704', 'demo_705', 'demo_706', 'demo_707', 'demo_708', 'demo_709', 'demo_71', 'demo_710', 'demo_711', 'demo_712', 'demo_713', 'demo_714', 'demo_715', 'demo_716', 'demo_717', 'demo_718', 'demo_719', 'demo_72', 'demo_720', 'demo_721', 'demo_722', 'demo_723', 'demo_724', 'demo_725', 'demo_726', 'demo_727', 'demo_728', 'demo_729', 'demo_73', 'demo_730', 'demo_731', 'demo_732', 'demo_733', 'demo_734', 'demo_735', 'demo_736', 'demo_737', 'demo_738', 'demo_739', 'demo_74', 'demo_740', 'demo_741', 'demo_742', 'demo_743', 'demo_744', 'demo_745', 'demo_746', 'demo_747', 'demo_748', 'demo_749', 'demo_75', 'demo_750', 'demo_751', 'demo_752', 'demo_753', 'demo_754', 'demo_755', 'demo_756', 'demo_757', 'demo_758', 'demo_759', 'demo_76', 'demo_760', 'demo_761', 'demo_762', 'demo_763', 'demo_764', 'demo_765', 'demo_766', 'demo_767', 'demo_768', 'demo_769', 'demo_77', 'demo_770', 'demo_771', 'demo_772', 'demo_773', 'demo_774', 'demo_775', 'demo_776', 'demo_777', 'demo_778', 'demo_779', 'demo_78', 'demo_780', 'demo_781', 'demo_782', 'demo_783', 'demo_784', 'demo_785', 'demo_786', 'demo_787', 'demo_788', 'demo_789', 'demo_79', 'demo_790', 'demo_791', 'demo_792', 'demo_793', 'demo_794', 'demo_795', 'demo_796', 'demo_797', 'demo_798', 'demo_799', 'demo_8', 'demo_80', 'demo_800', 'demo_801', 'demo_802', 'demo_803', 'demo_804', 'demo_805', 'demo_806', 'demo_807', 'demo_808', 'demo_809', 'demo_81', 'demo_810', 'demo_811', 'demo_812', 'demo_813', 'demo_814', 'demo_815', 'demo_816', 'demo_817', 'demo_818', 'demo_819', 'demo_82', 'demo_820', 'demo_821', 'demo_822', 'demo_823', 'demo_824', 'demo_825', 'demo_826', 'demo_827', 'demo_828', 'demo_829', 'demo_83', 'demo_830', 'demo_831', 'demo_832', 'demo_833', 'demo_834', 'demo_835', 'demo_836', 'demo_837', 'demo_838', 'demo_839', 'demo_84', 'demo_840', 'demo_841', 'demo_842', 'demo_843', 'demo_844', 'demo_845', 'demo_846', 'demo_847', 'demo_848', 'demo_849', 'demo_85', 'demo_850', 'demo_851', 'demo_852', 'demo_853', 'demo_854', 'demo_855', 'demo_856', 'demo_857', 'demo_858', 'demo_859', 'demo_86', 'demo_860', 'demo_861', 'demo_862', 'demo_863', 'demo_864', 'demo_865', 'demo_866', 'demo_867', 'demo_868', 'demo_869', 'demo_87', 'demo_870', 'demo_871', 'demo_872', 'demo_873', 'demo_874', 'demo_875', 'demo_876', 'demo_877', 'demo_878', 'demo_879', 'demo_88', 'demo_880', 'demo_881', 'demo_882', 'demo_883', 'demo_884', 'demo_885', 'demo_886', 'demo_887', 'demo_888', 'demo_889', 'demo_89', 'demo_890', 'demo_891', 'demo_892', 'demo_893', 'demo_894', 'demo_895', 'demo_896', 'demo_897', 'demo_898', 'demo_899', 'demo_9', 'demo_90', 'demo_900', 'demo_901', 'demo_902', 'demo_903', 'demo_904', 'demo_905', 'demo_906', 'demo_907', 'demo_908', 'demo_909', 'demo_91', 'demo_910', 'demo_911', 'demo_912', 'demo_913', 'demo_914', 'demo_915', 'demo_916', 'demo_917', 'demo_918', 'demo_919', 'demo_92', 'demo_920', 'demo_921', 'demo_922', 'demo_923', 'demo_924', 'demo_925', 'demo_926', 'demo_927', 'demo_928', 'demo_929', 'demo_93', 'demo_930', 'demo_931', 'demo_932', 'demo_933', 'demo_934', 'demo_935', 'demo_936', 'demo_937', 'demo_938', 'demo_939', 'demo_94', 'demo_940', 'demo_941', 'demo_942', 'demo_943', 'demo_944', 'demo_945', 'demo_946', 'demo_947', 'demo_948', 'demo_949', 'demo_95', 'demo_950', 'demo_951', 'demo_952', 'demo_953', 'demo_954', 'demo_955', 'demo_956', 'demo_957', 'demo_958', 'demo_959', 'demo_96', 'demo_960', 'demo_961', 'demo_962', 'demo_963', 'demo_964', 'demo_965', 'demo_966', 'demo_967', 'demo_968', 'demo_969', 'demo_97', 'demo_970', 'demo_971', 'demo_972', 'demo_973', 'demo_974', 'demo_975', 'demo_976', 'demo_977', 'demo_978', 'demo_979', 'demo_98', 'demo_980', 'demo_981', 'demo_982', 'demo_983', 'demo_984', 'demo_985', 'demo_986', 'demo_987', 'demo_988', 'demo_989', 'demo_99', 'demo_990', 'demo_991', 'demo_992', 'demo_993', 'demo_994', 'demo_995', 'demo_996', 'demo_997', 'demo_998', 'demo_999']>\n",
      "Number of demonstrations in the dataset: 1016\n",
      "Length of demo demo_10: 226\n",
      "Observations shape: <KeysViewHDF5 ['agentview_image', 'robot0_eef_pos', 'robot0_eef_quat', 'robot0_eef_quat_site', 'robot0_eye_in_hand_image', 'robot0_gripper_qpos', 'robot0_gripper_qvel', 'robot0_joint_pos', 'robot0_joint_pos_cos', 'robot0_joint_pos_sin', 'robot0_joint_vel', 'robot1_eef_pos', 'robot1_eef_quat', 'robot1_eef_quat_site', 'robot1_eye_in_hand_image', 'robot1_gripper_qpos', 'robot1_gripper_qvel', 'robot1_joint_pos', 'robot1_joint_pos_cos', 'robot1_joint_pos_sin', 'robot1_joint_vel']>\n",
      "Actions shape: (226, 24)\n",
      "Actions: <HDF5 dataset \"actions\": shape (226, 24), type \"<f8\">\n",
      "Actions shape: (226, 24)\n",
      "Action at step 0: [ 7.53327273e-02 -2.81475012e-02  7.30194213e-02 -4.37843846e-03\n",
      " -3.12801227e-02  4.12576832e-04  0.00000000e+00  0.00000000e+00\n",
      "  0.00000000e+00  0.00000000e+00  0.00000000e+00  1.57079633e+00\n",
      " -7.66736512e-02 -4.66412965e-03 -2.63613784e-02 -2.01307777e-02\n",
      "  2.47150920e-02  3.56377698e-02  0.00000000e+00  0.00000000e+00\n",
      "  0.00000000e+00  0.00000000e+00  0.00000000e+00  1.57079633e+00]\n"
     ]
    }
   ],
   "source": [
    "'''\n",
    "Extracting a demonstration from the dataset\n",
    "'''\n",
    "\n",
    "data = h5py.File(dataset_path, \"r\")\n",
    "print(f\"Keys in the dataset: {data['data'].keys()}\")\n",
    "print(f\"Number of demonstrations in the dataset: {len(data['data'].keys())}\")\n",
    "demo_id = 'demo_10'\n",
    "print(f\"Length of demo {demo_id}: {data['data'][demo_id]['obs']['robot0_eef_pos'].shape[0]}\")\n",
    "print(f\"Observations shape: {data['data'][demo_id]['obs'].keys()}\")\n",
    "print(f\"Actions shape: {data['data'][demo_id]['actions'].shape}\")\n",
    "print(f\"Actions: {data['data'][demo_id]['actions']}\")\n",
    "print(f\"Actions shape: {data['data'][demo_id]['actions'].shape}\")\n",
    "print(f\"Action at step 0: {data['data'][demo_id]['actions'][0]}\")\n",
    "\n",
    "action_trajectory = data['data'][demo_id]['actions']\n",
    "obs_trajectory = data['data'][demo_id]['obs']\n",
    "states_trajectory = data['data'][demo_id]['states']"
   ]
  },
  {
   "cell_type": "code",
   "execution_count": null,
   "id": "7f504938",
   "metadata": {},
   "outputs": [],
   "source": []
  },
  {
   "cell_type": "code",
   "execution_count": 6,
   "id": "6ebe9ec0",
   "metadata": {},
   "outputs": [],
   "source": [
    "# Reset simulation to the starting state of the demonstration\n",
    "env.reset()\n",
    "env.sim.set_state_from_flattened(states_trajectory[25])\n",
    "env.sim.forward()"
   ]
  },
  {
   "cell_type": "code",
   "execution_count": 7,
   "id": "ec8396ed",
   "metadata": {},
   "outputs": [],
   "source": [
    "env.render()\n",
    "env.step(np.zeros(env.action_dim))\n",
    "env.render()"
   ]
  },
  {
   "cell_type": "code",
   "execution_count": 8,
   "id": "e2d9f3d6",
   "metadata": {},
   "outputs": [],
   "source": [
    "def just_reset(env, state):\n",
    "    # The following resets the state\n",
    "    env.reset()\n",
    "    # env.sim.set_state_from_flattened(state)\n",
    "    # env.sim.forward()\n",
    "\n",
    "    # This part is just to visualize the state after resetting\n",
    "    env.render()\n",
    "    env.step(np.zeros(env.action_dim))\n",
    "    env.render()\n",
    "\n",
    "def reset_to_state(env, state):\n",
    "    # The following resets the state\n",
    "    env.reset()\n",
    "    env.sim.set_state_from_flattened(state)\n",
    "    env.sim.forward()\n",
    "\n",
    "    # This part is just to visualize the state after resetting\n",
    "    env.render()\n",
    "    env.step(np.zeros(env.action_dim))\n",
    "    env.render()"
   ]
  },
  {
   "cell_type": "code",
   "execution_count": 11,
   "id": "855abd75",
   "metadata": {},
   "outputs": [],
   "source": [
    "'''\n",
    "Replay a demonstration\n",
    "'''\n",
    "# reset_to_state(env, states_trajectory[0])\n",
    "just_reset(env, states_trajectory[25])\n",
    "\n",
    "for i in range(action_trajectory.shape[0]):\n",
    "    action = action_trajectory[i]\n",
    "    obs, reward, done, info = env.step(action)\n",
    "    env.render()\n",
    "    time.sleep(0.05)"
   ]
  },
  {
   "cell_type": "code",
   "execution_count": 105,
   "id": "9fa81c54",
   "metadata": {},
   "outputs": [],
   "source": [
    "'''\n",
    "\n",
    "Perturb object states and visualize original trajectory execution on them\n",
    "'''\n",
    "\n",
    "# Reset to initial state\n",
    "reset_to_state(env, states_trajectory[0])\n",
    "# Perturb object states\n",
    "\n",
    "env.reset() # This alone perturbs the object states\n",
    "new_initial_state = env.get_state()\n",
    "\n",
    "# initial_box_pos = env.sim.data.get_body_xpos('box')\n",
    "# initial_lid_pos = env.sim.data.get_body_xpos('lid')\n",
    "# print(f\"Initial box pos: {initial_box_pos}, Initial lid pos: {initial_lid_pos}\")\n",
    "# env.sim.data.set_joint_qpos('box_x', initial_box_pos[0] + 0.1)\n",
    "# env.sim.data.set_joint_qpos('box_y', initial_box_pos[1] + 0.1)\n",
    "# env.sim.data.set_joint_qpos('lid_x', initial_lid_pos[0] + 0.1)\n",
    "# env.sim.data.set_joint_qpos('lid_y', initial_lid_pos[1] + 0.1)\n",
    "# env.sim.forward()\n",
    "# perturbed_box_pos = env.sim.data.get_body_xpos('box')\n",
    "# perturbed_lid_pos = env.sim.data.get_body_xpos('lid')\n",
    "# print(f\"Perturbed box pos: {perturbed_box_pos}, Perturbed lid pos: {perturbed_lid_pos}\")        \n",
    "\n",
    "# env.step(np.zeros(env.action_dim))\n",
    "# env.render()"
   ]
  },
  {
   "cell_type": "code",
   "execution_count": 10,
   "id": "b0677a5e",
   "metadata": {},
   "outputs": [
    {
     "name": "stdout",
     "output_type": "stream",
     "text": [
      "<KeysViewHDF5 ['box', 'lid']>\n",
      "Source box pose: [[ 1.          0.          0.         -0.04543385]\n",
      " [ 0.          1.          0.         -0.15      ]\n",
      " [ 0.          0.          1.          0.776     ]\n",
      " [ 0.          0.          0.          1.        ]]\n",
      "Source lid pose: [[ 1.          0.          0.         -0.00157158]\n",
      " [ 0.          1.          0.          0.2       ]\n",
      " [ 0.          0.          1.          0.725     ]\n",
      " [ 0.          0.          0.          1.        ]], type: <class 'numpy.ndarray'>\n"
     ]
    }
   ],
   "source": [
    "print(data['data']['demo_10']['datagen_info']['object_poses'].keys())\n",
    "\n",
    "src_box_pose = data['data']['demo_10']['datagen_info']['object_poses']['box'][0]\n",
    "src_lid_pose = data['data']['demo_10']['datagen_info']['object_poses']['lid'][0]\n",
    "\n",
    "print(f\"Source box pose: {src_box_pose}\")\n",
    "print(f\"Source lid pose: {src_lid_pose}, type: {type(src_lid_pose)}\")"
   ]
  },
  {
   "cell_type": "code",
   "execution_count": 11,
   "id": "f26999a5",
   "metadata": {},
   "outputs": [],
   "source": [
    "src_eef_poses = data['data']['demo_10']['datagen_info']['eef_pose']"
   ]
  },
  {
   "cell_type": "code",
   "execution_count": 12,
   "id": "6b08f845",
   "metadata": {},
   "outputs": [],
   "source": [
    "data['data']['demo_10']['datagen_info']['gripper_action'].shape\n",
    "\n",
    "src_gripper_actions0 = data['data']['demo_10']['datagen_info']['gripper_action'][:, 0, :]\n",
    "src_gripper_actions1 = data['data']['demo_10']['datagen_info']['gripper_action'][:, 1, :]"
   ]
  },
  {
   "cell_type": "code",
   "execution_count": 27,
   "id": "e8ee4248",
   "metadata": {},
   "outputs": [
    {
     "data": {
      "text/plain": [
       "OrderedDict([('robot0_joint_pos',\n",
       "              array([ 0.01276286,  0.18224139, -0.01374993, -2.61794417,  0.01239359,\n",
       "                      2.93534159,  0.77909893])),\n",
       "             ('robot0_joint_pos_cos',\n",
       "              array([ 0.99991856,  0.98343995,  0.99990547, -0.86600055,  0.9999232 ,\n",
       "                     -0.97880554,  0.71154695])),\n",
       "             ('robot0_joint_pos_sin',\n",
       "              array([ 0.01276251,  0.1812343 , -0.0137495 , -0.50004305,  0.01239327,\n",
       "                      0.20479187,  0.70263855])),\n",
       "             ('robot0_joint_vel', array([0., 0., 0., 0., 0., 0., 0.])),\n",
       "             ('robot0_joint_acc',\n",
       "              array([ 3.67855719e-03,  4.73465663e+00,  4.46156545e-02, -2.65234125e+00,\n",
       "                      8.44609256e-04,  5.85293249e-03,  1.34220805e-03])),\n",
       "             ('robot0_eef_pos',\n",
       "              array([-0.113745  , -0.25146517,  1.11293711])),\n",
       "             ('robot0_eef_quat',\n",
       "              array([ 9.97712265e-01, -2.87240972e-03,  6.75422325e-02, -1.77688667e-04])),\n",
       "             ('robot0_eef_quat_site',\n",
       "              array([-0.04572847,  0.7053636 ,  0.7056148 ,  0.04979074], dtype=float32)),\n",
       "             ('robot0_gripper_qpos',\n",
       "              array([0., 0., 0., 0., 0., 0., 0., 0., 0., 0., 0., 0.])),\n",
       "             ('robot0_gripper_qvel',\n",
       "              array([0., 0., 0., 0., 0., 0., 0., 0., 0., 0., 0., 0.])),\n",
       "             ('robot1_joint_pos',\n",
       "              array([-0.00737262,  0.18275493,  0.01592662, -2.64599494,  0.01445507,\n",
       "                      2.92383419,  0.80204968])),\n",
       "             ('robot1_joint_pos_cos',\n",
       "              array([ 0.99997282,  0.98334675,  0.99987317, -0.87968462,  0.99989553,\n",
       "                     -0.97638417,  0.6952349 ])),\n",
       "             ('robot1_joint_pos_sin',\n",
       "              array([-0.00737256,  0.18173931,  0.01592595, -0.47555754,  0.01445457,\n",
       "                      0.21604157,  0.71878261])),\n",
       "             ('robot1_joint_vel', array([0., 0., 0., 0., 0., 0., 0.])),\n",
       "             ('robot1_joint_acc',\n",
       "              array([-1.70558148e-03,  4.71501890e+00, -3.39544330e-02, -2.49017994e+00,\n",
       "                     -7.74010065e-04,  7.59106074e-03, -2.09784314e-03])),\n",
       "             ('robot1_eef_pos',\n",
       "              array([-0.12706703,  0.25308985,  1.1031147 ])),\n",
       "             ('robot1_eef_quat',\n",
       "              array([ 0.99880422, -0.01097378,  0.0474798 , -0.00392129])),\n",
       "             ('robot1_eef_quat_site',\n",
       "              array([ 0.709034  , -0.0413329 ,  0.02581365,  0.7034884 ], dtype=float32)),\n",
       "             ('robot1_gripper_qpos',\n",
       "              array([0., 0., 0., 0., 0., 0., 0., 0., 0., 0., 0., 0.])),\n",
       "             ('robot1_gripper_qvel',\n",
       "              array([0., 0., 0., 0., 0., 0., 0., 0., 0., 0., 0., 0.])),\n",
       "             ('robot0_proprio-state',\n",
       "              array([ 1.27628588e-02,  1.82241388e-01, -1.37499338e-02, -2.61794417e+00,\n",
       "                      1.23935880e-02,  2.93534159e+00,  7.79098934e-01,  9.99918556e-01,\n",
       "                      9.83439947e-01,  9.99905471e-01, -8.66000548e-01,  9.99923200e-01,\n",
       "                     -9.78805542e-01,  7.11546950e-01,  1.27625123e-02,  1.81234297e-01,\n",
       "                     -1.37495006e-02, -5.00043049e-01,  1.23932707e-02,  2.04791871e-01,\n",
       "                      7.02638554e-01,  0.00000000e+00,  0.00000000e+00,  0.00000000e+00,\n",
       "                      0.00000000e+00,  0.00000000e+00,  0.00000000e+00,  0.00000000e+00,\n",
       "                      3.67855719e-03,  4.73465663e+00,  4.46156545e-02, -2.65234125e+00,\n",
       "                      8.44609256e-04,  5.85293249e-03,  1.34220805e-03, -1.13744998e-01,\n",
       "                     -2.51465168e-01,  1.11293711e+00,  9.97712265e-01, -2.87240972e-03,\n",
       "                      6.75422325e-02, -1.77688667e-04, -4.57284711e-02,  7.05363572e-01,\n",
       "                      7.05614805e-01,  4.97907363e-02,  0.00000000e+00,  0.00000000e+00,\n",
       "                      0.00000000e+00,  0.00000000e+00,  0.00000000e+00,  0.00000000e+00,\n",
       "                      0.00000000e+00,  0.00000000e+00,  0.00000000e+00,  0.00000000e+00,\n",
       "                      0.00000000e+00,  0.00000000e+00,  0.00000000e+00,  0.00000000e+00,\n",
       "                      0.00000000e+00,  0.00000000e+00,  0.00000000e+00,  0.00000000e+00,\n",
       "                      0.00000000e+00,  0.00000000e+00,  0.00000000e+00,  0.00000000e+00,\n",
       "                      0.00000000e+00,  0.00000000e+00])),\n",
       "             ('robot1_proprio-state',\n",
       "              array([-7.37262281e-03,  1.82754932e-01,  1.59266242e-02, -2.64599494e+00,\n",
       "                      1.44550719e-02,  2.92383419e+00,  8.02049681e-01,  9.99972822e-01,\n",
       "                      9.83346746e-01,  9.99873174e-01, -8.79684618e-01,  9.99895527e-01,\n",
       "                     -9.76384166e-01,  6.95234896e-01, -7.37255602e-03,  1.81739313e-01,\n",
       "                      1.59259509e-02, -4.75557539e-01,  1.44545685e-02,  2.16041570e-01,\n",
       "                      7.18782610e-01,  0.00000000e+00,  0.00000000e+00,  0.00000000e+00,\n",
       "                      0.00000000e+00,  0.00000000e+00,  0.00000000e+00,  0.00000000e+00,\n",
       "                     -1.70558148e-03,  4.71501890e+00, -3.39544330e-02, -2.49017994e+00,\n",
       "                     -7.74010065e-04,  7.59106074e-03, -2.09784314e-03, -1.27067031e-01,\n",
       "                      2.53089847e-01,  1.10311470e+00,  9.98804219e-01, -1.09737815e-02,\n",
       "                      4.74798020e-02, -3.92129421e-03,  7.09034026e-01, -4.13329005e-02,\n",
       "                      2.58136541e-02,  7.03488410e-01,  0.00000000e+00,  0.00000000e+00,\n",
       "                      0.00000000e+00,  0.00000000e+00,  0.00000000e+00,  0.00000000e+00,\n",
       "                      0.00000000e+00,  0.00000000e+00,  0.00000000e+00,  0.00000000e+00,\n",
       "                      0.00000000e+00,  0.00000000e+00,  0.00000000e+00,  0.00000000e+00,\n",
       "                      0.00000000e+00,  0.00000000e+00,  0.00000000e+00,  0.00000000e+00,\n",
       "                      0.00000000e+00,  0.00000000e+00,  0.00000000e+00,  0.00000000e+00,\n",
       "                      0.00000000e+00,  0.00000000e+00]))])"
      ]
     },
     "execution_count": 27,
     "metadata": {},
     "output_type": "execute_result"
    }
   ],
   "source": [
    "env.reset()"
   ]
  },
  {
   "cell_type": "code",
   "execution_count": 28,
   "id": "cf505281",
   "metadata": {},
   "outputs": [
    {
     "name": "stdout",
     "output_type": "stream",
     "text": [
      "Object name: box_obj_root, Object id: 74, Object pos: [ 0.03555458 -0.15        0.776     ], Object rot: [[1. 0. 0.]\n",
      " [0. 1. 0.]\n",
      " [0. 0. 1.]]\n",
      "{'pos': array([ 0.03555458, -0.15      ,  0.776     ]), 'rot': array([[1., 0., 0.],\n",
      "       [0., 1., 0.],\n",
      "       [0., 0., 1.]])}\n"
     ]
    }
   ],
   "source": [
    "'''\n",
    "'box_obj_root', 'lid_obj_root', 'lid_obj_box_1_main', 'lid_obj_box_2_main'\n",
    "'''\n",
    "\n",
    "obj_name = 'box_obj_root'\n",
    "\n",
    "'''This the other main object that is also being tracked\n",
    "'''\n",
    "\n",
    "obj_id = env.sim.model.body_name2id(obj_name)\n",
    "obj_pos = np.array(env.sim.data.body_xpos[obj_id])\n",
    "obj_rot = np.array(env.sim.data.body_xmat[obj_id].reshape(3, 3))\n",
    "print(f\"Object name: {obj_name}, Object id: {obj_id}, Object pos: {obj_pos}, Object rot: {obj_rot}\")\n",
    "\n",
    "new_obj_pose = {\n",
    "    'pos': obj_pos,\n",
    "    'rot': obj_rot\n",
    "}\n",
    "np.save('box_object_pose_test.npy', new_obj_pose, allow_pickle=True)\n",
    "box_obj_pose_loaded = np.load('box_object_pose_test.npy', allow_pickle=True).item()\n",
    "print(box_obj_pose_loaded)"
   ]
  },
  {
   "cell_type": "code",
   "execution_count": 29,
   "id": "b0d95ade",
   "metadata": {},
   "outputs": [
    {
     "name": "stdout",
     "output_type": "stream",
     "text": [
      "Object name: lid_obj_root, Object id: 75, Object pos: [0.04160595 0.2        0.725     ], Object rot: [[1. 0. 0.]\n",
      " [0. 1. 0.]\n",
      " [0. 0. 1.]]\n",
      "{'pos': array([0.04160595, 0.2       , 0.725     ]), 'rot': array([[1., 0., 0.],\n",
      "       [0., 1., 0.],\n",
      "       [0., 0., 1.]])}\n"
     ]
    }
   ],
   "source": [
    "obj_name = 'lid_obj_root'\n",
    "\n",
    "'''This is the main object that is being tracked'''\n",
    "\n",
    "obj_id = env.sim.model.body_name2id(obj_name)\n",
    "obj_pos = np.array(env.sim.data.body_xpos[obj_id])\n",
    "obj_rot = np.array(env.sim.data.body_xmat[obj_id].reshape(3, 3))\n",
    "print(f\"Object name: {obj_name}, Object id: {obj_id}, Object pos: {obj_pos}, Object rot: {obj_rot}\")\n",
    "\n",
    "new_obj_pose = {\n",
    "    'pos': obj_pos,\n",
    "    'rot': obj_rot\n",
    "}\n",
    "np.save('lid_object_pose_test.npy', new_obj_pose, allow_pickle=True)\n",
    "lid_obj_pose_loaded = np.load('lid_object_pose_test.npy', allow_pickle=True).item()\n",
    "print(lid_obj_pose_loaded)"
   ]
  },
  {
   "cell_type": "code",
   "execution_count": 30,
   "id": "3b66f7f7",
   "metadata": {},
   "outputs": [
    {
     "name": "stdout",
     "output_type": "stream",
     "text": [
      "Object name: lid_obj_box_1_main, Object id: 76, Object pos: [0.04160595 0.2        0.72      ], Object rot: [[1. 0. 0.]\n",
      " [0. 1. 0.]\n",
      " [0. 0. 1.]]\n"
     ]
    }
   ],
   "source": [
    "obj_name = 'lid_obj_box_1_main'\n",
    "\n",
    "obj_id = env.sim.model.body_name2id(obj_name)\n",
    "obj_pos = np.array(env.sim.data.body_xpos[obj_id])\n",
    "obj_rot = np.array(env.sim.data.body_xmat[obj_id].reshape(3, 3))\n",
    "print(f\"Object name: {obj_name}, Object id: {obj_id}, Object pos: {obj_pos}, Object rot: {obj_rot}\")"
   ]
  },
  {
   "cell_type": "code",
   "execution_count": 31,
   "id": "0c916029",
   "metadata": {},
   "outputs": [
    {
     "name": "stdout",
     "output_type": "stream",
     "text": [
      "Object name: lid_obj_box_2_main, Object id: 77, Object pos: [0.04160595 0.2        0.77      ], Object rot: [[1. 0. 0.]\n",
      " [0. 1. 0.]\n",
      " [0. 0. 1.]]\n"
     ]
    }
   ],
   "source": [
    "obj_name = 'lid_obj_box_2_main'\n",
    "\n",
    "obj_id = env.sim.model.body_name2id(obj_name)\n",
    "obj_pos = np.array(env.sim.data.body_xpos[obj_id])\n",
    "obj_rot = np.array(env.sim.data.body_xmat[obj_id].reshape(3, 3))\n",
    "print(f\"Object name: {obj_name}, Object id: {obj_id}, Object pos: {obj_pos}, Object rot: {obj_rot}\")"
   ]
  },
  {
   "cell_type": "code",
   "execution_count": 32,
   "id": "a5ecd874",
   "metadata": {},
   "outputs": [
    {
     "name": "stdout",
     "output_type": "stream",
     "text": [
      "{'pos': array([0.04160595, 0.2       , 0.77      ]), 'rot': array([[1., 0., 0.],\n",
      "       [0., 1., 0.],\n",
      "       [0., 0., 1.]])}\n"
     ]
    }
   ],
   "source": [
    "new_obj_pose = {\n",
    "    'pos': obj_pos,\n",
    "    'rot': obj_rot\n",
    "}\n",
    "\n",
    "np.save('new_object_pose_test.npy', new_obj_pose, allow_pickle=True)\n",
    "new_obj_pose_loaded = np.load('new_object_pose_test.npy', allow_pickle=True).item()\n",
    "print(new_obj_pose_loaded)"
   ]
  },
  {
   "cell_type": "code",
   "execution_count": 33,
   "id": "89eaf189",
   "metadata": {},
   "outputs": [],
   "source": [
    "from pose_utils_vishal_from_mimicgen import transform_source_data_segment_using_object_pose, make_pose\n",
    "\n",
    "\n",
    "lid_pose_new = make_pose(lid_obj_pose_loaded['pos'], lid_obj_pose_loaded['rot'])\n",
    "# cur_lid_pose = make_pose()\n",
    "\n",
    "box_pose_new = make_pose(box_obj_pose_loaded['pos'], box_obj_pose_loaded['rot'])\n",
    "# cur_box_pose = make_pose()"
   ]
  },
  {
   "cell_type": "code",
   "execution_count": null,
   "id": "d5c1130b",
   "metadata": {},
   "outputs": [],
   "source": []
  },
  {
   "cell_type": "code",
   "execution_count": 34,
   "id": "32b7715e",
   "metadata": {},
   "outputs": [],
   "source": [
    "target_traj_arm0 = transform_source_data_segment_using_object_pose (\n",
    "    obj_pose=lid_pose_new,\n",
    "    src_eef_poses=src_eef_poses[:, 0, :, :],\n",
    "    src_obj_pose=src_lid_pose\n",
    ")\n",
    "\n",
    "target_traj_arm1 = transform_source_data_segment_using_object_pose (\n",
    "    obj_pose=box_pose_new,\n",
    "    src_eef_poses=src_eef_poses[:, 1, :, :],\n",
    "    src_obj_pose=src_box_pose\n",
    ")"
   ]
  },
  {
   "cell_type": "code",
   "execution_count": 35,
   "id": "ad2e6068",
   "metadata": {},
   "outputs": [],
   "source": [
    "from waypoint_utils_vishal_from_mimicgen import Waypoint, WaypointSequence, WaypointTrajectory"
   ]
  },
  {
   "cell_type": "code",
   "execution_count": 36,
   "id": "fad2b312",
   "metadata": {},
   "outputs": [
    {
     "data": {
      "text/plain": [
       "array([0.        , 0.        , 0.        , 0.        , 0.        ,\n",
       "       1.57079633])"
      ]
     },
     "execution_count": 36,
     "metadata": {},
     "output_type": "execute_result"
    }
   ],
   "source": [
    "src_gripper_actions0.shape\n",
    "src_gripper_actions0[0]"
   ]
  },
  {
   "cell_type": "code",
   "execution_count": 37,
   "id": "8f1a5764",
   "metadata": {},
   "outputs": [],
   "source": [
    "waypoint_obj0 = WaypointTrajectory()\n",
    "waypoint_obj1 = WaypointTrajectory()\n",
    "\n",
    "# waypoint_obj0.add_waypoint_sequence()\n",
    "# waypoint_obj1.add_waypoint_sequence()\n",
    "\n",
    "'''\n",
    "Manually interpolating waypoints\n",
    "'''\n",
    "num_steps = 20\n",
    "initial_poses_0 = np.array([target_traj_arm0[0, :, :] for _ in range(num_steps)])\n",
    "initial_gripper_actions_0 = np.array([[src_gripper_actions0[0]] for _ in range(num_steps)])\n",
    "\n",
    "initial_poses_1 = np.array([target_traj_arm1[0, :, :] for _ in range(num_steps)])\n",
    "initial_gripper_actions_1 = np.array([[src_gripper_actions1[0]] for _ in range(num_steps)])\n",
    "\n",
    "# waypoint_obj0.add_waypoint_sequence_for_target_pose(pose=src_eef_poses[0, 0, :, :], gripper_action=src_gripper_actions0[0], num_steps=20, skip_interpolation=True)\n",
    "# waypoint_obj1.add_waypoint_sequence_for_target_pose(pose=src_eef_poses[0, 1, :, :], gripper_action=src_gripper_actions1[0], num_steps=20, skip_interpolation=True)"
   ]
  },
  {
   "cell_type": "code",
   "execution_count": 45,
   "id": "795a5690",
   "metadata": {},
   "outputs": [
    {
     "ename": "AttributeError",
     "evalue": "'TwoArmBoxCleanup' object has no attribute 'get_robot_eef_pose'",
     "output_type": "error",
     "traceback": [
      "\u001b[0;31m---------------------------------------------------------------------------\u001b[0m",
      "\u001b[0;31mAttributeError\u001b[0m                            Traceback (most recent call last)",
      "Cell \u001b[0;32mIn[45], line 50\u001b[0m\n\u001b[1;32m     47\u001b[0m     \u001b[38;5;28;01mreturn\u001b[39;00m np\u001b[38;5;241m.\u001b[39mconcatenate([target_pos, abs_rotation])\n\u001b[1;32m     49\u001b[0m \u001b[38;5;66;03m# Execute trajectory\u001b[39;00m\n\u001b[0;32m---> 50\u001b[0m \u001b[43mtarget_pose_to_action\u001b[49m\u001b[43m(\u001b[49m\u001b[43menv\u001b[49m\u001b[43m,\u001b[49m\u001b[43m \u001b[49m\u001b[43mtarget_traj_arm0\u001b[49m\u001b[43m[\u001b[49m\u001b[38;5;241;43m0\u001b[39;49m\u001b[43m,\u001b[49m\u001b[43m \u001b[49m\u001b[43m:\u001b[49m\u001b[43m,\u001b[49m\u001b[43m \u001b[49m\u001b[43m:\u001b[49m\u001b[43m]\u001b[49m\u001b[43m)\u001b[49m\n",
      "Cell \u001b[0;32mIn[45], line 25\u001b[0m, in \u001b[0;36mtarget_pose_to_action\u001b[0;34m(env, target_pose, relative)\u001b[0m\n\u001b[1;32m     22\u001b[0m target_pos, target_rot \u001b[38;5;241m=\u001b[39m PoseUtils\u001b[38;5;241m.\u001b[39munmake_pose(target_pose)\n\u001b[1;32m     24\u001b[0m \u001b[38;5;66;03m# current position and rotation\u001b[39;00m\n\u001b[0;32m---> 25\u001b[0m curr_pose \u001b[38;5;241m=\u001b[39m \u001b[43menv\u001b[49m\u001b[38;5;241;43m.\u001b[39;49m\u001b[43mget_robot_eef_pose\u001b[49m()\n\u001b[1;32m     26\u001b[0m curr_pos, curr_rot \u001b[38;5;241m=\u001b[39m PoseUtils\u001b[38;5;241m.\u001b[39munmake_pose(curr_pose)\n\u001b[1;32m     28\u001b[0m \u001b[38;5;66;03m# get maximum position and rotation action bounds\u001b[39;00m\n",
      "\u001b[0;31mAttributeError\u001b[0m: 'TwoArmBoxCleanup' object has no attribute 'get_robot_eef_pose'"
     ]
    }
   ],
   "source": [
    "# reset_to_state(env, new_initial_state)\n",
    "import robosuite.utils.transform_utils as T\n",
    "import pose_utils_vishal_from_mimicgen as PoseUtils\n",
    "def target_pose_to_action(env, target_pose, relative=True):\n",
    "    \"\"\"\n",
    "    Takes a target pose for the end effector controller and returns an action \n",
    "    (usually a normalized delta pose action) to try and achieve that target pose. \n",
    "\n",
    "    Args:\n",
    "        target_pose (np.array): 4x4 target eef pose\n",
    "        relative (bool): if True, use relative pose actions, else absolute pose actions\n",
    "\n",
    "    Returns:\n",
    "        action (np.array): action compatible with env.step (minus gripper actuation)\n",
    "    \"\"\"\n",
    "\n",
    "    # version check for robosuite - must be v1.2+, so that we're using the correct controller convention\n",
    "    assert (robosuite.__version__.split(\".\")[0] == \"1\")\n",
    "    assert (robosuite.__version__.split(\".\")[1] >= \"2\")\n",
    "\n",
    "    # target position and rotation\n",
    "    target_pos, target_rot = PoseUtils.unmake_pose(target_pose)\n",
    "\n",
    "    # current position and rotation\n",
    "    curr_pose = env.get_robot_eef_pose()\n",
    "    curr_pos, curr_rot = PoseUtils.unmake_pose(curr_pose)\n",
    "\n",
    "    # get maximum position and rotation action bounds\n",
    "    max_dpos = env.robots[0].controller.output_max[0]\n",
    "    max_drot = env.robots[0].controller.output_max[3]\n",
    "\n",
    "    if relative:\n",
    "        # normalized delta position action\n",
    "        delta_position = target_pos - curr_pos\n",
    "        delta_position = np.clip(delta_position / max_dpos, -1., 1.)\n",
    "\n",
    "        # normalized delta rotation action\n",
    "        delta_rot_mat = target_rot.dot(curr_rot.T)\n",
    "        delta_quat = T.mat2quat(delta_rot_mat)\n",
    "        delta_rotation = T.quat2axisangle(delta_quat)\n",
    "        delta_rotation = np.clip(delta_rotation / max_drot, -1., 1.)\n",
    "        return np.concatenate([delta_position, delta_rotation])\n",
    "\n",
    "    # absolute position and rotation action\n",
    "    target_quat = T.mat2quat(target_rot)\n",
    "    abs_rotation = T.quat2axisangle(target_quat)\n",
    "    return np.concatenate([target_pos, abs_rotation])\n",
    "\n",
    "# Execute trajectory\n",
    "target_pose_to_action(env, target_traj_arm0[0, :, :])\n"
   ]
  },
  {
   "cell_type": "code",
   "execution_count": null,
   "id": "855b3651",
   "metadata": {},
   "outputs": [
    {
     "data": {
      "text/plain": [
       "{'right': <robosuite.utils.buffers.DeltaBuffer at 0x7a773f623730>}"
      ]
     },
     "execution_count": 46,
     "metadata": {},
     "output_type": "execute_result"
    }
   ],
   "source": [
    "env.robots[0]."
   ]
  },
  {
   "cell_type": "code",
   "execution_count": 42,
   "id": "e0a7379c",
   "metadata": {},
   "outputs": [
    {
     "data": {
      "text/plain": [
       "<HDF5 dataset \"actions\": shape (226, 24), type \"<f8\">"
      ]
     },
     "execution_count": 42,
     "metadata": {},
     "output_type": "execute_result"
    }
   ],
   "source": [
    "data['data']['demo_10']['actions']"
   ]
  },
  {
   "cell_type": "code",
   "execution_count": null,
   "id": "40b75bee",
   "metadata": {},
   "outputs": [
    {
     "data": {
      "text/plain": [
       "[<robosuite.robots.fixed_base_robot.FixedBaseRobot at 0x7a773f5cb190>,\n",
       " <robosuite.robots.fixed_base_robot.FixedBaseRobot at 0x7a77446aeb80>]"
      ]
     },
     "execution_count": 40,
     "metadata": {},
     "output_type": "execute_result"
    }
   ],
   "source": [
    "# env.robots"
   ]
  },
  {
   "cell_type": "code",
   "execution_count": 50,
   "id": "82b698dc",
   "metadata": {},
   "outputs": [
    {
     "data": {
      "text/plain": [
       "array([ 0.        ,  0.02154552,  0.20462182, -0.00419658, -2.63458657,\n",
       "        0.02531663,  2.90608111,  0.78614903,  0.        ,  0.        ,\n",
       "        0.        ,  0.        ,  0.        ,  0.        ,  0.        ,\n",
       "        0.        ,  0.        ,  0.        ,  0.        ,  0.        ,\n",
       "        0.0086681 ,  0.20627634,  0.01441064, -2.6088026 ,  0.01159211,\n",
       "        2.90212497,  0.77122992,  0.        ,  0.        ,  0.        ,\n",
       "        0.        ,  0.        ,  0.        ,  0.        ,  0.        ,\n",
       "        0.        ,  0.        ,  0.        ,  0.        ,  0.02114113,\n",
       "       -0.15      ,  0.776     ,  1.        ,  0.        ,  0.        ,\n",
       "        0.        ,  0.01714837,  0.2       ,  0.725     ,  1.        ,\n",
       "        0.        ,  0.        ,  0.        ,  0.        ,  0.        ,\n",
       "        0.        ,  0.        ,  0.        ,  0.        ,  0.        ,\n",
       "        0.        ,  0.        ,  0.        ,  0.        ,  0.        ,\n",
       "        0.        ,  0.        ,  0.        ,  0.        ,  0.        ,\n",
       "        0.        ,  0.        ,  0.        ,  0.        ,  0.        ,\n",
       "        0.        ,  0.        ,  0.        ,  0.        ,  0.        ,\n",
       "        0.        ,  0.        ,  0.        ,  0.        ,  0.        ,\n",
       "        0.        ,  0.        ,  0.        ,  0.        ,  0.        ,\n",
       "        0.        ,  0.        ,  0.        ,  0.        ,  0.        ,\n",
       "        0.        ,  0.        ,  0.        ,  0.        ,  0.        ,\n",
       "        0.        ,  0.        ,  0.        ])"
      ]
     },
     "execution_count": 50,
     "metadata": {},
     "output_type": "execute_result"
    }
   ],
   "source": [
    "env.get_state()['states']"
   ]
  },
  {
   "cell_type": "code",
   "execution_count": 36,
   "id": "0429e5f5",
   "metadata": {},
   "outputs": [
    {
     "name": "stdout",
     "output_type": "stream",
     "text": [
      "[ 0.00000000e+00  4.94176412e-02  1.89245364e-01 -2.42125606e-02\n",
      " -2.63561166e+00  1.75507958e-02  2.95030488e+00  7.94999070e-01\n",
      "  0.00000000e+00  0.00000000e+00  0.00000000e+00  0.00000000e+00\n",
      "  0.00000000e+00  0.00000000e+00  0.00000000e+00  0.00000000e+00\n",
      "  0.00000000e+00  0.00000000e+00  0.00000000e+00  0.00000000e+00\n",
      " -8.78015720e-03  1.82793945e-01 -1.33794683e-03 -2.60353444e+00\n",
      " -1.89915082e-02  2.92161712e+00  7.99628537e-01  0.00000000e+00\n",
      "  0.00000000e+00  0.00000000e+00  0.00000000e+00  0.00000000e+00\n",
      "  0.00000000e+00  0.00000000e+00  0.00000000e+00  0.00000000e+00\n",
      "  0.00000000e+00  0.00000000e+00  0.00000000e+00  2.72084346e-02\n",
      " -1.50000000e-01  7.76000000e-01  1.00000000e+00  0.00000000e+00\n",
      "  0.00000000e+00  0.00000000e+00 -4.94923513e-02  2.00000000e-01\n",
      "  7.25000000e-01  1.00000000e+00  0.00000000e+00  0.00000000e+00\n",
      "  0.00000000e+00  0.00000000e+00  0.00000000e+00  0.00000000e+00\n",
      "  0.00000000e+00  0.00000000e+00  0.00000000e+00  0.00000000e+00\n",
      "  0.00000000e+00  0.00000000e+00  0.00000000e+00  0.00000000e+00\n",
      "  0.00000000e+00  0.00000000e+00  0.00000000e+00  0.00000000e+00\n",
      "  0.00000000e+00  0.00000000e+00  0.00000000e+00  0.00000000e+00\n",
      "  0.00000000e+00  0.00000000e+00  0.00000000e+00  0.00000000e+00\n",
      "  0.00000000e+00  0.00000000e+00  0.00000000e+00  0.00000000e+00\n",
      "  0.00000000e+00  0.00000000e+00  0.00000000e+00  0.00000000e+00\n",
      "  0.00000000e+00  0.00000000e+00  0.00000000e+00  0.00000000e+00\n",
      "  0.00000000e+00  0.00000000e+00  0.00000000e+00  0.00000000e+00\n",
      "  0.00000000e+00  0.00000000e+00  0.00000000e+00  0.00000000e+00\n",
      "  0.00000000e+00  0.00000000e+00  0.00000000e+00  0.00000000e+00\n",
      "  0.00000000e+00  0.00000000e+00  0.00000000e+00]\n",
      "[ 0.          0.02154552  0.20462182 -0.00419658 -2.63458657  0.02531663\n",
      "  2.90608111  0.78614903  0.          0.          0.          0.\n",
      "  0.          0.          0.          0.          0.          0.\n",
      "  0.          0.          0.0086681   0.20627634  0.01441064 -2.6088026\n",
      "  0.01159211  2.90212497  0.77122992  0.          0.          0.\n",
      "  0.          0.          0.          0.          0.          0.\n",
      "  0.          0.          0.          0.02114113 -0.15        0.776\n",
      "  1.          0.          0.          0.          0.01714837  0.2\n",
      "  0.725       1.          0.          0.          0.          0.\n",
      "  0.          0.          0.          0.          0.          0.\n",
      "  0.          0.          0.          0.          0.          0.\n",
      "  0.          0.          0.          0.          0.          0.\n",
      "  0.          0.          0.          0.          0.          0.\n",
      "  0.          0.          0.          0.          0.          0.\n",
      "  0.          0.          0.          0.          0.          0.\n",
      "  0.          0.          0.          0.          0.          0.\n",
      "  0.          0.          0.          0.          0.          0.\n",
      "  0.        ]\n"
     ]
    }
   ],
   "source": [
    "env.reset()\n",
    "new_initial_state1 = env.get_state()\n",
    "print(new_initial_state1['states'])\n",
    "env.reset()\n",
    "new_initial_state2 = env.get_state()\n",
    "print(new_initial_state2['states'])"
   ]
  },
  {
   "cell_type": "code",
   "execution_count": 42,
   "id": "73358458",
   "metadata": {},
   "outputs": [
    {
     "data": {
      "text/plain": [
       "'<mujoco model=\"base\">\\n  <compiler angle=\"radian\" meshdir=\"meshes/\"/>\\n\\n  <option impratio=\"20\" density=\"1.2\" viscosity=\"2e-05\" cone=\"elliptic\"/>\\n\\n  <size njmax=\"5000\" nconmax=\"5000\"/>\\n\\n  <visual>\\n    <map znear=\"0.001\"/>\\n  </visual>\\n\\n  <asset>\\n    <texture type=\"skybox\" colorspace=\"auto\" builtin=\"gradient\" rgb1=\"0.9 0.9 1\" rgb2=\"0.2 0.3 0.4\" width=\"256\" height=\"1536\"/>\\n    <texture type=\"2d\" colorspace=\"sRGB\" name=\"texplane\" file=\"/home/vishal/Volume_E/Active/Gap_year/grand-project-2025/deepak/robosuite/robosuite/models/assets/textures/light-gray-floor-tile.png\"/>\\n    <texture type=\"cube\" colorspace=\"linear\" name=\"tex-ceramic\" file=\"/home/vishal/Volume_E/Active/Gap_year/grand-project-2025/deepak/robosuite/robosuite/models/assets/textures/ceramic.png\"/>\\n    <texture type=\"cube\" colorspace=\"linear\" name=\"tex-steel-brushed\" file=\"/home/vishal/Volume_E/Active/Gap_year/grand-project-2025/deepak/robosuite/robosuite/models/assets/textures/steel-brushed.png\"/>\\n    <texture type=\"2d\" colorspace=\"linear\" name=\"tex-light-gray-plaster\" file=\"/home/vishal/Volume_E/Active/Gap_year/grand-project-2025/deepak/robosuite/robosuite/models/assets/textures/light-gray-plaster.png\"/>\\n    <texture type=\"cube\" colorspace=\"auto\" name=\"textable\" builtin=\"flat\" rgb1=\"0.5 0.5 0.5\" width=\"512\" height=\"3072\"/>\\n    <texture type=\"cube\" colorspace=\"linear\" name=\"box_obj_lightwood\" file=\"/home/vishal/Volume_E/Active/Gap_year/grand-project-2025/deepak/robosuite/robosuite/models/assets/textures/light-wood.png\"/>\\n    <texture type=\"cube\" colorspace=\"linear\" name=\"lid_obj_box_1_lightwood\" file=\"/home/vishal/Volume_E/Active/Gap_year/grand-project-2025/deepak/robosuite/robosuite/models/assets/textures/light-wood.png\"/>\\n    <texture type=\"cube\" colorspace=\"linear\" name=\"lid_obj_box_2_lightwood\" file=\"/home/vishal/Volume_E/Active/Gap_year/grand-project-2025/deepak/robosuite/robosuite/models/assets/textures/light-wood.png\"/>\\n    <material name=\"floorplane\" texture=\"texplane\" texuniform=\"true\" texrepeat=\"2 2\" specular=\"0\" shininess=\"0\" reflectance=\"0.01\"/>\\n    <material name=\"table_ceramic\" texture=\"tex-ceramic\" specular=\"0.2\" shininess=\"0\"/>\\n    <material name=\"table_legs_metal\" texture=\"tex-steel-brushed\" shininess=\"0.8\" reflectance=\"0.8\"/>\\n    <material name=\"walls_mat\" texture=\"tex-light-gray-plaster\" texuniform=\"true\" texrepeat=\"3 3\" specular=\"0.1\" shininess=\"0.1\"/>\\n    <material name=\"table_mat\" texture=\"textable\"/>\\n    <material name=\"robot0_Face636_001\" shininess=\"0.45\" rgba=\"0.901961 0.921569 0.929412 1\"/>\\n    <material name=\"robot0_Part__Feature017_001\" shininess=\"0.45\"/>\\n    <material name=\"robot0_Part__Feature018_001\" shininess=\"0.45\"/>\\n    <material name=\"robot0_Part__Feature019_001\" shininess=\"0.45\"/>\\n    <material name=\"robot0_Part__Feature022_001\" shininess=\"0.45\" rgba=\"0.901961 0.921569 0.929412 1\"/>\\n    <material name=\"robot0_Part__Feature023_001\" shininess=\"0.45\" rgba=\"0.25098 0.25098 0.25098 1\"/>\\n    <material name=\"robot0_Shell001_001\" shininess=\"0.45\" rgba=\"0.25098 0.25098 0.25098 1\"/>\\n    <material name=\"robot0_Shell002_001\" shininess=\"0.45\" rgba=\"0.901961 0.921569 0.929412 1\"/>\\n    <material name=\"robot0_Shell003_001\" shininess=\"0.45\" rgba=\"0.901961 0.921569 0.929412 1\"/>\\n    <material name=\"robot0_Shell009_001\" shininess=\"0.45\" rgba=\"0.25098 0.25098 0.25098 1\"/>\\n    <material name=\"robot0_Shell010_001\" shininess=\"0.45\" rgba=\"0.901961 0.921569 0.929412 1\"/>\\n    <material name=\"robot0_Shell_001\" shininess=\"0.45\" rgba=\"0.25098 0.25098 0.25098 1\"/>\\n    <material name=\"robot0_Part__Feature_001\" shininess=\"0.45\"/>\\n    <material name=\"robot0_Part__Feature024\" shininess=\"0.45\"/>\\n    <material name=\"robot0_Part__Feature001_010_001_002\" shininess=\"0.45\"/>\\n    <material name=\"robot0_Part__Feature002_007_001_002\" shininess=\"0.45\"/>\\n    <material name=\"robot0_Part__Feature003_004_001_002\" shininess=\"0.45\"/>\\n    <material name=\"robot0_Part__Feature_001_001_001_002\" shininess=\"0.45\" rgba=\"0.25098 0.25098 0.25098 1\"/>\\n    <material name=\"robot0_Part__Feature001_001_003_001\" shininess=\"0.45\"/>\\n    <material name=\"robot0_Part__Feature002_001_003_001\" shininess=\"0.45\" rgba=\"0.25098 0.25098 0.25098 1\"/>\\n    <material name=\"robot0_Part__Feature003_001_003_001\" shininess=\"0.45\"/>\\n    <material name=\"robot0_Part__Feature_002_003_001\" shininess=\"0.45\"/>\\n    <material name=\"robot0_Part__Feature_002_004_003\" shininess=\"0.45\"/>\\n    <material name=\"robot0_Shell001_001_001_003\" shininess=\"0.45\" rgba=\"0.25 0.25 0.25 1\"/>\\n    <material name=\"robot0_Shell_001_001_003\" shininess=\"0.45\"/>\\n    <material name=\"robot0_Face064_002_001_002_001\" shininess=\"0.45\" rgba=\"1 0 0 1\"/>\\n    <material name=\"robot0_Face065_002_001_002_001\" shininess=\"0.45\" rgba=\"0 1 0 1\"/>\\n    <material name=\"robot0_Face374_002_001_002_001\" shininess=\"0.45\"/>\\n    <material name=\"robot0_Face539_002_001_002_001\" shininess=\"0.45\" rgba=\"0.25098 0.25098 0.25098 1\"/>\\n    <material name=\"robot0_Part__Feature001_009_001_002_001\" shininess=\"0.45\" rgba=\"0.25098 0.25098 0.25098 1\"/>\\n    <material name=\"robot0_Part__Feature002_006_001_002_001\" shininess=\"0.45\" rgba=\"0.25098 0.25098 0.25098 1\"/>\\n    <material name=\"robot0_Shell002_002_001_002_001\" shininess=\"0.45\"/>\\n    <material name=\"robot0_Shell003_002_001_002_001\" shininess=\"0.45\"/>\\n    <material name=\"robot0_Shell004_001_001_002_001\" shininess=\"0.45\"/>\\n    <material name=\"robot0_Shell005_001_001_002_001\" shininess=\"0.45\"/>\\n    <material name=\"robot0_Shell006_003_002_001\" shininess=\"0.45\" rgba=\"0.901961 0.921569 0.929412 1\"/>\\n    <material name=\"robot0_Shell007_002_002_001\" shininess=\"0.45\" rgba=\"0.25 0.25 0.25 1\"/>\\n    <material name=\"robot0_Shell011_002_002_001\" shininess=\"0.45\"/>\\n    <material name=\"robot0_Shell012_002_002_001\" shininess=\"0.45\"/>\\n    <material name=\"robot0_Shell_003_001_002_001\" shininess=\"0.45\" rgba=\"0.25098 0.25098 0.25098 1\"/>\\n    <material name=\"robot0_Union001_001_001_002_001\" shininess=\"0.45\" rgba=\"0.039216 0.541176 0.780392 1\"/>\\n    <material name=\"robot0_Union_001_001_002_001\" shininess=\"0.45\" rgba=\"0.039216 0.541176 0.780392 1\"/>\\n    <material name=\"robot0_Part__Mirroring001_004_002\" shininess=\"0.45\" rgba=\"0.25098 0.25098 0.25098 1\"/>\\n    <material name=\"robot0_Part__Mirroring002_004_001\" shininess=\"0.45\" rgba=\"0.25098 0.25098 0.25098 1\"/>\\n    <material name=\"robot0_Part__Mirroring003_004_001\" shininess=\"0.45\" rgba=\"0.25098 0.25098 0.25098 1\"/>\\n    <material name=\"robot0_Part__Mirroring004_004_002\" shininess=\"0.45\"/>\\n    <material name=\"robot0_Part__Mirroring005_004_001\" shininess=\"0.45\" rgba=\"0.25098 0.25098 0.25098 1\"/>\\n    <material name=\"robot0_Part__Mirroring006_004_001\" shininess=\"0.45\" rgba=\"0.25098 0.25098 0.25098 1\"/>\\n    <material name=\"robot0_Part__Mirroring007_004_001\" shininess=\"0.45\" rgba=\"0.25098 0.25098 0.25098 1\"/>\\n    <material name=\"robot0_Part__Mirroring_004_001\" shininess=\"0.45\" rgba=\"0.898039 0.917647 0.929412 1\"/>\\n    <material name=\"gripper0_right_site_right_hand\" rgba=\"0.1882 0.1882 0.1882 0\"/>\\n    <material name=\"gripper0_right_r_base_material\" rgba=\"0 0 0 1\"/>\\n    <material name=\"gripper0_right_r_thumb_material\" rgba=\"0 0 0 1\"/>\\n    <material name=\"gripper0_right_r_index_material\" rgba=\"0 0 0 1\"/>\\n    <material name=\"gripper0_right_r_middle_material\" rgba=\"0 0 0 1\"/>\\n    <material name=\"gripper0_right_r_ring_material\" rgba=\"0 0 0 1\"/>\\n    <material name=\"gripper0_right_r_pinky_material\" rgba=\"0 0 0 1\"/>\\n    <material name=\"gripper0_right_r_thumb_distal_material\" rgba=\"0 0 0 1\"/>\\n    <material name=\"robot1_Face636_001\" shininess=\"0.45\" rgba=\"0.901961 0.921569 0.929412 1\"/>\\n    <material name=\"robot1_Part__Feature017_001\" shininess=\"0.45\"/>\\n    <material name=\"robot1_Part__Feature018_001\" shininess=\"0.45\"/>\\n    <material name=\"robot1_Part__Feature019_001\" shininess=\"0.45\"/>\\n    <material name=\"robot1_Part__Feature022_001\" shininess=\"0.45\" rgba=\"0.901961 0.921569 0.929412 1\"/>\\n    <material name=\"robot1_Part__Feature023_001\" shininess=\"0.45\" rgba=\"0.25098 0.25098 0.25098 1\"/>\\n    <material name=\"robot1_Shell001_001\" shininess=\"0.45\" rgba=\"0.25098 0.25098 0.25098 1\"/>\\n    <material name=\"robot1_Shell002_001\" shininess=\"0.45\" rgba=\"0.901961 0.921569 0.929412 1\"/>\\n    <material name=\"robot1_Shell003_001\" shininess=\"0.45\" rgba=\"0.901961 0.921569 0.929412 1\"/>\\n    <material name=\"robot1_Shell009_001\" shininess=\"0.45\" rgba=\"0.25098 0.25098 0.25098 1\"/>\\n    <material name=\"robot1_Shell010_001\" shininess=\"0.45\" rgba=\"0.901961 0.921569 0.929412 1\"/>\\n    <material name=\"robot1_Shell_001\" shininess=\"0.45\" rgba=\"0.25098 0.25098 0.25098 1\"/>\\n    <material name=\"robot1_Part__Feature_001\" shininess=\"0.45\"/>\\n    <material name=\"robot1_Part__Feature024\" shininess=\"0.45\"/>\\n    <material name=\"robot1_Part__Feature001_010_001_002\" shininess=\"0.45\"/>\\n    <material name=\"robot1_Part__Feature002_007_001_002\" shininess=\"0.45\"/>\\n    <material name=\"robot1_Part__Feature003_004_001_002\" shininess=\"0.45\"/>\\n    <material name=\"robot1_Part__Feature_001_001_001_002\" shininess=\"0.45\" rgba=\"0.25098 0.25098 0.25098 1\"/>\\n    <material name=\"robot1_Part__Feature001_001_003_001\" shininess=\"0.45\"/>\\n    <material name=\"robot1_Part__Feature002_001_003_001\" shininess=\"0.45\" rgba=\"0.25098 0.25098 0.25098 1\"/>\\n    <material name=\"robot1_Part__Feature003_001_003_001\" shininess=\"0.45\"/>\\n    <material name=\"robot1_Part__Feature_002_003_001\" shininess=\"0.45\"/>\\n    <material name=\"robot1_Part__Feature_002_004_003\" shininess=\"0.45\"/>\\n    <material name=\"robot1_Shell001_001_001_003\" shininess=\"0.45\" rgba=\"0.25 0.25 0.25 1\"/>\\n    <material name=\"robot1_Shell_001_001_003\" shininess=\"0.45\"/>\\n    <material name=\"robot1_Face064_002_001_002_001\" shininess=\"0.45\" rgba=\"1 0 0 1\"/>\\n    <material name=\"robot1_Face065_002_001_002_001\" shininess=\"0.45\" rgba=\"0 1 0 1\"/>\\n    <material name=\"robot1_Face374_002_001_002_001\" shininess=\"0.45\"/>\\n    <material name=\"robot1_Face539_002_001_002_001\" shininess=\"0.45\" rgba=\"0.25098 0.25098 0.25098 1\"/>\\n    <material name=\"robot1_Part__Feature001_009_001_002_001\" shininess=\"0.45\" rgba=\"0.25098 0.25098 0.25098 1\"/>\\n    <material name=\"robot1_Part__Feature002_006_001_002_001\" shininess=\"0.45\" rgba=\"0.25098 0.25098 0.25098 1\"/>\\n    <material name=\"robot1_Shell002_002_001_002_001\" shininess=\"0.45\"/>\\n    <material name=\"robot1_Shell003_002_001_002_001\" shininess=\"0.45\"/>\\n    <material name=\"robot1_Shell004_001_001_002_001\" shininess=\"0.45\"/>\\n    <material name=\"robot1_Shell005_001_001_002_001\" shininess=\"0.45\"/>\\n    <material name=\"robot1_Shell006_003_002_001\" shininess=\"0.45\" rgba=\"0.901961 0.921569 0.929412 1\"/>\\n    <material name=\"robot1_Shell007_002_002_001\" shininess=\"0.45\" rgba=\"0.25 0.25 0.25 1\"/>\\n    <material name=\"robot1_Shell011_002_002_001\" shininess=\"0.45\"/>\\n    <material name=\"robot1_Shell012_002_002_001\" shininess=\"0.45\"/>\\n    <material name=\"robot1_Shell_003_001_002_001\" shininess=\"0.45\" rgba=\"0.25098 0.25098 0.25098 1\"/>\\n    <material name=\"robot1_Union001_001_001_002_001\" shininess=\"0.45\" rgba=\"0.039216 0.541176 0.780392 1\"/>\\n    <material name=\"robot1_Union_001_001_002_001\" shininess=\"0.45\" rgba=\"0.039216 0.541176 0.780392 1\"/>\\n    <material name=\"robot1_Part__Mirroring001_004_002\" shininess=\"0.45\" rgba=\"0.25098 0.25098 0.25098 1\"/>\\n    <material name=\"robot1_Part__Mirroring002_004_001\" shininess=\"0.45\" rgba=\"0.25098 0.25098 0.25098 1\"/>\\n    <material name=\"robot1_Part__Mirroring003_004_001\" shininess=\"0.45\" rgba=\"0.25098 0.25098 0.25098 1\"/>\\n    <material name=\"robot1_Part__Mirroring004_004_002\" shininess=\"0.45\"/>\\n    <material name=\"robot1_Part__Mirroring005_004_001\" shininess=\"0.45\" rgba=\"0.25098 0.25098 0.25098 1\"/>\\n    <material name=\"robot1_Part__Mirroring006_004_001\" shininess=\"0.45\" rgba=\"0.25098 0.25098 0.25098 1\"/>\\n    <material name=\"robot1_Part__Mirroring007_004_001\" shininess=\"0.45\" rgba=\"0.25098 0.25098 0.25098 1\"/>\\n    <material name=\"robot1_Part__Mirroring_004_001\" shininess=\"0.45\" rgba=\"0.898039 0.917647 0.929412 1\"/>\\n    <material name=\"gripper1_right_site_left_hand\" rgba=\"0.1882 0.1882 0.1882 0\"/>\\n    <material name=\"gripper1_right_l_base_material\" rgba=\"0 0 0 1\"/>\\n    <material name=\"gripper1_right_l_thumb_material\" rgba=\"0 0 0 1\"/>\\n    <material name=\"gripper1_right_l_index_material\" rgba=\"0 0 0 1\"/>\\n    <material name=\"gripper1_right_l_middle_material\" rgba=\"0 0 0 1\"/>\\n    <material name=\"gripper1_right_l_ring_material\" rgba=\"0 0 0 1\"/>\\n    <material name=\"gripper1_right_l_pinky_material\" rgba=\"0 0 0 1\"/>\\n    <material name=\"gripper1_right_l_thumb_distal_material\" rgba=\"0 0 0 1\"/>\\n    <material name=\"box_obj_lightwood_mat\" texture=\"box_obj_lightwood\" specular=\"0.4\" shininess=\"0.1\"/>\\n    <material name=\"lid_obj_box_1_lightwood_mat\" texture=\"lid_obj_box_1_lightwood\" specular=\"0.4\" shininess=\"0.1\"/>\\n    <material name=\"lid_obj_box_2_lightwood_mat\" texture=\"lid_obj_box_2_lightwood\" specular=\"0.4\" shininess=\"0.1\"/>\\n    <mesh name=\"robot0_link0\" file=\"/home/vishal/Volume_E/Active/Gap_year/grand-project-2025/deepak/robosuite/robosuite/models/assets/robots/panda/meshes/link0.stl\"/>\\n    <mesh name=\"robot0_link1\" file=\"/home/vishal/Volume_E/Active/Gap_year/grand-project-2025/deepak/robosuite/robosuite/models/assets/robots/panda/meshes/link1.stl\"/>\\n    <mesh name=\"robot0_link2\" file=\"/home/vishal/Volume_E/Active/Gap_year/grand-project-2025/deepak/robosuite/robosuite/models/assets/robots/panda/meshes/link2.stl\"/>\\n    <mesh name=\"robot0_link3\" file=\"/home/vishal/Volume_E/Active/Gap_year/grand-project-2025/deepak/robosuite/robosuite/models/assets/robots/panda/meshes/link3.stl\"/>\\n    <mesh name=\"robot0_link4\" file=\"/home/vishal/Volume_E/Active/Gap_year/grand-project-2025/deepak/robosuite/robosuite/models/assets/robots/panda/meshes/link4.stl\"/>\\n    <mesh name=\"robot0_link5\" file=\"/home/vishal/Volume_E/Active/Gap_year/grand-project-2025/deepak/robosuite/robosuite/models/assets/robots/panda/meshes/link5.stl\"/>\\n    <mesh name=\"robot0_link6\" file=\"/home/vishal/Volume_E/Active/Gap_year/grand-project-2025/deepak/robosuite/robosuite/models/assets/robots/panda/meshes/link6.stl\"/>\\n    <mesh name=\"robot0_link7\" file=\"/home/vishal/Volume_E/Active/Gap_year/grand-project-2025/deepak/robosuite/robosuite/models/assets/robots/panda/meshes/link7.stl\"/>\\n    <mesh name=\"robot0_link0_vis_0\" file=\"/home/vishal/Volume_E/Active/Gap_year/grand-project-2025/deepak/robosuite/robosuite/models/assets/robots/panda/obj_meshes/link0_vis/link0_vis_0.obj\"/>\\n    <mesh name=\"robot0_link0_vis_1\" file=\"/home/vishal/Volume_E/Active/Gap_year/grand-project-2025/deepak/robosuite/robosuite/models/assets/robots/panda/obj_meshes/link0_vis/link0_vis_1.obj\"/>\\n    <mesh name=\"robot0_link0_vis_2\" file=\"/home/vishal/Volume_E/Active/Gap_year/grand-project-2025/deepak/robosuite/robosuite/models/assets/robots/panda/obj_meshes/link0_vis/link0_vis_2.obj\"/>\\n    <mesh name=\"robot0_link0_vis_3\" file=\"/home/vishal/Volume_E/Active/Gap_year/grand-project-2025/deepak/robosuite/robosuite/models/assets/robots/panda/obj_meshes/link0_vis/link0_vis_3.obj\"/>\\n    <mesh name=\"robot0_link0_vis_4\" file=\"/home/vishal/Volume_E/Active/Gap_year/grand-project-2025/deepak/robosuite/robosuite/models/assets/robots/panda/obj_meshes/link0_vis/link0_vis_4.obj\"/>\\n    <mesh name=\"robot0_link0_vis_5\" file=\"/home/vishal/Volume_E/Active/Gap_year/grand-project-2025/deepak/robosuite/robosuite/models/assets/robots/panda/obj_meshes/link0_vis/link0_vis_5.obj\"/>\\n    <mesh name=\"robot0_link0_vis_6\" file=\"/home/vishal/Volume_E/Active/Gap_year/grand-project-2025/deepak/robosuite/robosuite/models/assets/robots/panda/obj_meshes/link0_vis/link0_vis_6.obj\"/>\\n    <mesh name=\"robot0_link0_vis_7\" file=\"/home/vishal/Volume_E/Active/Gap_year/grand-project-2025/deepak/robosuite/robosuite/models/assets/robots/panda/obj_meshes/link0_vis/link0_vis_7.obj\"/>\\n    <mesh name=\"robot0_link0_vis_8\" file=\"/home/vishal/Volume_E/Active/Gap_year/grand-project-2025/deepak/robosuite/robosuite/models/assets/robots/panda/obj_meshes/link0_vis/link0_vis_8.obj\"/>\\n    <mesh name=\"robot0_link0_vis_9\" file=\"/home/vishal/Volume_E/Active/Gap_year/grand-project-2025/deepak/robosuite/robosuite/models/assets/robots/panda/obj_meshes/link0_vis/link0_vis_9.obj\"/>\\n    <mesh name=\"robot0_link0_vis_10\" file=\"/home/vishal/Volume_E/Active/Gap_year/grand-project-2025/deepak/robosuite/robosuite/models/assets/robots/panda/obj_meshes/link0_vis/link0_vis_10.obj\"/>\\n    <mesh name=\"robot0_link0_vis_11\" file=\"/home/vishal/Volume_E/Active/Gap_year/grand-project-2025/deepak/robosuite/robosuite/models/assets/robots/panda/obj_meshes/link0_vis/link0_vis_11.obj\"/>\\n    <mesh name=\"robot0_link1_vis\" file=\"/home/vishal/Volume_E/Active/Gap_year/grand-project-2025/deepak/robosuite/robosuite/models/assets/robots/panda/obj_meshes/link1_vis/link1_vis.obj\"/>\\n    <mesh name=\"robot0_link2_vis\" file=\"/home/vishal/Volume_E/Active/Gap_year/grand-project-2025/deepak/robosuite/robosuite/models/assets/robots/panda/obj_meshes/link2_vis/link2_vis.obj\"/>\\n    <mesh name=\"robot0_link3_vis_0\" file=\"/home/vishal/Volume_E/Active/Gap_year/grand-project-2025/deepak/robosuite/robosuite/models/assets/robots/panda/obj_meshes/link3_vis/link3_vis_0.obj\"/>\\n    <mesh name=\"robot0_link3_vis_1\" file=\"/home/vishal/Volume_E/Active/Gap_year/grand-project-2025/deepak/robosuite/robosuite/models/assets/robots/panda/obj_meshes/link3_vis/link3_vis_1.obj\"/>\\n    <mesh name=\"robot0_link3_vis_2\" file=\"/home/vishal/Volume_E/Active/Gap_year/grand-project-2025/deepak/robosuite/robosuite/models/assets/robots/panda/obj_meshes/link3_vis/link3_vis_2.obj\"/>\\n    <mesh name=\"robot0_link3_vis_3\" file=\"/home/vishal/Volume_E/Active/Gap_year/grand-project-2025/deepak/robosuite/robosuite/models/assets/robots/panda/obj_meshes/link3_vis/link3_vis_3.obj\"/>\\n    <mesh name=\"robot0_link4_vis_0\" file=\"/home/vishal/Volume_E/Active/Gap_year/grand-project-2025/deepak/robosuite/robosuite/models/assets/robots/panda/obj_meshes/link4_vis/link4_vis_0.obj\"/>\\n    <mesh name=\"robot0_link4_vis_1\" file=\"/home/vishal/Volume_E/Active/Gap_year/grand-project-2025/deepak/robosuite/robosuite/models/assets/robots/panda/obj_meshes/link4_vis/link4_vis_1.obj\"/>\\n    <mesh name=\"robot0_link4_vis_2\" file=\"/home/vishal/Volume_E/Active/Gap_year/grand-project-2025/deepak/robosuite/robosuite/models/assets/robots/panda/obj_meshes/link4_vis/link4_vis_2.obj\"/>\\n    <mesh name=\"robot0_link4_vis_3\" file=\"/home/vishal/Volume_E/Active/Gap_year/grand-project-2025/deepak/robosuite/robosuite/models/assets/robots/panda/obj_meshes/link4_vis/link4_vis_3.obj\"/>\\n    <mesh name=\"robot0_link5_vis_0\" file=\"/home/vishal/Volume_E/Active/Gap_year/grand-project-2025/deepak/robosuite/robosuite/models/assets/robots/panda/obj_meshes/link5_vis/link5_vis_0.obj\"/>\\n    <mesh name=\"robot0_link5_vis_1\" file=\"/home/vishal/Volume_E/Active/Gap_year/grand-project-2025/deepak/robosuite/robosuite/models/assets/robots/panda/obj_meshes/link5_vis/link5_vis_1.obj\"/>\\n    <mesh name=\"robot0_link5_vis_2\" file=\"/home/vishal/Volume_E/Active/Gap_year/grand-project-2025/deepak/robosuite/robosuite/models/assets/robots/panda/obj_meshes/link5_vis/link5_vis_2.obj\"/>\\n    <mesh name=\"robot0_link6_vis_0\" file=\"/home/vishal/Volume_E/Active/Gap_year/grand-project-2025/deepak/robosuite/robosuite/models/assets/robots/panda/obj_meshes/link6_vis/link6_vis_0.obj\"/>\\n    <mesh name=\"robot0_link6_vis_1\" file=\"/home/vishal/Volume_E/Active/Gap_year/grand-project-2025/deepak/robosuite/robosuite/models/assets/robots/panda/obj_meshes/link6_vis/link6_vis_1.obj\"/>\\n    <mesh name=\"robot0_link6_vis_2\" file=\"/home/vishal/Volume_E/Active/Gap_year/grand-project-2025/deepak/robosuite/robosuite/models/assets/robots/panda/obj_meshes/link6_vis/link6_vis_2.obj\"/>\\n    <mesh name=\"robot0_link6_vis_3\" file=\"/home/vishal/Volume_E/Active/Gap_year/grand-project-2025/deepak/robosuite/robosuite/models/assets/robots/panda/obj_meshes/link6_vis/link6_vis_3.obj\"/>\\n    <mesh name=\"robot0_link6_vis_4\" file=\"/home/vishal/Volume_E/Active/Gap_year/grand-project-2025/deepak/robosuite/robosuite/models/assets/robots/panda/obj_meshes/link6_vis/link6_vis_4.obj\"/>\\n    <mesh name=\"robot0_link6_vis_5\" file=\"/home/vishal/Volume_E/Active/Gap_year/grand-project-2025/deepak/robosuite/robosuite/models/assets/robots/panda/obj_meshes/link6_vis/link6_vis_5.obj\"/>\\n    <mesh name=\"robot0_link6_vis_6\" file=\"/home/vishal/Volume_E/Active/Gap_year/grand-project-2025/deepak/robosuite/robosuite/models/assets/robots/panda/obj_meshes/link6_vis/link6_vis_6.obj\"/>\\n    <mesh name=\"robot0_link6_vis_7\" file=\"/home/vishal/Volume_E/Active/Gap_year/grand-project-2025/deepak/robosuite/robosuite/models/assets/robots/panda/obj_meshes/link6_vis/link6_vis_7.obj\"/>\\n    <mesh name=\"robot0_link6_vis_8\" file=\"/home/vishal/Volume_E/Active/Gap_year/grand-project-2025/deepak/robosuite/robosuite/models/assets/robots/panda/obj_meshes/link6_vis/link6_vis_8.obj\"/>\\n    <mesh name=\"robot0_link6_vis_9\" file=\"/home/vishal/Volume_E/Active/Gap_year/grand-project-2025/deepak/robosuite/robosuite/models/assets/robots/panda/obj_meshes/link6_vis/link6_vis_9.obj\"/>\\n    <mesh name=\"robot0_link6_vis_10\" file=\"/home/vishal/Volume_E/Active/Gap_year/grand-project-2025/deepak/robosuite/robosuite/models/assets/robots/panda/obj_meshes/link6_vis/link6_vis_10.obj\"/>\\n    <mesh name=\"robot0_link6_vis_11\" file=\"/home/vishal/Volume_E/Active/Gap_year/grand-project-2025/deepak/robosuite/robosuite/models/assets/robots/panda/obj_meshes/link6_vis/link6_vis_11.obj\"/>\\n    <mesh name=\"robot0_link6_vis_12\" file=\"/home/vishal/Volume_E/Active/Gap_year/grand-project-2025/deepak/robosuite/robosuite/models/assets/robots/panda/obj_meshes/link6_vis/link6_vis_12.obj\"/>\\n    <mesh name=\"robot0_link6_vis_13\" file=\"/home/vishal/Volume_E/Active/Gap_year/grand-project-2025/deepak/robosuite/robosuite/models/assets/robots/panda/obj_meshes/link6_vis/link6_vis_13.obj\"/>\\n    <mesh name=\"robot0_link6_vis_14\" file=\"/home/vishal/Volume_E/Active/Gap_year/grand-project-2025/deepak/robosuite/robosuite/models/assets/robots/panda/obj_meshes/link6_vis/link6_vis_14.obj\"/>\\n    <mesh name=\"robot0_link6_vis_15\" file=\"/home/vishal/Volume_E/Active/Gap_year/grand-project-2025/deepak/robosuite/robosuite/models/assets/robots/panda/obj_meshes/link6_vis/link6_vis_15.obj\"/>\\n    <mesh name=\"robot0_link6_vis_16\" file=\"/home/vishal/Volume_E/Active/Gap_year/grand-project-2025/deepak/robosuite/robosuite/models/assets/robots/panda/obj_meshes/link6_vis/link6_vis_16.obj\"/>\\n    <mesh name=\"robot0_link7_vis_0\" file=\"/home/vishal/Volume_E/Active/Gap_year/grand-project-2025/deepak/robosuite/robosuite/models/assets/robots/panda/obj_meshes/link7_vis/link7_vis_0.obj\"/>\\n    <mesh name=\"robot0_link7_vis_1\" file=\"/home/vishal/Volume_E/Active/Gap_year/grand-project-2025/deepak/robosuite/robosuite/models/assets/robots/panda/obj_meshes/link7_vis/link7_vis_1.obj\"/>\\n    <mesh name=\"robot0_link7_vis_2\" file=\"/home/vishal/Volume_E/Active/Gap_year/grand-project-2025/deepak/robosuite/robosuite/models/assets/robots/panda/obj_meshes/link7_vis/link7_vis_2.obj\"/>\\n    <mesh name=\"robot0_link7_vis_3\" file=\"/home/vishal/Volume_E/Active/Gap_year/grand-project-2025/deepak/robosuite/robosuite/models/assets/robots/panda/obj_meshes/link7_vis/link7_vis_3.obj\"/>\\n    <mesh name=\"robot0_link7_vis_4\" file=\"/home/vishal/Volume_E/Active/Gap_year/grand-project-2025/deepak/robosuite/robosuite/models/assets/robots/panda/obj_meshes/link7_vis/link7_vis_4.obj\"/>\\n    <mesh name=\"robot0_link7_vis_5\" file=\"/home/vishal/Volume_E/Active/Gap_year/grand-project-2025/deepak/robosuite/robosuite/models/assets/robots/panda/obj_meshes/link7_vis/link7_vis_5.obj\"/>\\n    <mesh name=\"robot0_link7_vis_6\" file=\"/home/vishal/Volume_E/Active/Gap_year/grand-project-2025/deepak/robosuite/robosuite/models/assets/robots/panda/obj_meshes/link7_vis/link7_vis_6.obj\"/>\\n    <mesh name=\"robot0_link7_vis_7\" file=\"/home/vishal/Volume_E/Active/Gap_year/grand-project-2025/deepak/robosuite/robosuite/models/assets/robots/panda/obj_meshes/link7_vis/link7_vis_7.obj\"/>\\n    <mesh name=\"fixed_mount0_pedestal\" file=\"/home/vishal/Volume_E/Active/Gap_year/grand-project-2025/deepak/robosuite/robosuite/models/assets/bases/meshes/rethink_mount/pedestal.stl\"/>\\n    <mesh name=\"gripper0_right_r_palm_vis\" file=\"/home/vishal/Volume_E/Active/Gap_year/grand-project-2025/deepak/robosuite/robosuite/models/assets/grippers/meshes/inspire_hands/rh_base_link.STL\"/>\\n    <mesh name=\"gripper0_right_r_palm_col\" content_type=\"model/stl\" file=\"/home/vishal/Volume_E/Active/Gap_year/grand-project-2025/deepak/robosuite/robosuite/models/assets/grippers/meshes/inspire_hands/rh_base_link.STL\"/>\\n    <mesh name=\"gripper0_right_r_thumb_proximal_1_vis\" file=\"/home/vishal/Volume_E/Active/Gap_year/grand-project-2025/deepak/robosuite/robosuite/models/assets/grippers/meshes/inspire_hands/rh_Link11.STL\"/>\\n    <mesh name=\"gripper0_right_r_thumb_proximal_1_col\" content_type=\"model/stl\" file=\"/home/vishal/Volume_E/Active/Gap_year/grand-project-2025/deepak/robosuite/robosuite/models/assets/grippers/meshes/inspire_hands/rh_Link11.STL\"/>\\n    <mesh name=\"gripper0_right_r_thumb_proximal_2_vis\" file=\"/home/vishal/Volume_E/Active/Gap_year/grand-project-2025/deepak/robosuite/robosuite/models/assets/grippers/meshes/inspire_hands/rh_Link12.STL\"/>\\n    <mesh name=\"gripper0_right_r_thumb_proximal_2_col\" content_type=\"model/stl\" file=\"/home/vishal/Volume_E/Active/Gap_year/grand-project-2025/deepak/robosuite/robosuite/models/assets/grippers/meshes/inspire_hands/rh_Link12.STL\"/>\\n    <mesh name=\"gripper0_right_r_thumb_middle_vis\" file=\"/home/vishal/Volume_E/Active/Gap_year/grand-project-2025/deepak/robosuite/robosuite/models/assets/grippers/meshes/inspire_hands/rh_Link13.STL\"/>\\n    <mesh name=\"gripper0_right_r_thumb_middle_col\" content_type=\"model/stl\" file=\"/home/vishal/Volume_E/Active/Gap_year/grand-project-2025/deepak/robosuite/robosuite/models/assets/grippers/meshes/inspire_hands/rh_Link13.STL\"/>\\n    <mesh name=\"gripper0_right_r_thumb_distal_vis\" file=\"/home/vishal/Volume_E/Active/Gap_year/grand-project-2025/deepak/robosuite/robosuite/models/assets/grippers/meshes/inspire_hands/rh_Link14.STL\"/>\\n    <mesh name=\"gripper0_right_r_thumb_distal_col\" content_type=\"model/stl\" file=\"/home/vishal/Volume_E/Active/Gap_year/grand-project-2025/deepak/robosuite/robosuite/models/assets/grippers/meshes/inspire_hands/rh_Link14.STL\"/>\\n    <mesh name=\"gripper0_right_r_index_proximal_vis\" file=\"/home/vishal/Volume_E/Active/Gap_year/grand-project-2025/deepak/robosuite/robosuite/models/assets/grippers/meshes/inspire_hands/rh_Link15.STL\"/>\\n    <mesh name=\"gripper0_right_r_index_proximal_col\" content_type=\"model/stl\" file=\"/home/vishal/Volume_E/Active/Gap_year/grand-project-2025/deepak/robosuite/robosuite/models/assets/grippers/meshes/inspire_hands/rh_Link15.STL\"/>\\n    <mesh name=\"gripper0_right_r_index_distal_vis\" file=\"/home/vishal/Volume_E/Active/Gap_year/grand-project-2025/deepak/robosuite/robosuite/models/assets/grippers/meshes/inspire_hands/rh_Link16.STL\"/>\\n    <mesh name=\"gripper0_right_r_index_distal_col\" content_type=\"model/stl\" file=\"/home/vishal/Volume_E/Active/Gap_year/grand-project-2025/deepak/robosuite/robosuite/models/assets/grippers/meshes/inspire_hands/rh_Link16.STL\"/>\\n    <mesh name=\"gripper0_right_r_middle_proximal_vis\" file=\"/home/vishal/Volume_E/Active/Gap_year/grand-project-2025/deepak/robosuite/robosuite/models/assets/grippers/meshes/inspire_hands/rh_Link17.STL\"/>\\n    <mesh name=\"gripper0_right_r_middle_proximal_col\" content_type=\"model/stl\" file=\"/home/vishal/Volume_E/Active/Gap_year/grand-project-2025/deepak/robosuite/robosuite/models/assets/grippers/meshes/inspire_hands/rh_Link17.STL\"/>\\n    <mesh name=\"gripper0_right_r_middle_distal_vis\" file=\"/home/vishal/Volume_E/Active/Gap_year/grand-project-2025/deepak/robosuite/robosuite/models/assets/grippers/meshes/inspire_hands/rh_Link18.STL\"/>\\n    <mesh name=\"gripper0_right_r_middle_distal_col\" content_type=\"model/stl\" file=\"/home/vishal/Volume_E/Active/Gap_year/grand-project-2025/deepak/robosuite/robosuite/models/assets/grippers/meshes/inspire_hands/rh_Link18.STL\"/>\\n    <mesh name=\"gripper0_right_r_ring_proximal_vis\" file=\"/home/vishal/Volume_E/Active/Gap_year/grand-project-2025/deepak/robosuite/robosuite/models/assets/grippers/meshes/inspire_hands/rh_Link19.STL\"/>\\n    <mesh name=\"gripper0_right_r_ring_proximal_col\" content_type=\"model/stl\" file=\"/home/vishal/Volume_E/Active/Gap_year/grand-project-2025/deepak/robosuite/robosuite/models/assets/grippers/meshes/inspire_hands/rh_Link19.STL\"/>\\n    <mesh name=\"gripper0_right_r_ring_distal_vis\" file=\"/home/vishal/Volume_E/Active/Gap_year/grand-project-2025/deepak/robosuite/robosuite/models/assets/grippers/meshes/inspire_hands/rh_Link20.STL\"/>\\n    <mesh name=\"gripper0_right_r_ring_distal_col\" content_type=\"model/stl\" file=\"/home/vishal/Volume_E/Active/Gap_year/grand-project-2025/deepak/robosuite/robosuite/models/assets/grippers/meshes/inspire_hands/rh_Link20.STL\"/>\\n    <mesh name=\"gripper0_right_r_pinky_proximal_vis\" file=\"/home/vishal/Volume_E/Active/Gap_year/grand-project-2025/deepak/robosuite/robosuite/models/assets/grippers/meshes/inspire_hands/rh_Link21.STL\"/>\\n    <mesh name=\"gripper0_right_r_pinky_proximal_col\" content_type=\"model/stl\" file=\"/home/vishal/Volume_E/Active/Gap_year/grand-project-2025/deepak/robosuite/robosuite/models/assets/grippers/meshes/inspire_hands/rh_Link21.STL\"/>\\n    <mesh name=\"gripper0_right_r_pinky_distal_vis\" file=\"/home/vishal/Volume_E/Active/Gap_year/grand-project-2025/deepak/robosuite/robosuite/models/assets/grippers/meshes/inspire_hands/rh_Link22.STL\"/>\\n    <mesh name=\"gripper0_right_r_pinky_distal_col\" content_type=\"model/stl\" file=\"/home/vishal/Volume_E/Active/Gap_year/grand-project-2025/deepak/robosuite/robosuite/models/assets/grippers/meshes/inspire_hands/rh_Link22.STL\"/>\\n    <mesh name=\"robot1_link0\" file=\"/home/vishal/Volume_E/Active/Gap_year/grand-project-2025/deepak/robosuite/robosuite/models/assets/robots/panda/meshes/link0.stl\"/>\\n    <mesh name=\"robot1_link1\" file=\"/home/vishal/Volume_E/Active/Gap_year/grand-project-2025/deepak/robosuite/robosuite/models/assets/robots/panda/meshes/link1.stl\"/>\\n    <mesh name=\"robot1_link2\" file=\"/home/vishal/Volume_E/Active/Gap_year/grand-project-2025/deepak/robosuite/robosuite/models/assets/robots/panda/meshes/link2.stl\"/>\\n    <mesh name=\"robot1_link3\" file=\"/home/vishal/Volume_E/Active/Gap_year/grand-project-2025/deepak/robosuite/robosuite/models/assets/robots/panda/meshes/link3.stl\"/>\\n    <mesh name=\"robot1_link4\" file=\"/home/vishal/Volume_E/Active/Gap_year/grand-project-2025/deepak/robosuite/robosuite/models/assets/robots/panda/meshes/link4.stl\"/>\\n    <mesh name=\"robot1_link5\" file=\"/home/vishal/Volume_E/Active/Gap_year/grand-project-2025/deepak/robosuite/robosuite/models/assets/robots/panda/meshes/link5.stl\"/>\\n    <mesh name=\"robot1_link6\" file=\"/home/vishal/Volume_E/Active/Gap_year/grand-project-2025/deepak/robosuite/robosuite/models/assets/robots/panda/meshes/link6.stl\"/>\\n    <mesh name=\"robot1_link7\" file=\"/home/vishal/Volume_E/Active/Gap_year/grand-project-2025/deepak/robosuite/robosuite/models/assets/robots/panda/meshes/link7.stl\"/>\\n    <mesh name=\"robot1_link0_vis_0\" file=\"/home/vishal/Volume_E/Active/Gap_year/grand-project-2025/deepak/robosuite/robosuite/models/assets/robots/panda/obj_meshes/link0_vis/link0_vis_0.obj\"/>\\n    <mesh name=\"robot1_link0_vis_1\" file=\"/home/vishal/Volume_E/Active/Gap_year/grand-project-2025/deepak/robosuite/robosuite/models/assets/robots/panda/obj_meshes/link0_vis/link0_vis_1.obj\"/>\\n    <mesh name=\"robot1_link0_vis_2\" file=\"/home/vishal/Volume_E/Active/Gap_year/grand-project-2025/deepak/robosuite/robosuite/models/assets/robots/panda/obj_meshes/link0_vis/link0_vis_2.obj\"/>\\n    <mesh name=\"robot1_link0_vis_3\" file=\"/home/vishal/Volume_E/Active/Gap_year/grand-project-2025/deepak/robosuite/robosuite/models/assets/robots/panda/obj_meshes/link0_vis/link0_vis_3.obj\"/>\\n    <mesh name=\"robot1_link0_vis_4\" file=\"/home/vishal/Volume_E/Active/Gap_year/grand-project-2025/deepak/robosuite/robosuite/models/assets/robots/panda/obj_meshes/link0_vis/link0_vis_4.obj\"/>\\n    <mesh name=\"robot1_link0_vis_5\" file=\"/home/vishal/Volume_E/Active/Gap_year/grand-project-2025/deepak/robosuite/robosuite/models/assets/robots/panda/obj_meshes/link0_vis/link0_vis_5.obj\"/>\\n    <mesh name=\"robot1_link0_vis_6\" file=\"/home/vishal/Volume_E/Active/Gap_year/grand-project-2025/deepak/robosuite/robosuite/models/assets/robots/panda/obj_meshes/link0_vis/link0_vis_6.obj\"/>\\n    <mesh name=\"robot1_link0_vis_7\" file=\"/home/vishal/Volume_E/Active/Gap_year/grand-project-2025/deepak/robosuite/robosuite/models/assets/robots/panda/obj_meshes/link0_vis/link0_vis_7.obj\"/>\\n    <mesh name=\"robot1_link0_vis_8\" file=\"/home/vishal/Volume_E/Active/Gap_year/grand-project-2025/deepak/robosuite/robosuite/models/assets/robots/panda/obj_meshes/link0_vis/link0_vis_8.obj\"/>\\n    <mesh name=\"robot1_link0_vis_9\" file=\"/home/vishal/Volume_E/Active/Gap_year/grand-project-2025/deepak/robosuite/robosuite/models/assets/robots/panda/obj_meshes/link0_vis/link0_vis_9.obj\"/>\\n    <mesh name=\"robot1_link0_vis_10\" file=\"/home/vishal/Volume_E/Active/Gap_year/grand-project-2025/deepak/robosuite/robosuite/models/assets/robots/panda/obj_meshes/link0_vis/link0_vis_10.obj\"/>\\n    <mesh name=\"robot1_link0_vis_11\" file=\"/home/vishal/Volume_E/Active/Gap_year/grand-project-2025/deepak/robosuite/robosuite/models/assets/robots/panda/obj_meshes/link0_vis/link0_vis_11.obj\"/>\\n    <mesh name=\"robot1_link1_vis\" file=\"/home/vishal/Volume_E/Active/Gap_year/grand-project-2025/deepak/robosuite/robosuite/models/assets/robots/panda/obj_meshes/link1_vis/link1_vis.obj\"/>\\n    <mesh name=\"robot1_link2_vis\" file=\"/home/vishal/Volume_E/Active/Gap_year/grand-project-2025/deepak/robosuite/robosuite/models/assets/robots/panda/obj_meshes/link2_vis/link2_vis.obj\"/>\\n    <mesh name=\"robot1_link3_vis_0\" file=\"/home/vishal/Volume_E/Active/Gap_year/grand-project-2025/deepak/robosuite/robosuite/models/assets/robots/panda/obj_meshes/link3_vis/link3_vis_0.obj\"/>\\n    <mesh name=\"robot1_link3_vis_1\" file=\"/home/vishal/Volume_E/Active/Gap_year/grand-project-2025/deepak/robosuite/robosuite/models/assets/robots/panda/obj_meshes/link3_vis/link3_vis_1.obj\"/>\\n    <mesh name=\"robot1_link3_vis_2\" file=\"/home/vishal/Volume_E/Active/Gap_year/grand-project-2025/deepak/robosuite/robosuite/models/assets/robots/panda/obj_meshes/link3_vis/link3_vis_2.obj\"/>\\n    <mesh name=\"robot1_link3_vis_3\" file=\"/home/vishal/Volume_E/Active/Gap_year/grand-project-2025/deepak/robosuite/robosuite/models/assets/robots/panda/obj_meshes/link3_vis/link3_vis_3.obj\"/>\\n    <mesh name=\"robot1_link4_vis_0\" file=\"/home/vishal/Volume_E/Active/Gap_year/grand-project-2025/deepak/robosuite/robosuite/models/assets/robots/panda/obj_meshes/link4_vis/link4_vis_0.obj\"/>\\n    <mesh name=\"robot1_link4_vis_1\" file=\"/home/vishal/Volume_E/Active/Gap_year/grand-project-2025/deepak/robosuite/robosuite/models/assets/robots/panda/obj_meshes/link4_vis/link4_vis_1.obj\"/>\\n    <mesh name=\"robot1_link4_vis_2\" file=\"/home/vishal/Volume_E/Active/Gap_year/grand-project-2025/deepak/robosuite/robosuite/models/assets/robots/panda/obj_meshes/link4_vis/link4_vis_2.obj\"/>\\n    <mesh name=\"robot1_link4_vis_3\" file=\"/home/vishal/Volume_E/Active/Gap_year/grand-project-2025/deepak/robosuite/robosuite/models/assets/robots/panda/obj_meshes/link4_vis/link4_vis_3.obj\"/>\\n    <mesh name=\"robot1_link5_vis_0\" file=\"/home/vishal/Volume_E/Active/Gap_year/grand-project-2025/deepak/robosuite/robosuite/models/assets/robots/panda/obj_meshes/link5_vis/link5_vis_0.obj\"/>\\n    <mesh name=\"robot1_link5_vis_1\" file=\"/home/vishal/Volume_E/Active/Gap_year/grand-project-2025/deepak/robosuite/robosuite/models/assets/robots/panda/obj_meshes/link5_vis/link5_vis_1.obj\"/>\\n    <mesh name=\"robot1_link5_vis_2\" file=\"/home/vishal/Volume_E/Active/Gap_year/grand-project-2025/deepak/robosuite/robosuite/models/assets/robots/panda/obj_meshes/link5_vis/link5_vis_2.obj\"/>\\n    <mesh name=\"robot1_link6_vis_0\" file=\"/home/vishal/Volume_E/Active/Gap_year/grand-project-2025/deepak/robosuite/robosuite/models/assets/robots/panda/obj_meshes/link6_vis/link6_vis_0.obj\"/>\\n    <mesh name=\"robot1_link6_vis_1\" file=\"/home/vishal/Volume_E/Active/Gap_year/grand-project-2025/deepak/robosuite/robosuite/models/assets/robots/panda/obj_meshes/link6_vis/link6_vis_1.obj\"/>\\n    <mesh name=\"robot1_link6_vis_2\" file=\"/home/vishal/Volume_E/Active/Gap_year/grand-project-2025/deepak/robosuite/robosuite/models/assets/robots/panda/obj_meshes/link6_vis/link6_vis_2.obj\"/>\\n    <mesh name=\"robot1_link6_vis_3\" file=\"/home/vishal/Volume_E/Active/Gap_year/grand-project-2025/deepak/robosuite/robosuite/models/assets/robots/panda/obj_meshes/link6_vis/link6_vis_3.obj\"/>\\n    <mesh name=\"robot1_link6_vis_4\" file=\"/home/vishal/Volume_E/Active/Gap_year/grand-project-2025/deepak/robosuite/robosuite/models/assets/robots/panda/obj_meshes/link6_vis/link6_vis_4.obj\"/>\\n    <mesh name=\"robot1_link6_vis_5\" file=\"/home/vishal/Volume_E/Active/Gap_year/grand-project-2025/deepak/robosuite/robosuite/models/assets/robots/panda/obj_meshes/link6_vis/link6_vis_5.obj\"/>\\n    <mesh name=\"robot1_link6_vis_6\" file=\"/home/vishal/Volume_E/Active/Gap_year/grand-project-2025/deepak/robosuite/robosuite/models/assets/robots/panda/obj_meshes/link6_vis/link6_vis_6.obj\"/>\\n    <mesh name=\"robot1_link6_vis_7\" file=\"/home/vishal/Volume_E/Active/Gap_year/grand-project-2025/deepak/robosuite/robosuite/models/assets/robots/panda/obj_meshes/link6_vis/link6_vis_7.obj\"/>\\n    <mesh name=\"robot1_link6_vis_8\" file=\"/home/vishal/Volume_E/Active/Gap_year/grand-project-2025/deepak/robosuite/robosuite/models/assets/robots/panda/obj_meshes/link6_vis/link6_vis_8.obj\"/>\\n    <mesh name=\"robot1_link6_vis_9\" file=\"/home/vishal/Volume_E/Active/Gap_year/grand-project-2025/deepak/robosuite/robosuite/models/assets/robots/panda/obj_meshes/link6_vis/link6_vis_9.obj\"/>\\n    <mesh name=\"robot1_link6_vis_10\" file=\"/home/vishal/Volume_E/Active/Gap_year/grand-project-2025/deepak/robosuite/robosuite/models/assets/robots/panda/obj_meshes/link6_vis/link6_vis_10.obj\"/>\\n    <mesh name=\"robot1_link6_vis_11\" file=\"/home/vishal/Volume_E/Active/Gap_year/grand-project-2025/deepak/robosuite/robosuite/models/assets/robots/panda/obj_meshes/link6_vis/link6_vis_11.obj\"/>\\n    <mesh name=\"robot1_link6_vis_12\" file=\"/home/vishal/Volume_E/Active/Gap_year/grand-project-2025/deepak/robosuite/robosuite/models/assets/robots/panda/obj_meshes/link6_vis/link6_vis_12.obj\"/>\\n    <mesh name=\"robot1_link6_vis_13\" file=\"/home/vishal/Volume_E/Active/Gap_year/grand-project-2025/deepak/robosuite/robosuite/models/assets/robots/panda/obj_meshes/link6_vis/link6_vis_13.obj\"/>\\n    <mesh name=\"robot1_link6_vis_14\" file=\"/home/vishal/Volume_E/Active/Gap_year/grand-project-2025/deepak/robosuite/robosuite/models/assets/robots/panda/obj_meshes/link6_vis/link6_vis_14.obj\"/>\\n    <mesh name=\"robot1_link6_vis_15\" file=\"/home/vishal/Volume_E/Active/Gap_year/grand-project-2025/deepak/robosuite/robosuite/models/assets/robots/panda/obj_meshes/link6_vis/link6_vis_15.obj\"/>\\n    <mesh name=\"robot1_link6_vis_16\" file=\"/home/vishal/Volume_E/Active/Gap_year/grand-project-2025/deepak/robosuite/robosuite/models/assets/robots/panda/obj_meshes/link6_vis/link6_vis_16.obj\"/>\\n    <mesh name=\"robot1_link7_vis_0\" file=\"/home/vishal/Volume_E/Active/Gap_year/grand-project-2025/deepak/robosuite/robosuite/models/assets/robots/panda/obj_meshes/link7_vis/link7_vis_0.obj\"/>\\n    <mesh name=\"robot1_link7_vis_1\" file=\"/home/vishal/Volume_E/Active/Gap_year/grand-project-2025/deepak/robosuite/robosuite/models/assets/robots/panda/obj_meshes/link7_vis/link7_vis_1.obj\"/>\\n    <mesh name=\"robot1_link7_vis_2\" file=\"/home/vishal/Volume_E/Active/Gap_year/grand-project-2025/deepak/robosuite/robosuite/models/assets/robots/panda/obj_meshes/link7_vis/link7_vis_2.obj\"/>\\n    <mesh name=\"robot1_link7_vis_3\" file=\"/home/vishal/Volume_E/Active/Gap_year/grand-project-2025/deepak/robosuite/robosuite/models/assets/robots/panda/obj_meshes/link7_vis/link7_vis_3.obj\"/>\\n    <mesh name=\"robot1_link7_vis_4\" file=\"/home/vishal/Volume_E/Active/Gap_year/grand-project-2025/deepak/robosuite/robosuite/models/assets/robots/panda/obj_meshes/link7_vis/link7_vis_4.obj\"/>\\n    <mesh name=\"robot1_link7_vis_5\" file=\"/home/vishal/Volume_E/Active/Gap_year/grand-project-2025/deepak/robosuite/robosuite/models/assets/robots/panda/obj_meshes/link7_vis/link7_vis_5.obj\"/>\\n    <mesh name=\"robot1_link7_vis_6\" file=\"/home/vishal/Volume_E/Active/Gap_year/grand-project-2025/deepak/robosuite/robosuite/models/assets/robots/panda/obj_meshes/link7_vis/link7_vis_6.obj\"/>\\n    <mesh name=\"robot1_link7_vis_7\" file=\"/home/vishal/Volume_E/Active/Gap_year/grand-project-2025/deepak/robosuite/robosuite/models/assets/robots/panda/obj_meshes/link7_vis/link7_vis_7.obj\"/>\\n    <mesh name=\"fixed_mount1_pedestal\" file=\"/home/vishal/Volume_E/Active/Gap_year/grand-project-2025/deepak/robosuite/robosuite/models/assets/bases/meshes/rethink_mount/pedestal.stl\"/>\\n    <mesh name=\"gripper1_right_l_palm_vis\" file=\"/home/vishal/Volume_E/Active/Gap_year/grand-project-2025/deepak/robosuite/robosuite/models/assets/grippers/meshes/inspire_hands/lh_base_link.STL\"/>\\n    <mesh name=\"gripper1_right_l_palm_col\" content_type=\"model/stl\" file=\"/home/vishal/Volume_E/Active/Gap_year/grand-project-2025/deepak/robosuite/robosuite/models/assets/grippers/meshes/inspire_hands/lh_base_link.STL\"/>\\n    <mesh name=\"gripper1_right_l_thumb_proximal_1_vis\" file=\"/home/vishal/Volume_E/Active/Gap_year/grand-project-2025/deepak/robosuite/robosuite/models/assets/grippers/meshes/inspire_hands/lh_Link11.STL\"/>\\n    <mesh name=\"gripper1_right_l_thumb_proximal_1_col\" content_type=\"model/stl\" file=\"/home/vishal/Volume_E/Active/Gap_year/grand-project-2025/deepak/robosuite/robosuite/models/assets/grippers/meshes/inspire_hands/lh_Link11.STL\"/>\\n    <mesh name=\"gripper1_right_l_thumb_proximal_2_vis\" file=\"/home/vishal/Volume_E/Active/Gap_year/grand-project-2025/deepak/robosuite/robosuite/models/assets/grippers/meshes/inspire_hands/lh_Link12.STL\"/>\\n    <mesh name=\"gripper1_right_l_thumb_proximal_2_col\" content_type=\"model/stl\" file=\"/home/vishal/Volume_E/Active/Gap_year/grand-project-2025/deepak/robosuite/robosuite/models/assets/grippers/meshes/inspire_hands/lh_Link12.STL\"/>\\n    <mesh name=\"gripper1_right_l_thumb_middle_vis\" file=\"/home/vishal/Volume_E/Active/Gap_year/grand-project-2025/deepak/robosuite/robosuite/models/assets/grippers/meshes/inspire_hands/lh_Link13.STL\"/>\\n    <mesh name=\"gripper1_right_l_thumb_middle_col\" content_type=\"model/stl\" file=\"/home/vishal/Volume_E/Active/Gap_year/grand-project-2025/deepak/robosuite/robosuite/models/assets/grippers/meshes/inspire_hands/lh_Link13.STL\"/>\\n    <mesh name=\"gripper1_right_l_thumb_distal_vis\" file=\"/home/vishal/Volume_E/Active/Gap_year/grand-project-2025/deepak/robosuite/robosuite/models/assets/grippers/meshes/inspire_hands/lh_Link14.STL\"/>\\n    <mesh name=\"gripper1_right_l_thumb_distal_col\" content_type=\"model/stl\" file=\"/home/vishal/Volume_E/Active/Gap_year/grand-project-2025/deepak/robosuite/robosuite/models/assets/grippers/meshes/inspire_hands/lh_Link14.STL\"/>\\n    <mesh name=\"gripper1_right_l_index_proximal_vis\" file=\"/home/vishal/Volume_E/Active/Gap_year/grand-project-2025/deepak/robosuite/robosuite/models/assets/grippers/meshes/inspire_hands/lh_Link15.STL\"/>\\n    <mesh name=\"gripper1_right_l_index_proximal_col\" content_type=\"model/stl\" file=\"/home/vishal/Volume_E/Active/Gap_year/grand-project-2025/deepak/robosuite/robosuite/models/assets/grippers/meshes/inspire_hands/lh_Link15.STL\"/>\\n    <mesh name=\"gripper1_right_l_index_distal_vis\" file=\"/home/vishal/Volume_E/Active/Gap_year/grand-project-2025/deepak/robosuite/robosuite/models/assets/grippers/meshes/inspire_hands/lh_Link16.STL\"/>\\n    <mesh name=\"gripper1_right_l_index_distal_col\" content_type=\"model/stl\" file=\"/home/vishal/Volume_E/Active/Gap_year/grand-project-2025/deepak/robosuite/robosuite/models/assets/grippers/meshes/inspire_hands/lh_Link16.STL\"/>\\n    <mesh name=\"gripper1_right_l_middle_proximal_vis\" file=\"/home/vishal/Volume_E/Active/Gap_year/grand-project-2025/deepak/robosuite/robosuite/models/assets/grippers/meshes/inspire_hands/lh_Link17.STL\"/>\\n    <mesh name=\"gripper1_right_l_middle_proximal_col\" content_type=\"model/stl\" file=\"/home/vishal/Volume_E/Active/Gap_year/grand-project-2025/deepak/robosuite/robosuite/models/assets/grippers/meshes/inspire_hands/lh_Link17.STL\"/>\\n    <mesh name=\"gripper1_right_l_middle_distal_vis\" file=\"/home/vishal/Volume_E/Active/Gap_year/grand-project-2025/deepak/robosuite/robosuite/models/assets/grippers/meshes/inspire_hands/lh_Link18.STL\"/>\\n    <mesh name=\"gripper1_right_l_middle_distal_col\" content_type=\"model/stl\" file=\"/home/vishal/Volume_E/Active/Gap_year/grand-project-2025/deepak/robosuite/robosuite/models/assets/grippers/meshes/inspire_hands/lh_Link18.STL\"/>\\n    <mesh name=\"gripper1_right_l_ring_proximal_vis\" file=\"/home/vishal/Volume_E/Active/Gap_year/grand-project-2025/deepak/robosuite/robosuite/models/assets/grippers/meshes/inspire_hands/lh_Link19.STL\"/>\\n    <mesh name=\"gripper1_right_l_ring_proximal_col\" content_type=\"model/stl\" file=\"/home/vishal/Volume_E/Active/Gap_year/grand-project-2025/deepak/robosuite/robosuite/models/assets/grippers/meshes/inspire_hands/lh_Link19.STL\"/>\\n    <mesh name=\"gripper1_right_l_ring_distal_vis\" file=\"/home/vishal/Volume_E/Active/Gap_year/grand-project-2025/deepak/robosuite/robosuite/models/assets/grippers/meshes/inspire_hands/lh_Link20.STL\"/>\\n    <mesh name=\"gripper1_right_l_ring_distal_col\" content_type=\"model/stl\" file=\"/home/vishal/Volume_E/Active/Gap_year/grand-project-2025/deepak/robosuite/robosuite/models/assets/grippers/meshes/inspire_hands/lh_Link20.STL\"/>\\n    <mesh name=\"gripper1_right_l_pinky_proximal_vis\" file=\"/home/vishal/Volume_E/Active/Gap_year/grand-project-2025/deepak/robosuite/robosuite/models/assets/grippers/meshes/inspire_hands/lh_Link21.STL\"/>\\n    <mesh name=\"gripper1_right_l_pinky_proximal_col\" content_type=\"model/stl\" file=\"/home/vishal/Volume_E/Active/Gap_year/grand-project-2025/deepak/robosuite/robosuite/models/assets/grippers/meshes/inspire_hands/lh_Link21.STL\"/>\\n    <mesh name=\"gripper1_right_l_pinky_distal_vis\" file=\"/home/vishal/Volume_E/Active/Gap_year/grand-project-2025/deepak/robosuite/robosuite/models/assets/grippers/meshes/inspire_hands/lh_Link22.STL\"/>\\n    <mesh name=\"gripper1_right_l_pinky_distal_col\" content_type=\"model/stl\" file=\"/home/vishal/Volume_E/Active/Gap_year/grand-project-2025/deepak/robosuite/robosuite/models/assets/grippers/meshes/inspire_hands/lh_Link22.STL\"/>\\n  </asset>\\n\\n  <worldbody>\\n    <geom name=\"floor\" size=\"3 3 0.125\" type=\"plane\" group=\"1\" material=\"floorplane\"/>\\n    <geom name=\"wall_leftcorner_visual\" size=\"1.06 1.5 0.01\" pos=\"-1.25 2.25 1.5\" quat=\"0.653281 0.653281 0.270598 0.270598\" type=\"box\" contype=\"0\" conaffinity=\"0\" group=\"1\" material=\"walls_mat\"/>\\n    <geom name=\"wall_rightcorner_visual\" size=\"1.06 1.5 0.01\" pos=\"-1.25 -2.25 1.5\" quat=\"0.653281 0.653281 -0.270598 -0.270598\" type=\"box\" contype=\"0\" conaffinity=\"0\" group=\"1\" material=\"walls_mat\"/>\\n    <geom name=\"wall_left_visual\" size=\"1.75 1.5 0.01\" pos=\"1.25 3 1.5\" quat=\"0.707107 0.707107 0 0\" type=\"box\" contype=\"0\" conaffinity=\"0\" group=\"1\" material=\"walls_mat\"/>\\n    <geom name=\"wall_right_visual\" size=\"1.75 1.5 0.01\" pos=\"1.25 -3 1.5\" quat=\"0.707107 -0.707107 0 0\" type=\"box\" contype=\"0\" conaffinity=\"0\" group=\"1\" material=\"walls_mat\"/>\\n    <geom name=\"wall_rear_visual\" size=\"1.5 1.5 0.01\" pos=\"-2 0 1.5\" quat=\"0.5 0.5 0.5 0.5\" type=\"box\" contype=\"0\" conaffinity=\"0\" group=\"1\" material=\"walls_mat\"/>\\n    <geom name=\"wall_front_visual\" size=\"3 1.5 0.01\" pos=\"3 0 1.5\" quat=\"0.5 0.5 -0.5 -0.5\" type=\"box\" contype=\"0\" conaffinity=\"0\" group=\"1\" material=\"walls_mat\"/>\\n    <camera name=\"frontview\" pos=\"1.6 0 1.45\" quat=\"0.560842 0.430646 0.430646 0.560842\"/>\\n    <camera name=\"birdview\" pos=\"-0.2 0 3\" quat=\"0.707107 0 0 0.707107\"/>\\n    <camera name=\"agentview\" pos=\"-0.5 0 1.65\" quat=\"0.673975 0.213911 -0.213911 -0.673975\"/>\\n    <camera name=\"sideview\" pos=\"-0.0565177 1.27612 1.48796\" quat=\"0.00990507 0.00687796 0.591223 0.806418\"/>\\n    <light pos=\"1 1 1.5\" dir=\"-0.19245 -0.19245 -0.96225\" type=\"directional\" castshadow=\"false\"/>\\n    <body name=\"table\" pos=\"0 0 0.675\">\\n      <geom name=\"table_collision\" size=\"0.4 0.4 0.025\" type=\"box\" rgba=\"0.5 0.5 0 1\"/>\\n      <geom name=\"table_visual\" size=\"0.4 0.4 0.025\" type=\"box\" contype=\"0\" conaffinity=\"0\" group=\"1\" material=\"table_ceramic\"/>\\n      <geom name=\"table_leg1_visual\" size=\"0.025 0.3375\" pos=\"0.3 0.3 -0.3375\" type=\"cylinder\" contype=\"0\" conaffinity=\"0\" group=\"1\" material=\"table_legs_metal\"/>\\n      <geom name=\"table_leg2_visual\" size=\"0.025 0.3375\" pos=\"-0.3 0.3 -0.3375\" type=\"cylinder\" contype=\"0\" conaffinity=\"0\" group=\"1\" material=\"table_legs_metal\"/>\\n      <geom name=\"table_leg3_visual\" size=\"0.025 0.3375\" pos=\"-0.3 -0.3 -0.3375\" type=\"cylinder\" contype=\"0\" conaffinity=\"0\" group=\"1\" material=\"table_legs_metal\"/>\\n      <geom name=\"table_leg4_visual\" size=\"0.025 0.3375\" pos=\"0.3 -0.3 -0.3375\" type=\"cylinder\" contype=\"0\" conaffinity=\"0\" group=\"1\" material=\"table_legs_metal\"/>\\n      <site name=\"table_top\" pos=\"0 0 0.025\" size=\"0.001\" rgba=\"0 0 0 0\"/>\\n    </body>\\n    <body name=\"left_eef_target\" pos=\"0 0 -1\" mocap=\"true\">\\n      <geom name=\"left_eef_target_box\" size=\"0.05 0.05 0.05\" type=\"box\" contype=\"0\" conaffinity=\"0\" group=\"2\" rgba=\"0.898 0.42 0.435 0.5\"/>\\n      <geom name=\"left_eef_target_sphere\" size=\"0.01\" contype=\"0\" conaffinity=\"0\" group=\"2\" rgba=\"0.898 0.42 0.435 0.8\"/>\\n    </body>\\n    <body name=\"right_eef_target\" pos=\"0 0 -1\" mocap=\"true\">\\n      <geom name=\"right_eef_target_box\" size=\"0.05 0.05 0.05\" type=\"box\" contype=\"0\" conaffinity=\"0\" group=\"2\" rgba=\"0.208 0.314 0.439 0.5\"/>\\n      <geom name=\"right_eef_target_sphere\" size=\"0.01\" contype=\"0\" conaffinity=\"0\" group=\"2\" rgba=\"0.208 0.314 0.439 0.8\"/>\\n    </body>\\n    <body name=\"robot0_base\" pos=\"-0.56 -0.25 0.912\">\\n      <inertial pos=\"0 0 0\" mass=\"0\" diaginertia=\"0 0 0\"/>\\n      <camera name=\"robot0_robotview\" pos=\"1 0 0.4\" quat=\"0.653098 0.271041 0.271041 0.653098\"/>\\n      <body name=\"robot0_link0\">\\n        <inertial pos=\"0 0 0.05\" mass=\"4\" diaginertia=\"0.4 0.4 0.4\"/>\\n        <geom name=\"robot0_g0_vis\" type=\"mesh\" contype=\"0\" conaffinity=\"0\" group=\"1\" material=\"robot0_Shell010_001\" mesh=\"robot0_link0_vis_0\"/>\\n        <geom name=\"robot0_g1_vis\" type=\"mesh\" contype=\"0\" conaffinity=\"0\" group=\"1\" material=\"robot0_Shell009_001\" mesh=\"robot0_link0_vis_1\"/>\\n        <geom name=\"robot0_g2_vis\" type=\"mesh\" contype=\"0\" conaffinity=\"0\" group=\"1\" material=\"robot0_Shell003_001\" mesh=\"robot0_link0_vis_2\"/>\\n        <geom name=\"robot0_g3_vis\" type=\"mesh\" contype=\"0\" conaffinity=\"0\" group=\"1\" material=\"robot0_Shell_001\" mesh=\"robot0_link0_vis_3\"/>\\n        <geom name=\"robot0_g4_vis\" type=\"mesh\" contype=\"0\" conaffinity=\"0\" group=\"1\" material=\"robot0_Shell002_001\" mesh=\"robot0_link0_vis_4\"/>\\n        <geom name=\"robot0_g5_vis\" type=\"mesh\" contype=\"0\" conaffinity=\"0\" group=\"1\" material=\"robot0_Shell001_001\" mesh=\"robot0_link0_vis_5\"/>\\n        <geom name=\"robot0_g6_vis\" type=\"mesh\" contype=\"0\" conaffinity=\"0\" group=\"1\" material=\"robot0_Face636_001\" mesh=\"robot0_link0_vis_6\"/>\\n        <geom name=\"robot0_g7_vis\" type=\"mesh\" contype=\"0\" conaffinity=\"0\" group=\"1\" material=\"robot0_Part__Feature018_001\" mesh=\"robot0_link0_vis_7\"/>\\n        <geom name=\"robot0_g8_vis\" type=\"mesh\" contype=\"0\" conaffinity=\"0\" group=\"1\" material=\"robot0_Part__Feature019_001\" mesh=\"robot0_link0_vis_8\"/>\\n        <geom name=\"robot0_g9_vis\" type=\"mesh\" contype=\"0\" conaffinity=\"0\" group=\"1\" material=\"robot0_Part__Feature023_001\" mesh=\"robot0_link0_vis_9\"/>\\n        <geom name=\"robot0_g10_vis\" type=\"mesh\" contype=\"0\" conaffinity=\"0\" group=\"1\" material=\"robot0_Part__Feature022_001\" mesh=\"robot0_link0_vis_10\"/>\\n        <geom name=\"robot0_g11_vis\" type=\"mesh\" contype=\"0\" conaffinity=\"0\" group=\"1\" material=\"robot0_Part__Feature017_001\" mesh=\"robot0_link0_vis_11\"/>\\n        <geom name=\"robot0_link0_collision\" type=\"mesh\" rgba=\"0 0.5 0 1\" mesh=\"robot0_link0\"/>\\n        <site name=\"robot0_right_center\" pos=\"0 0 0\" size=\"0.01\" group=\"2\" rgba=\"1 0.3 0.3 -1\"/>\\n        <body name=\"robot0_link1\" pos=\"0 0 0.333\">\\n          <inertial pos=\"0 0 -0.07\" mass=\"3\" diaginertia=\"0.3 0.3 0.3\"/>\\n          <joint name=\"robot0_joint1\" pos=\"0 0 0\" axis=\"0 0 1\" limited=\"true\" range=\"-2.8973 2.8973\" armature=\"5\" damping=\"0.1\" frictionloss=\"0.1\"/>\\n          <geom name=\"robot0_g12_vis\" type=\"mesh\" contype=\"0\" conaffinity=\"0\" group=\"1\" material=\"robot0_Part__Feature_001\" mesh=\"robot0_link1_vis\"/>\\n          <geom name=\"robot0_link1_collision\" type=\"mesh\" rgba=\"0 0.5 0 1\" mesh=\"robot0_link1\"/>\\n          <body name=\"robot0_link2\" quat=\"0.707107 -0.707107 0 0\">\\n            <inertial pos=\"0 -0.1 0\" mass=\"3\" diaginertia=\"0.3 0.3 0.3\"/>\\n            <joint name=\"robot0_joint2\" pos=\"0 0 0\" axis=\"0 0 1\" limited=\"true\" range=\"-1.7628 1.7628\" armature=\"2.5\" damping=\"0.1\" frictionloss=\"0.1\"/>\\n            <geom name=\"robot0_g13_vis\" type=\"mesh\" contype=\"0\" conaffinity=\"0\" group=\"1\" material=\"robot0_Part__Feature024\" mesh=\"robot0_link2_vis\"/>\\n            <geom name=\"robot0_link2_collision\" type=\"mesh\" rgba=\"0 0.5 0 1\" mesh=\"robot0_link2\"/>\\n            <body name=\"robot0_link3\" pos=\"0 -0.316 0\" quat=\"0.707107 0.707107 0 0\">\\n              <inertial pos=\"0.04 0 -0.05\" mass=\"2\" diaginertia=\"0.2 0.2 0.2\"/>\\n              <joint name=\"robot0_joint3\" pos=\"0 0 0\" axis=\"0 0 1\" limited=\"true\" range=\"-2.8973 2.8973\" armature=\"1.66667\" damping=\"0.1\" frictionloss=\"0.1\"/>\\n              <geom name=\"robot0_g14_vis\" type=\"mesh\" contype=\"0\" conaffinity=\"0\" group=\"1\" material=\"robot0_Part__Feature003_004_001_002\" mesh=\"robot0_link3_vis_0\"/>\\n              <geom name=\"robot0_g15_vis\" type=\"mesh\" contype=\"0\" conaffinity=\"0\" group=\"1\" material=\"robot0_Part__Feature002_007_001_002\" mesh=\"robot0_link3_vis_1\"/>\\n              <geom name=\"robot0_g16_vis\" type=\"mesh\" contype=\"0\" conaffinity=\"0\" group=\"1\" material=\"robot0_Part__Feature001_010_001_002\" mesh=\"robot0_link3_vis_2\"/>\\n              <geom name=\"robot0_g17_vis\" type=\"mesh\" contype=\"0\" conaffinity=\"0\" group=\"1\" material=\"robot0_Part__Feature_001_001_001_002\" mesh=\"robot0_link3_vis_3\"/>\\n              <geom name=\"robot0_link3_collision\" type=\"mesh\" rgba=\"0 0.5 0 1\" mesh=\"robot0_link3\"/>\\n              <body name=\"robot0_link4\" pos=\"0.0825 0 0\" quat=\"0.707107 0.707107 0 0\">\\n                <inertial pos=\"-0.04 0.05 0\" mass=\"2\" diaginertia=\"0.2 0.2 0.2\"/>\\n                <joint name=\"robot0_joint4\" pos=\"0 0 0\" axis=\"0 0 1\" limited=\"true\" range=\"-3.0718 -0.0698\" armature=\"1.25\" damping=\"0.1\" frictionloss=\"0.1\"/>\\n                <geom name=\"robot0_g18_vis\" type=\"mesh\" contype=\"0\" conaffinity=\"0\" group=\"1\" material=\"robot0_Part__Feature001_001_003_001\" mesh=\"robot0_link4_vis_0\"/>\\n                <geom name=\"robot0_g19_vis\" type=\"mesh\" contype=\"0\" conaffinity=\"0\" group=\"1\" material=\"robot0_Part__Feature003_001_003_001\" mesh=\"robot0_link4_vis_1\"/>\\n                <geom name=\"robot0_g20_vis\" type=\"mesh\" contype=\"0\" conaffinity=\"0\" group=\"1\" material=\"robot0_Part__Feature002_001_003_001\" mesh=\"robot0_link4_vis_2\"/>\\n                <geom name=\"robot0_g21_vis\" type=\"mesh\" contype=\"0\" conaffinity=\"0\" group=\"1\" material=\"robot0_Part__Feature_002_003_001\" mesh=\"robot0_link4_vis_3\"/>\\n                <geom name=\"robot0_link4_collision\" type=\"mesh\" rgba=\"0 0.5 0 1\" mesh=\"robot0_link4\"/>\\n                <body name=\"robot0_link5\" pos=\"-0.0825 0.384 0\" quat=\"0.707107 -0.707107 0 0\">\\n                  <inertial pos=\"0 0 -0.15\" mass=\"2\" diaginertia=\"0.2 0.2 0.2\"/>\\n                  <joint name=\"robot0_joint5\" pos=\"0 0 0\" axis=\"0 0 1\" limited=\"true\" range=\"-2.8973 2.8973\" armature=\"1\" damping=\"0.1\" frictionloss=\"0.1\"/>\\n                  <geom name=\"robot0_g22_vis\" type=\"mesh\" contype=\"0\" conaffinity=\"0\" group=\"1\" material=\"robot0_Shell001_001_001_003\" mesh=\"robot0_link5_vis_0\"/>\\n                  <geom name=\"robot0_g23_vis\" type=\"mesh\" contype=\"0\" conaffinity=\"0\" group=\"1\" material=\"robot0_Shell_001_001_003\" mesh=\"robot0_link5_vis_1\"/>\\n                  <geom name=\"robot0_g24_vis\" type=\"mesh\" contype=\"0\" conaffinity=\"0\" group=\"1\" material=\"robot0_Part__Feature_002_004_003\" mesh=\"robot0_link5_vis_2\"/>\\n                  <geom name=\"robot0_link5_collision\" type=\"mesh\" rgba=\"0 0.5 0 1\" mesh=\"robot0_link5\"/>\\n                  <body name=\"robot0_link6\" quat=\"0.707107 0.707107 0 0\">\\n                    <inertial pos=\"0.06 0 0\" mass=\"1.5\" diaginertia=\"0.1 0.1 0.1\"/>\\n                    <joint name=\"robot0_joint6\" pos=\"0 0 0\" axis=\"0 0 1\" limited=\"true\" range=\"-0.0175 3.7525\" armature=\"0.833333\" damping=\"0.01\" frictionloss=\"0.1\"/>\\n                    <geom name=\"robot0_g25_vis\" type=\"mesh\" contype=\"0\" conaffinity=\"0\" group=\"1\" material=\"robot0_Shell006_003_002_001\" mesh=\"robot0_link6_vis_0\"/>\\n                    <geom name=\"robot0_g26_vis\" type=\"mesh\" contype=\"0\" conaffinity=\"0\" group=\"1\" material=\"robot0_Shell011_002_002_001\" mesh=\"robot0_link6_vis_1\"/>\\n                    <geom name=\"robot0_g27_vis\" type=\"mesh\" contype=\"0\" conaffinity=\"0\" group=\"1\" material=\"robot0_Shell007_002_002_001\" mesh=\"robot0_link6_vis_2\"/>\\n                    <geom name=\"robot0_g28_vis\" type=\"mesh\" contype=\"0\" conaffinity=\"0\" group=\"1\" material=\"robot0_Shell005_001_001_002_001\" mesh=\"robot0_link6_vis_3\"/>\\n                    <geom name=\"robot0_g29_vis\" type=\"mesh\" contype=\"0\" conaffinity=\"0\" group=\"1\" material=\"robot0_Shell004_001_001_002_001\" mesh=\"robot0_link6_vis_4\"/>\\n                    <geom name=\"robot0_g30_vis\" type=\"mesh\" contype=\"0\" conaffinity=\"0\" group=\"1\" material=\"robot0_Shell003_002_001_002_001\" mesh=\"robot0_link6_vis_5\"/>\\n                    <geom name=\"robot0_g31_vis\" type=\"mesh\" contype=\"0\" conaffinity=\"0\" group=\"1\" material=\"robot0_Shell002_002_001_002_001\" mesh=\"robot0_link6_vis_6\"/>\\n                    <geom name=\"robot0_g32_vis\" type=\"mesh\" contype=\"0\" conaffinity=\"0\" group=\"1\" material=\"robot0_Union001_001_001_002_001\" mesh=\"robot0_link6_vis_7\"/>\\n                    <geom name=\"robot0_g33_vis\" type=\"mesh\" contype=\"0\" conaffinity=\"0\" group=\"1\" material=\"robot0_Union_001_001_002_001\" mesh=\"robot0_link6_vis_8\"/>\\n                    <geom name=\"robot0_g34_vis\" type=\"mesh\" contype=\"0\" conaffinity=\"0\" group=\"1\" material=\"robot0_Face539_002_001_002_001\" mesh=\"robot0_link6_vis_9\"/>\\n                    <geom name=\"robot0_g35_vis\" type=\"mesh\" contype=\"0\" conaffinity=\"0\" group=\"1\" material=\"robot0_Shell_003_001_002_001\" mesh=\"robot0_link6_vis_10\"/>\\n                    <geom name=\"robot0_g36_vis\" type=\"mesh\" contype=\"0\" conaffinity=\"0\" group=\"1\" material=\"robot0_Face374_002_001_002_001\" mesh=\"robot0_link6_vis_11\"/>\\n                    <geom name=\"robot0_g37_vis\" type=\"mesh\" contype=\"0\" conaffinity=\"0\" group=\"1\" material=\"robot0_Face065_002_001_002_001\" mesh=\"robot0_link6_vis_12\"/>\\n                    <geom name=\"robot0_g38_vis\" type=\"mesh\" contype=\"0\" conaffinity=\"0\" group=\"1\" material=\"robot0_Face064_002_001_002_001\" mesh=\"robot0_link6_vis_13\"/>\\n                    <geom name=\"robot0_g39_vis\" type=\"mesh\" contype=\"0\" conaffinity=\"0\" group=\"1\" material=\"robot0_Part__Feature002_006_001_002_001\" mesh=\"robot0_link6_vis_14\"/>\\n                    <geom name=\"robot0_g40_vis\" type=\"mesh\" contype=\"0\" conaffinity=\"0\" group=\"1\" material=\"robot0_Part__Feature001_009_001_002_001\" mesh=\"robot0_link6_vis_15\"/>\\n                    <geom name=\"robot0_g41_vis\" type=\"mesh\" contype=\"0\" conaffinity=\"0\" group=\"1\" material=\"robot0_Shell012_002_002_001\" mesh=\"robot0_link6_vis_16\"/>\\n                    <geom name=\"robot0_link6_collision\" type=\"mesh\" rgba=\"0 0.5 0 1\" mesh=\"robot0_link6\"/>\\n                    <body name=\"robot0_link7\" pos=\"0.088 0 0\" quat=\"0.707107 0.707107 0 0\">\\n                      <inertial pos=\"0 0 0.08\" mass=\"0.5\" diaginertia=\"0.05 0.05 0.05\"/>\\n                      <joint name=\"robot0_joint7\" pos=\"0 0 0\" axis=\"0 0 1\" limited=\"true\" range=\"-2.8973 2.8973\" armature=\"0.714286\" damping=\"0.01\" frictionloss=\"0.1\"/>\\n                      <geom name=\"robot0_g42_vis\" type=\"mesh\" contype=\"0\" conaffinity=\"0\" group=\"1\" material=\"robot0_Part__Mirroring004_004_002\" mesh=\"robot0_link7_vis_0\"/>\\n                      <geom name=\"robot0_g43_vis\" type=\"mesh\" contype=\"0\" conaffinity=\"0\" group=\"1\" material=\"robot0_Part__Mirroring001_004_002\" mesh=\"robot0_link7_vis_1\"/>\\n                      <geom name=\"robot0_g44_vis\" type=\"mesh\" contype=\"0\" conaffinity=\"0\" group=\"1\" material=\"robot0_Part__Mirroring007_004_001\" mesh=\"robot0_link7_vis_2\"/>\\n                      <geom name=\"robot0_g45_vis\" type=\"mesh\" contype=\"0\" conaffinity=\"0\" group=\"1\" material=\"robot0_Part__Mirroring006_004_001\" mesh=\"robot0_link7_vis_3\"/>\\n                      <geom name=\"robot0_g46_vis\" type=\"mesh\" contype=\"0\" conaffinity=\"0\" group=\"1\" material=\"robot0_Part__Mirroring005_004_001\" mesh=\"robot0_link7_vis_4\"/>\\n                      <geom name=\"robot0_g47_vis\" type=\"mesh\" contype=\"0\" conaffinity=\"0\" group=\"1\" material=\"robot0_Part__Mirroring003_004_001\" mesh=\"robot0_link7_vis_5\"/>\\n                      <geom name=\"robot0_g48_vis\" type=\"mesh\" contype=\"0\" conaffinity=\"0\" group=\"1\" material=\"robot0_Part__Mirroring002_004_001\" mesh=\"robot0_link7_vis_6\"/>\\n                      <geom name=\"robot0_g49_vis\" type=\"mesh\" contype=\"0\" conaffinity=\"0\" group=\"1\" material=\"robot0_Part__Mirroring_004_001\" mesh=\"robot0_link7_vis_7\"/>\\n                      <geom name=\"robot0_link7_collision\" type=\"mesh\" rgba=\"0 0.5 0 1\" mesh=\"robot0_link7\"/>\\n                      <body name=\"robot0_right_hand\" pos=\"0 0 0.1065\" quat=\"0.923785 0 0 -0.382911\">\\n                        <inertial pos=\"0 0 0\" mass=\"0.5\" diaginertia=\"0.05 0.05 0.05\"/>\\n                        <camera name=\"robot0_eye_in_hand\" pos=\"0.05 0 0\" quat=\"0 0.707107 0.707107 0\" fovy=\"75\"/>\\n                        <body name=\"gripper0_right_right_hand\" quat=\"-0.5 0.5 0.5 -0.5\">\\n                          <inertial pos=\"0 0 0\" mass=\"0\" diaginertia=\"0 0 0\"/>\\n                          <site name=\"gripper0_right_ft_frame\" pos=\"0 0 0\" size=\"0.01\" group=\"1\" rgba=\"1 0 0 0\"/>\\n                          <body name=\"gripper0_right_eef\" quat=\"0.707107 0 -0.707107 0\">\\n                            <site name=\"gripper0_right_grip_site\" pos=\"0 0 0\" size=\"0.01\" group=\"2\" rgba=\"1 1 0 -1\"/>\\n                            <site name=\"gripper0_right_ee_x\" pos=\"0.1 0 0\" quat=\"0.707105 0 0.707108 0\" size=\"0.005 0.1\" group=\"1\" type=\"cylinder\" rgba=\"1 0 0 0\"/>\\n                            <site name=\"gripper0_right_ee_y\" pos=\"0 0.1 0\" quat=\"0.707105 0.707108 0 0\" size=\"0.005 0.1\" group=\"1\" type=\"cylinder\" rgba=\"0 1 0 0\"/>\\n                            <site name=\"gripper0_right_ee_z\" pos=\"0 0 0.1\" size=\"0.005 0.1\" group=\"1\" type=\"cylinder\" rgba=\"0 0 1 0\"/>\\n                            <site name=\"gripper0_right_grip_site_cylinder\" pos=\"0 0 0\" quat=\"-0.5 -0.5 -0.5 0.5\" size=\"0.005 0.5\" group=\"1\" type=\"cylinder\" rgba=\"0 1 0 -0.3\"/>\\n                          </body>\\n                          <body name=\"gripper0_right_r_palm\">\\n                            <geom name=\"gripper0_right_r_palm_vis\" type=\"mesh\" contype=\"0\" conaffinity=\"0\" group=\"1\" material=\"gripper0_right_r_base_material\" mesh=\"gripper0_right_r_palm_vis\"/>\\n                            <geom name=\"gripper0_right_r_palm_col\" type=\"mesh\" mass=\"0.1\" rgba=\"0 0 0.5 1\" mesh=\"gripper0_right_r_palm_col\"/>\\n                            <body name=\"gripper0_right_r_thumb\">\\n                              <body name=\"gripper0_right_r_thumb_proximal_1\" pos=\"-0.01496 -0.0375 -0.02045\" quat=\"0.5 0.5 -0.5 0.5\">\\n                                <joint name=\"gripper0_right_joint_r_thumb_proximal_1\" pos=\"0 0 0\" axis=\"0 0 -1\" limited=\"true\" range=\"0 1.3\" damping=\"1\"/>\\n                                <geom name=\"gripper0_right_r_thumb_proximal_vis\" type=\"mesh\" contype=\"0\" conaffinity=\"0\" group=\"1\" material=\"gripper0_right_r_thumb_material\" mesh=\"gripper0_right_r_thumb_proximal_1_vis\"/>\\n                                <geom name=\"gripper0_right_r_thumb_proximal_col\" type=\"mesh\" mass=\"0.1\" rgba=\"0 0 0.5 1\" mesh=\"gripper0_right_r_thumb_proximal_1_col\"/>\\n                                <body name=\"gripper0_right_r_thumb_proximal_2\" pos=\"-0.0088099 0.010892 -0.00925\" quat=\"0.1 0.1 0.7 0.7\">\\n                                  <joint name=\"gripper0_right_joint_r_thumb_proximal_2\" pos=\"0 0 0\" axis=\"0 0 1\" limited=\"true\" range=\"0 0.68\" damping=\"1\"/>\\n                                  <geom name=\"gripper0_right_r_thumb_proximal_2_vis\" type=\"mesh\" contype=\"0\" conaffinity=\"0\" group=\"1\" material=\"gripper0_right_r_thumb_material\" mesh=\"gripper0_right_r_thumb_proximal_2_vis\"/>\\n                                  <geom name=\"gripper0_right_r_thumb_proximal_2_col\" type=\"mesh\" mass=\"0.1\" rgba=\"0 0 0.5 1\" mesh=\"gripper0_right_r_thumb_proximal_2_col\"/>\\n                                  <site name=\"gripper0_right_site_r_thumb_proximal_2\" pos=\"0 0 0\" size=\"0.01\" material=\"gripper0_right_site_right_hand\" rgba=\"0.5 0.5 0.5 -1\"/>\\n                                  <body name=\"gripper0_right_r_thumb_middle\" pos=\"0.04407 0.034553 -0.0008\">\\n                                    <joint name=\"gripper0_right_joint_r_thumb_middle\" pos=\"0 0 0\" axis=\"0 0 1\" limited=\"true\" range=\"0 0.68\" damping=\"1\"/>\\n                                    <geom name=\"gripper0_right_r_thumb_middle_vis\" type=\"mesh\" contype=\"0\" conaffinity=\"0\" group=\"1\" material=\"gripper0_right_r_thumb_material\" mesh=\"gripper0_right_r_thumb_middle_vis\"/>\\n                                    <geom name=\"gripper0_right_r_thumb_middle_col\" type=\"mesh\" mass=\"0.1\" rgba=\"0 0 0.5 1\" mesh=\"gripper0_right_r_thumb_middle_col\"/>\\n                                    <site name=\"gripper0_right_site_r_thumb_middle\" pos=\"0 0 0\" size=\"0.01\" material=\"gripper0_right_site_right_hand\" rgba=\"0.5 0.5 0.5 -1\"/>\\n                                    <body name=\"gripper0_right_r_thumb_distal\" pos=\"0.020248 0.010156 -0.0012\">\\n                                      <joint name=\"gripper0_right_joint_r_thumb_distal\" pos=\"0 0 0\" axis=\"0 0 1\" limited=\"true\" range=\"0 0.77\" damping=\"1\"/>\\n                                      <geom name=\"gripper0_right_r_thumb_distal_vis\" type=\"mesh\" contype=\"0\" conaffinity=\"0\" group=\"1\" material=\"gripper0_right_r_thumb_distal_material\" mesh=\"gripper0_right_r_thumb_distal_vis\"/>\\n                                      <geom name=\"gripper0_right_r_thumb_distal_col\" type=\"mesh\" mass=\"0.1\" rgba=\"0 0 0.5 1\" mesh=\"gripper0_right_r_thumb_distal_col\"/>\\n                                      <site name=\"gripper0_right_site_r_thumb_distal\" pos=\"0 0 0\" size=\"0.01\" material=\"gripper0_right_site_right_hand\" rgba=\"0.5 0.5 0.5 -1\"/>\\n                                    </body>\\n                                  </body>\\n                                </body>\\n                              </body>\\n                            </body>\\n                            <body name=\"gripper0_right_r_index\">\\n                              <body name=\"gripper0_right_r_index_proximal\" pos=\"0.0022853 -0.10493 -0.032268\" quat=\"0.01745 -0.999848 0 0\">\\n                                <joint name=\"gripper0_right_joint_r_index_proximal\" pos=\"0 0 0\" axis=\"0 0 1\" limited=\"true\" range=\"0 1.62\" damping=\"1\"/>\\n                                <geom name=\"gripper0_right_r_index_proximal_vis\" type=\"mesh\" contype=\"0\" conaffinity=\"0\" group=\"1\" material=\"gripper0_right_r_index_material\" mesh=\"gripper0_right_r_index_proximal_vis\"/>\\n                                <geom name=\"gripper0_right_r_index_proximal_col\" type=\"mesh\" mass=\"0.1\" rgba=\"0 0 0.5 1\" mesh=\"gripper0_right_r_index_proximal_col\"/>\\n                                <site name=\"gripper0_right_site_r_index_proximal\" pos=\"0 0 0\" size=\"0.01\" material=\"gripper0_right_site_right_hand\" rgba=\"0.5 0.5 0.5 -1\"/>\\n                                <body name=\"gripper0_right_r_index_distal\" pos=\"-0.0026138 0.032026 -0.001\">\\n                                  <joint name=\"gripper0_right_joint_r_index_distal\" pos=\"0 0 0\" axis=\"0 0 1\" limited=\"true\" range=\"0 1.82\" damping=\"1\"/>\\n                                  <geom name=\"gripper0_right_r_index_distal_vis\" type=\"mesh\" contype=\"0\" conaffinity=\"0\" group=\"1\" material=\"gripper0_right_r_index_material\" mesh=\"gripper0_right_r_index_distal_vis\"/>\\n                                  <geom name=\"gripper0_right_r_index_distal_col\" type=\"mesh\" mass=\"0.1\" rgba=\"0 0 0.5 1\" mesh=\"gripper0_right_r_index_distal_col\"/>\\n                                  <site name=\"gripper0_right_site_r_index_distal\" pos=\"0 0 0\" size=\"0.01\" material=\"gripper0_right_site_right_hand\" rgba=\"0.5 0.5 0.5 -1\"/>\\n                                </body>\\n                              </body>\\n                            </body>\\n                            <body name=\"gripper0_right_r_middle\">\\n                              <body name=\"gripper0_right_r_middle_proximal\" pos=\"0.0022853 -0.1055 -0.01295\" quat=\"0 -1 0 0\">\\n                                <joint name=\"gripper0_right_joint_r_middle_proximal\" pos=\"0 0 0\" axis=\"0 0 1\" limited=\"true\" range=\"0 1.62\" damping=\"1\"/>\\n                                <geom name=\"gripper0_right_r_middle_proximal_vis\" type=\"mesh\" contype=\"0\" conaffinity=\"0\" group=\"1\" material=\"gripper0_right_r_middle_material\" mesh=\"gripper0_right_r_middle_proximal_vis\"/>\\n                                <geom name=\"gripper0_right_r_middle_proximal_col\" type=\"mesh\" mass=\"0.1\" rgba=\"0 0 0.5 1\" mesh=\"gripper0_right_r_middle_proximal_col\"/>\\n                                <site name=\"gripper0_right_site_r_middle_proximal\" pos=\"0 0 0\" size=\"0.01\" material=\"gripper0_right_site_right_hand\" rgba=\"0.5 0.5 0.5 -1\"/>\\n                                <body name=\"gripper0_right_r_middle_distal\" pos=\"-0.0024229 0.032041 -0.001\">\\n                                  <joint name=\"gripper0_right_joint_r_middle_distal\" pos=\"0 0 0\" axis=\"0 0 1\" limited=\"true\" range=\"0 1.82\" damping=\"1\"/>\\n                                  <geom name=\"gripper0_right_r_middle_distal_vis\" type=\"mesh\" contype=\"0\" conaffinity=\"0\" group=\"1\" material=\"gripper0_right_r_middle_material\" mesh=\"gripper0_right_r_middle_distal_vis\"/>\\n                                  <geom name=\"gripper0_right_r_middle_distal_col\" type=\"mesh\" mass=\"0.1\" rgba=\"0 0 0.5 1\" mesh=\"gripper0_right_r_middle_distal_col\"/>\\n                                  <site name=\"gripper0_right_site_r_middle_distal\" pos=\"0 0 0\" size=\"0.01\" material=\"gripper0_right_site_right_hand\" rgba=\"0.5 0.5 0.5 -1\"/>\\n                                </body>\\n                              </body>\\n                            </body>\\n                            <body name=\"gripper0_right_r_ring\">\\n                              <body name=\"gripper0_right_r_ring_proximal\" pos=\"0.0022853 -0.10531 0.0062872\" quat=\"0.0261899 0.999657 0 0\">\\n                                <joint name=\"gripper0_right_joint_r_ring_proximal\" pos=\"0 0 0\" axis=\"0 0 1\" limited=\"true\" range=\"0 1.62\" damping=\"1\"/>\\n                                <geom name=\"gripper0_right_r_ring_proximal_vis\" type=\"mesh\" contype=\"0\" conaffinity=\"0\" group=\"1\" material=\"gripper0_right_r_ring_material\" mesh=\"gripper0_right_r_ring_proximal_vis\"/>\\n                                <geom name=\"gripper0_right_r_ring_proximal_col\" type=\"mesh\" mass=\"0.1\" rgba=\"0 0 0.5 1\" mesh=\"gripper0_right_r_ring_proximal_col\"/>\\n                                <site name=\"gripper0_right_site_r_ring_proximal\" pos=\"0 0 0\" size=\"0.01\" material=\"gripper0_right_site_right_hand\" rgba=\"0.5 0.5 0.5 -1\"/>\\n                                <body name=\"gripper0_right_r_ring_distal\" pos=\"-0.0024229 0.032041 -0.001\">\\n                                  <joint name=\"gripper0_right_joint_r_ring_distal\" pos=\"0 0 0\" axis=\"0 0 1\" limited=\"true\" range=\"0 1.75\" damping=\"1\"/>\\n                                  <geom name=\"gripper0_right_r_ring_distal_vis\" type=\"mesh\" contype=\"0\" conaffinity=\"0\" group=\"1\" material=\"gripper0_right_r_ring_material\" mesh=\"gripper0_right_r_ring_distal_vis\"/>\\n                                  <geom name=\"gripper0_right_r_ring_distal_col\" type=\"mesh\" mass=\"0.1\" rgba=\"0 0 0.5 1\" mesh=\"gripper0_right_r_ring_distal_col\"/>\\n                                  <site name=\"gripper0_right_site_r_ring_distal\" pos=\"0 0 0\" size=\"0.01\" material=\"gripper0_right_site_right_hand\" rgba=\"0.5 0.5 0.5 -1\"/>\\n                                </body>\\n                              </body>\\n                            </body>\\n                            <body name=\"gripper0_right_r_pinky\">\\n                              <body name=\"gripper0_right_r_pinky_proximal\" pos=\"0.0022853 -0.10411 0.025488\" quat=\"0.05232 0.99863 0 0\">\\n                                <joint name=\"gripper0_right_joint_r_pinky_proximal\" pos=\"0 0 0\" axis=\"0 0 1\" limited=\"true\" range=\"0 1.62\" damping=\"1\"/>\\n                                <geom name=\"gripper0_right_r_pinky_proximal_vis\" type=\"mesh\" contype=\"0\" conaffinity=\"0\" group=\"1\" material=\"gripper0_right_r_pinky_material\" mesh=\"gripper0_right_r_pinky_proximal_vis\"/>\\n                                <geom name=\"gripper0_right_r_pinky_proximal_col\" type=\"mesh\" mass=\"0.1\" rgba=\"0 0 0.5 1\" mesh=\"gripper0_right_r_pinky_proximal_col\"/>\\n                                <site name=\"gripper0_right_site_r_pinky_proximal\" pos=\"0 0 0\" size=\"0.01\" material=\"gripper0_right_site_right_hand\" rgba=\"0.5 0.5 0.5 -1\"/>\\n                                <body name=\"gripper0_right_r_pinky_distal\" pos=\"-0.0024229 0.032041 -0.001\">\\n                                  <joint name=\"gripper0_right_joint_r_pinky_distal\" pos=\"0 0 0\" axis=\"0 0 1\" limited=\"true\" range=\"0 1.87\" damping=\"1\"/>\\n                                  <geom name=\"gripper0_right_r_pinky_distal_vis\" type=\"mesh\" contype=\"0\" conaffinity=\"0\" group=\"1\" material=\"gripper0_right_r_pinky_material\" mesh=\"gripper0_right_r_pinky_distal_vis\"/>\\n                                  <geom name=\"gripper0_right_r_pinky_distal_col\" type=\"mesh\" mass=\"0.1\" rgba=\"0 0 0.5 1\" mesh=\"gripper0_right_r_pinky_distal_col\"/>\\n                                  <site name=\"gripper0_right_site_r_pinky_distal\" pos=\"0 0 0\" size=\"0.01\" material=\"gripper0_right_site_right_hand\" rgba=\"0.5 0.5 0.5 -1\"/>\\n                                </body>\\n                              </body>\\n                            </body>\\n                          </body>\\n                        </body>\\n                      </body>\\n                    </body>\\n                  </body>\\n                </body>\\n              </body>\\n            </body>\\n          </body>\\n        </body>\\n      </body>\\n      <body name=\"fixed_mount0_base\" pos=\"0 0 0.01\">\\n        <body name=\"fixed_mount0_controller_box\">\\n          <inertial pos=\"-0.325 0 -0.38\" mass=\"46.64\" diaginertia=\"1.71363 1.27988 0.809981\"/>\\n          <geom name=\"fixed_mount0_controller_box_col\" size=\"0.11 0.2 0.265\" pos=\"-0.325 0 -0.38\" type=\"box\" rgba=\"0.5 0.5 0 1\"/>\\n        </body>\\n        <body name=\"fixed_mount0_pedestal_feet\">\\n          <inertial pos=\"-0.1225 0 -0.758\" mass=\"167.09\" diaginertia=\"8.16095 9.59375 15.0785\"/>\\n          <geom name=\"fixed_mount0_pedestal_feet_col\" size=\"0.385 0.35 0.155\" pos=\"-0.1225 0 -0.758\" type=\"box\" rgba=\"0.5 0.5 0 1\"/>\\n        </body>\\n        <body name=\"fixed_mount0_torso\">\\n          <inertial pos=\"0 0 0\" mass=\"0.0001\" diaginertia=\"1e-08 1e-08 1e-08\"/>\\n          <geom name=\"fixed_mount0_torso_vis\" size=\"0.05 0.05 0.05\" pos=\"0 0 -0.05\" type=\"box\" contype=\"0\" conaffinity=\"0\" group=\"1\" rgba=\"0.2 0.2 0.2 1\"/>\\n        </body>\\n        <body name=\"fixed_mount0_pedestal\">\\n          <inertial pos=\"0 0 0\" quat=\"0.659267 -0.259505 -0.260945 0.655692\" mass=\"60.864\" diaginertia=\"6.0869 5.81635 4.20915\"/>\\n          <geom name=\"fixed_mount0_pedestal_vis\" type=\"mesh\" contype=\"0\" conaffinity=\"0\" group=\"1\" rgba=\"0.2 0.2 0.2 1\" mesh=\"fixed_mount0_pedestal\"/>\\n          <geom name=\"fixed_mount0_pedestal_col\" size=\"0.18 0.31\" pos=\"-0.02 0 -0.29\" type=\"cylinder\" rgba=\"0.5 0.5 0 1\"/>\\n        </body>\\n      </body>\\n    </body>\\n    <body name=\"robot1_base\" pos=\"-0.56 0.25 0.912\">\\n      <inertial pos=\"0 0 0\" mass=\"0\" diaginertia=\"0 0 0\"/>\\n      <camera name=\"robot1_robotview\" pos=\"1 0 0.4\" quat=\"0.653098 0.271041 0.271041 0.653098\"/>\\n      <body name=\"robot1_link0\">\\n        <inertial pos=\"0 0 0.05\" mass=\"4\" diaginertia=\"0.4 0.4 0.4\"/>\\n        <geom name=\"robot1_g0_vis\" type=\"mesh\" contype=\"0\" conaffinity=\"0\" group=\"1\" material=\"robot1_Shell010_001\" mesh=\"robot1_link0_vis_0\"/>\\n        <geom name=\"robot1_g1_vis\" type=\"mesh\" contype=\"0\" conaffinity=\"0\" group=\"1\" material=\"robot1_Shell009_001\" mesh=\"robot1_link0_vis_1\"/>\\n        <geom name=\"robot1_g2_vis\" type=\"mesh\" contype=\"0\" conaffinity=\"0\" group=\"1\" material=\"robot1_Shell003_001\" mesh=\"robot1_link0_vis_2\"/>\\n        <geom name=\"robot1_g3_vis\" type=\"mesh\" contype=\"0\" conaffinity=\"0\" group=\"1\" material=\"robot1_Shell_001\" mesh=\"robot1_link0_vis_3\"/>\\n        <geom name=\"robot1_g4_vis\" type=\"mesh\" contype=\"0\" conaffinity=\"0\" group=\"1\" material=\"robot1_Shell002_001\" mesh=\"robot1_link0_vis_4\"/>\\n        <geom name=\"robot1_g5_vis\" type=\"mesh\" contype=\"0\" conaffinity=\"0\" group=\"1\" material=\"robot1_Shell001_001\" mesh=\"robot1_link0_vis_5\"/>\\n        <geom name=\"robot1_g6_vis\" type=\"mesh\" contype=\"0\" conaffinity=\"0\" group=\"1\" material=\"robot1_Face636_001\" mesh=\"robot1_link0_vis_6\"/>\\n        <geom name=\"robot1_g7_vis\" type=\"mesh\" contype=\"0\" conaffinity=\"0\" group=\"1\" material=\"robot1_Part__Feature018_001\" mesh=\"robot1_link0_vis_7\"/>\\n        <geom name=\"robot1_g8_vis\" type=\"mesh\" contype=\"0\" conaffinity=\"0\" group=\"1\" material=\"robot1_Part__Feature019_001\" mesh=\"robot1_link0_vis_8\"/>\\n        <geom name=\"robot1_g9_vis\" type=\"mesh\" contype=\"0\" conaffinity=\"0\" group=\"1\" material=\"robot1_Part__Feature023_001\" mesh=\"robot1_link0_vis_9\"/>\\n        <geom name=\"robot1_g10_vis\" type=\"mesh\" contype=\"0\" conaffinity=\"0\" group=\"1\" material=\"robot1_Part__Feature022_001\" mesh=\"robot1_link0_vis_10\"/>\\n        <geom name=\"robot1_g11_vis\" type=\"mesh\" contype=\"0\" conaffinity=\"0\" group=\"1\" material=\"robot1_Part__Feature017_001\" mesh=\"robot1_link0_vis_11\"/>\\n        <geom name=\"robot1_link0_collision\" type=\"mesh\" rgba=\"0 0.5 0 1\" mesh=\"robot1_link0\"/>\\n        <site name=\"robot1_right_center\" pos=\"0 0 0\" size=\"0.01\" group=\"2\" rgba=\"1 0.3 0.3 -1\"/>\\n        <body name=\"robot1_link1\" pos=\"0 0 0.333\">\\n          <inertial pos=\"0 0 -0.07\" mass=\"3\" diaginertia=\"0.3 0.3 0.3\"/>\\n          <joint name=\"robot1_joint1\" pos=\"0 0 0\" axis=\"0 0 1\" limited=\"true\" range=\"-2.8973 2.8973\" armature=\"5\" damping=\"0.1\" frictionloss=\"0.1\"/>\\n          <geom name=\"robot1_g12_vis\" type=\"mesh\" contype=\"0\" conaffinity=\"0\" group=\"1\" material=\"robot1_Part__Feature_001\" mesh=\"robot1_link1_vis\"/>\\n          <geom name=\"robot1_link1_collision\" type=\"mesh\" rgba=\"0 0.5 0 1\" mesh=\"robot1_link1\"/>\\n          <body name=\"robot1_link2\" quat=\"0.707107 -0.707107 0 0\">\\n            <inertial pos=\"0 -0.1 0\" mass=\"3\" diaginertia=\"0.3 0.3 0.3\"/>\\n            <joint name=\"robot1_joint2\" pos=\"0 0 0\" axis=\"0 0 1\" limited=\"true\" range=\"-1.7628 1.7628\" armature=\"2.5\" damping=\"0.1\" frictionloss=\"0.1\"/>\\n            <geom name=\"robot1_g13_vis\" type=\"mesh\" contype=\"0\" conaffinity=\"0\" group=\"1\" material=\"robot1_Part__Feature024\" mesh=\"robot1_link2_vis\"/>\\n            <geom name=\"robot1_link2_collision\" type=\"mesh\" rgba=\"0 0.5 0 1\" mesh=\"robot1_link2\"/>\\n            <body name=\"robot1_link3\" pos=\"0 -0.316 0\" quat=\"0.707107 0.707107 0 0\">\\n              <inertial pos=\"0.04 0 -0.05\" mass=\"2\" diaginertia=\"0.2 0.2 0.2\"/>\\n              <joint name=\"robot1_joint3\" pos=\"0 0 0\" axis=\"0 0 1\" limited=\"true\" range=\"-2.8973 2.8973\" armature=\"1.66667\" damping=\"0.1\" frictionloss=\"0.1\"/>\\n              <geom name=\"robot1_g14_vis\" type=\"mesh\" contype=\"0\" conaffinity=\"0\" group=\"1\" material=\"robot1_Part__Feature003_004_001_002\" mesh=\"robot1_link3_vis_0\"/>\\n              <geom name=\"robot1_g15_vis\" type=\"mesh\" contype=\"0\" conaffinity=\"0\" group=\"1\" material=\"robot1_Part__Feature002_007_001_002\" mesh=\"robot1_link3_vis_1\"/>\\n              <geom name=\"robot1_g16_vis\" type=\"mesh\" contype=\"0\" conaffinity=\"0\" group=\"1\" material=\"robot1_Part__Feature001_010_001_002\" mesh=\"robot1_link3_vis_2\"/>\\n              <geom name=\"robot1_g17_vis\" type=\"mesh\" contype=\"0\" conaffinity=\"0\" group=\"1\" material=\"robot1_Part__Feature_001_001_001_002\" mesh=\"robot1_link3_vis_3\"/>\\n              <geom name=\"robot1_link3_collision\" type=\"mesh\" rgba=\"0 0.5 0 1\" mesh=\"robot1_link3\"/>\\n              <body name=\"robot1_link4\" pos=\"0.0825 0 0\" quat=\"0.707107 0.707107 0 0\">\\n                <inertial pos=\"-0.04 0.05 0\" mass=\"2\" diaginertia=\"0.2 0.2 0.2\"/>\\n                <joint name=\"robot1_joint4\" pos=\"0 0 0\" axis=\"0 0 1\" limited=\"true\" range=\"-3.0718 -0.0698\" armature=\"1.25\" damping=\"0.1\" frictionloss=\"0.1\"/>\\n                <geom name=\"robot1_g18_vis\" type=\"mesh\" contype=\"0\" conaffinity=\"0\" group=\"1\" material=\"robot1_Part__Feature001_001_003_001\" mesh=\"robot1_link4_vis_0\"/>\\n                <geom name=\"robot1_g19_vis\" type=\"mesh\" contype=\"0\" conaffinity=\"0\" group=\"1\" material=\"robot1_Part__Feature003_001_003_001\" mesh=\"robot1_link4_vis_1\"/>\\n                <geom name=\"robot1_g20_vis\" type=\"mesh\" contype=\"0\" conaffinity=\"0\" group=\"1\" material=\"robot1_Part__Feature002_001_003_001\" mesh=\"robot1_link4_vis_2\"/>\\n                <geom name=\"robot1_g21_vis\" type=\"mesh\" contype=\"0\" conaffinity=\"0\" group=\"1\" material=\"robot1_Part__Feature_002_003_001\" mesh=\"robot1_link4_vis_3\"/>\\n                <geom name=\"robot1_link4_collision\" type=\"mesh\" rgba=\"0 0.5 0 1\" mesh=\"robot1_link4\"/>\\n                <body name=\"robot1_link5\" pos=\"-0.0825 0.384 0\" quat=\"0.707107 -0.707107 0 0\">\\n                  <inertial pos=\"0 0 -0.15\" mass=\"2\" diaginertia=\"0.2 0.2 0.2\"/>\\n                  <joint name=\"robot1_joint5\" pos=\"0 0 0\" axis=\"0 0 1\" limited=\"true\" range=\"-2.8973 2.8973\" armature=\"1\" damping=\"0.1\" frictionloss=\"0.1\"/>\\n                  <geom name=\"robot1_g22_vis\" type=\"mesh\" contype=\"0\" conaffinity=\"0\" group=\"1\" material=\"robot1_Shell001_001_001_003\" mesh=\"robot1_link5_vis_0\"/>\\n                  <geom name=\"robot1_g23_vis\" type=\"mesh\" contype=\"0\" conaffinity=\"0\" group=\"1\" material=\"robot1_Shell_001_001_003\" mesh=\"robot1_link5_vis_1\"/>\\n                  <geom name=\"robot1_g24_vis\" type=\"mesh\" contype=\"0\" conaffinity=\"0\" group=\"1\" material=\"robot1_Part__Feature_002_004_003\" mesh=\"robot1_link5_vis_2\"/>\\n                  <geom name=\"robot1_link5_collision\" type=\"mesh\" rgba=\"0 0.5 0 1\" mesh=\"robot1_link5\"/>\\n                  <body name=\"robot1_link6\" quat=\"0.707107 0.707107 0 0\">\\n                    <inertial pos=\"0.06 0 0\" mass=\"1.5\" diaginertia=\"0.1 0.1 0.1\"/>\\n                    <joint name=\"robot1_joint6\" pos=\"0 0 0\" axis=\"0 0 1\" limited=\"true\" range=\"-0.0175 3.7525\" armature=\"0.833333\" damping=\"0.01\" frictionloss=\"0.1\"/>\\n                    <geom name=\"robot1_g25_vis\" type=\"mesh\" contype=\"0\" conaffinity=\"0\" group=\"1\" material=\"robot1_Shell006_003_002_001\" mesh=\"robot1_link6_vis_0\"/>\\n                    <geom name=\"robot1_g26_vis\" type=\"mesh\" contype=\"0\" conaffinity=\"0\" group=\"1\" material=\"robot1_Shell011_002_002_001\" mesh=\"robot1_link6_vis_1\"/>\\n                    <geom name=\"robot1_g27_vis\" type=\"mesh\" contype=\"0\" conaffinity=\"0\" group=\"1\" material=\"robot1_Shell007_002_002_001\" mesh=\"robot1_link6_vis_2\"/>\\n                    <geom name=\"robot1_g28_vis\" type=\"mesh\" contype=\"0\" conaffinity=\"0\" group=\"1\" material=\"robot1_Shell005_001_001_002_001\" mesh=\"robot1_link6_vis_3\"/>\\n                    <geom name=\"robot1_g29_vis\" type=\"mesh\" contype=\"0\" conaffinity=\"0\" group=\"1\" material=\"robot1_Shell004_001_001_002_001\" mesh=\"robot1_link6_vis_4\"/>\\n                    <geom name=\"robot1_g30_vis\" type=\"mesh\" contype=\"0\" conaffinity=\"0\" group=\"1\" material=\"robot1_Shell003_002_001_002_001\" mesh=\"robot1_link6_vis_5\"/>\\n                    <geom name=\"robot1_g31_vis\" type=\"mesh\" contype=\"0\" conaffinity=\"0\" group=\"1\" material=\"robot1_Shell002_002_001_002_001\" mesh=\"robot1_link6_vis_6\"/>\\n                    <geom name=\"robot1_g32_vis\" type=\"mesh\" contype=\"0\" conaffinity=\"0\" group=\"1\" material=\"robot1_Union001_001_001_002_001\" mesh=\"robot1_link6_vis_7\"/>\\n                    <geom name=\"robot1_g33_vis\" type=\"mesh\" contype=\"0\" conaffinity=\"0\" group=\"1\" material=\"robot1_Union_001_001_002_001\" mesh=\"robot1_link6_vis_8\"/>\\n                    <geom name=\"robot1_g34_vis\" type=\"mesh\" contype=\"0\" conaffinity=\"0\" group=\"1\" material=\"robot1_Face539_002_001_002_001\" mesh=\"robot1_link6_vis_9\"/>\\n                    <geom name=\"robot1_g35_vis\" type=\"mesh\" contype=\"0\" conaffinity=\"0\" group=\"1\" material=\"robot1_Shell_003_001_002_001\" mesh=\"robot1_link6_vis_10\"/>\\n                    <geom name=\"robot1_g36_vis\" type=\"mesh\" contype=\"0\" conaffinity=\"0\" group=\"1\" material=\"robot1_Face374_002_001_002_001\" mesh=\"robot1_link6_vis_11\"/>\\n                    <geom name=\"robot1_g37_vis\" type=\"mesh\" contype=\"0\" conaffinity=\"0\" group=\"1\" material=\"robot1_Face065_002_001_002_001\" mesh=\"robot1_link6_vis_12\"/>\\n                    <geom name=\"robot1_g38_vis\" type=\"mesh\" contype=\"0\" conaffinity=\"0\" group=\"1\" material=\"robot1_Face064_002_001_002_001\" mesh=\"robot1_link6_vis_13\"/>\\n                    <geom name=\"robot1_g39_vis\" type=\"mesh\" contype=\"0\" conaffinity=\"0\" group=\"1\" material=\"robot1_Part__Feature002_006_001_002_001\" mesh=\"robot1_link6_vis_14\"/>\\n                    <geom name=\"robot1_g40_vis\" type=\"mesh\" contype=\"0\" conaffinity=\"0\" group=\"1\" material=\"robot1_Part__Feature001_009_001_002_001\" mesh=\"robot1_link6_vis_15\"/>\\n                    <geom name=\"robot1_g41_vis\" type=\"mesh\" contype=\"0\" conaffinity=\"0\" group=\"1\" material=\"robot1_Shell012_002_002_001\" mesh=\"robot1_link6_vis_16\"/>\\n                    <geom name=\"robot1_link6_collision\" type=\"mesh\" rgba=\"0 0.5 0 1\" mesh=\"robot1_link6\"/>\\n                    <body name=\"robot1_link7\" pos=\"0.088 0 0\" quat=\"0.707107 0.707107 0 0\">\\n                      <inertial pos=\"0 0 0.08\" mass=\"0.5\" diaginertia=\"0.05 0.05 0.05\"/>\\n                      <joint name=\"robot1_joint7\" pos=\"0 0 0\" axis=\"0 0 1\" limited=\"true\" range=\"-2.8973 2.8973\" armature=\"0.714286\" damping=\"0.01\" frictionloss=\"0.1\"/>\\n                      <geom name=\"robot1_g42_vis\" type=\"mesh\" contype=\"0\" conaffinity=\"0\" group=\"1\" material=\"robot1_Part__Mirroring004_004_002\" mesh=\"robot1_link7_vis_0\"/>\\n                      <geom name=\"robot1_g43_vis\" type=\"mesh\" contype=\"0\" conaffinity=\"0\" group=\"1\" material=\"robot1_Part__Mirroring001_004_002\" mesh=\"robot1_link7_vis_1\"/>\\n                      <geom name=\"robot1_g44_vis\" type=\"mesh\" contype=\"0\" conaffinity=\"0\" group=\"1\" material=\"robot1_Part__Mirroring007_004_001\" mesh=\"robot1_link7_vis_2\"/>\\n                      <geom name=\"robot1_g45_vis\" type=\"mesh\" contype=\"0\" conaffinity=\"0\" group=\"1\" material=\"robot1_Part__Mirroring006_004_001\" mesh=\"robot1_link7_vis_3\"/>\\n                      <geom name=\"robot1_g46_vis\" type=\"mesh\" contype=\"0\" conaffinity=\"0\" group=\"1\" material=\"robot1_Part__Mirroring005_004_001\" mesh=\"robot1_link7_vis_4\"/>\\n                      <geom name=\"robot1_g47_vis\" type=\"mesh\" contype=\"0\" conaffinity=\"0\" group=\"1\" material=\"robot1_Part__Mirroring003_004_001\" mesh=\"robot1_link7_vis_5\"/>\\n                      <geom name=\"robot1_g48_vis\" type=\"mesh\" contype=\"0\" conaffinity=\"0\" group=\"1\" material=\"robot1_Part__Mirroring002_004_001\" mesh=\"robot1_link7_vis_6\"/>\\n                      <geom name=\"robot1_g49_vis\" type=\"mesh\" contype=\"0\" conaffinity=\"0\" group=\"1\" material=\"robot1_Part__Mirroring_004_001\" mesh=\"robot1_link7_vis_7\"/>\\n                      <geom name=\"robot1_link7_collision\" type=\"mesh\" rgba=\"0 0.5 0 1\" mesh=\"robot1_link7\"/>\\n                      <body name=\"robot1_right_hand\" pos=\"0 0 0.1065\" quat=\"0.923785 0 0 -0.382911\">\\n                        <inertial pos=\"0 0 0\" mass=\"0.5\" diaginertia=\"0.05 0.05 0.05\"/>\\n                        <camera name=\"robot1_eye_in_hand\" pos=\"0.05 0 0\" quat=\"0 0.707107 0.707107 0\" fovy=\"75\"/>\\n                        <body name=\"gripper1_right_left_hand\" quat=\"0.5 -0.5 0.5 -0.5\">\\n                          <inertial pos=\"0 0 0\" mass=\"0\" diaginertia=\"0 0 0\"/>\\n                          <site name=\"gripper1_right_ft_frame\" pos=\"0 0 0\" size=\"0.01\" group=\"1\" rgba=\"1 0 0 0\"/>\\n                          <body name=\"gripper1_right_eef\" quat=\"0.707107 0 -0.707107 0\">\\n                            <site name=\"gripper1_right_grip_site\" pos=\"0 0 0\" size=\"0.01\" group=\"2\" rgba=\"1 1 0 -1\"/>\\n                            <site name=\"gripper1_right_ee_x\" pos=\"0.1 0 0\" quat=\"0.707105 0 0.707108 0\" size=\"0.005 0.1\" group=\"1\" type=\"cylinder\" rgba=\"1 0 0 0\"/>\\n                            <site name=\"gripper1_right_ee_y\" pos=\"0 0.1 0\" quat=\"0.707105 0.707108 0 0\" size=\"0.005 0.1\" group=\"1\" type=\"cylinder\" rgba=\"0 1 0 0\"/>\\n                            <site name=\"gripper1_right_ee_z\" pos=\"0 0 0.1\" size=\"0.005 0.1\" group=\"1\" type=\"cylinder\" rgba=\"0 0 1 0\"/>\\n                            <site name=\"gripper1_right_grip_site_cylinder\" pos=\"0 0 0\" quat=\"-0.5 -0.5 -0.5 0.5\" size=\"0.005 0.5\" group=\"1\" type=\"cylinder\" rgba=\"0 1 0 -0.3\"/>\\n                          </body>\\n                          <body name=\"gripper1_right_l_palm\">\\n                            <geom name=\"gripper1_right_l_palm_vis\" type=\"mesh\" contype=\"0\" conaffinity=\"0\" group=\"1\" material=\"gripper1_right_l_base_material\" mesh=\"gripper1_right_l_palm_vis\"/>\\n                            <geom name=\"gripper1_right_l_palm_col\" type=\"mesh\" mass=\"0.1\" rgba=\"0 0 0.5 1\" mesh=\"gripper1_right_l_palm_col\"/>\\n                            <body name=\"gripper1_right_l_thumb\">\\n                              <body name=\"gripper1_right_l_thumb_proximal_1\" pos=\"-0.01496 -0.0375 0.02045\" quat=\"0.5 0.5 -0.5 0.5\">\\n                                <joint name=\"gripper1_right_joint_l_thumb_proximal_1\" pos=\"0 0 0\" axis=\"0 0 1\" limited=\"true\" range=\"0 1.3\" damping=\"1\"/>\\n                                <geom name=\"gripper1_right_l_thumb_proximal_vis\" type=\"mesh\" contype=\"0\" conaffinity=\"0\" group=\"1\" material=\"gripper1_right_l_thumb_material\" mesh=\"gripper1_right_l_thumb_proximal_1_vis\"/>\\n                                <geom name=\"gripper1_right_l_thumb_proximal_col\" type=\"mesh\" mass=\"0.1\" rgba=\"0 0 0.5 1\" mesh=\"gripper1_right_l_thumb_proximal_1_col\"/>\\n                                <body name=\"gripper1_right_l_thumb_proximal_2\" pos=\"0.0099867 0.0098242 -0.0089\" quat=\"0.70456 -0.70456 -0.0599625 0.0599625\">\\n                                  <joint name=\"gripper1_right_joint_l_thumb_proximal_2\" pos=\"0 0 0\" axis=\"0 0 -1\" limited=\"true\" range=\"0 0.68\" damping=\"1\"/>\\n                                  <geom name=\"gripper1_right_l_thumb_proximal_2_vis\" type=\"mesh\" contype=\"0\" conaffinity=\"0\" group=\"1\" material=\"gripper1_right_l_thumb_material\" mesh=\"gripper1_right_l_thumb_proximal_2_vis\"/>\\n                                  <geom name=\"gripper1_right_l_thumb_proximal_2_col\" type=\"mesh\" mass=\"0.1\" rgba=\"0 0 0.5 1\" mesh=\"gripper1_right_l_thumb_proximal_2_col\"/>\\n                                  <site name=\"gripper1_right_site_l_thumb_proximal_2\" pos=\"0 0 0\" size=\"0.01\" material=\"gripper1_right_site_left_hand\" rgba=\"0.5 0.5 0.5 -1\"/>\\n                                  <body name=\"gripper1_right_l_thumb_middle\" pos=\"0.04407 -0.034553 -0.0008\">\\n                                    <joint name=\"gripper1_right_joint_l_thumb_middle\" pos=\"0 0 0\" axis=\"0 0 -1\" limited=\"true\" range=\"0 0.68\" damping=\"1\"/>\\n                                    <geom name=\"gripper1_right_l_thumb_middle_vis\" type=\"mesh\" contype=\"0\" conaffinity=\"0\" group=\"1\" material=\"gripper1_right_l_thumb_material\" mesh=\"gripper1_right_l_thumb_middle_vis\"/>\\n                                    <geom name=\"gripper1_right_l_thumb_middle_col\" type=\"mesh\" mass=\"0.1\" rgba=\"0 0 0.5 1\" mesh=\"gripper1_right_l_thumb_middle_col\"/>\\n                                    <site name=\"gripper1_right_site_l_thumb_middle\" pos=\"0 0 0\" size=\"0.01\" material=\"gripper1_right_site_left_hand\" rgba=\"0.5 0.5 0.5 -1\"/>\\n                                    <body name=\"gripper1_right_l_thumb_distal\" pos=\"0.020248 -0.010156 -0.0012\">\\n                                      <joint name=\"gripper1_right_joint_l_thumb_distal\" pos=\"0 0 0\" axis=\"0 0 -1\" limited=\"true\" range=\"0 0.77\" damping=\"1\"/>\\n                                      <geom name=\"gripper1_right_l_thumb_distal_vis\" type=\"mesh\" contype=\"0\" conaffinity=\"0\" group=\"1\" material=\"gripper1_right_l_thumb_distal_material\" mesh=\"gripper1_right_l_thumb_distal_vis\"/>\\n                                      <geom name=\"gripper1_right_l_thumb_distal_col\" type=\"mesh\" mass=\"0.1\" rgba=\"0 0 0.5 1\" mesh=\"gripper1_right_l_thumb_distal_col\"/>\\n                                      <site name=\"gripper1_right_site_l_thumb_distal\" pos=\"0 0 0\" size=\"0.01\" material=\"gripper1_right_site_left_hand\" rgba=\"0.5 0.5 0.5 -1\"/>\\n                                    </body>\\n                                  </body>\\n                                </body>\\n                              </body>\\n                            </body>\\n                            <body name=\"gripper1_right_l_index\">\\n                              <body name=\"gripper1_right_l_index_proximal\" pos=\"0.0022853 -0.10493 0.032268\" quat=\"0.999848 -0.01745 0 0\">\\n                                <joint name=\"gripper1_right_joint_l_index_proximal\" pos=\"0 0 0\" axis=\"0 0 -1\" limited=\"true\" range=\"0 1.62\" damping=\"1\"/>\\n                                <geom name=\"gripper1_right_l_index_proximal_vis\" type=\"mesh\" contype=\"0\" conaffinity=\"0\" group=\"1\" material=\"gripper1_right_l_index_material\" mesh=\"gripper1_right_l_index_proximal_vis\"/>\\n                                <geom name=\"gripper1_right_l_index_proximal_col\" type=\"mesh\" mass=\"0.1\" rgba=\"0 0 0.5 1\" mesh=\"gripper1_right_l_index_proximal_col\"/>\\n                                <site name=\"gripper1_right_site_l_index_proximal\" pos=\"0 0 0\" size=\"0.01\" material=\"gripper1_right_site_left_hand\" rgba=\"0.5 0.5 0.5 -1\"/>\\n                                <body name=\"gripper1_right_l_index_distal\" pos=\"-0.0024229 -0.032041 -0.001\">\\n                                  <joint name=\"gripper1_right_joint_l_index_distal\" pos=\"0 0 0\" axis=\"0 0 -1\" limited=\"true\" range=\"0 1.82\" damping=\"1\"/>\\n                                  <geom name=\"gripper1_right_l_index_distal_vis\" type=\"mesh\" contype=\"0\" conaffinity=\"0\" group=\"1\" material=\"gripper1_right_l_index_material\" mesh=\"gripper1_right_l_index_distal_vis\"/>\\n                                  <geom name=\"gripper1_right_l_index_distal_col\" type=\"mesh\" mass=\"0.1\" rgba=\"0 0 0.5 1\" mesh=\"gripper1_right_l_index_distal_col\"/>\\n                                  <site name=\"gripper1_right_site_l_index_distal\" pos=\"0 0 0\" size=\"0.01\" material=\"gripper1_right_site_left_hand\" rgba=\"0.5 0.5 0.5 -1\"/>\\n                                </body>\\n                              </body>\\n                            </body>\\n                            <body name=\"gripper1_right_l_middle\">\\n                              <body name=\"gripper1_right_l_middle_proximal\" pos=\"0.0022853 -0.1055 0.01295\">\\n                                <joint name=\"gripper1_right_joint_l_middle_proximal\" pos=\"0 0 0\" axis=\"0 0 -1\" limited=\"true\" range=\"0 1.62\" damping=\"1\"/>\\n                                <geom name=\"gripper1_right_l_middle_proximal_vis\" type=\"mesh\" contype=\"0\" conaffinity=\"0\" group=\"1\" material=\"gripper1_right_l_middle_material\" mesh=\"gripper1_right_l_middle_proximal_vis\"/>\\n                                <geom name=\"gripper1_right_l_middle_proximal_col\" type=\"mesh\" mass=\"0.1\" rgba=\"0 0 0.5 1\" mesh=\"gripper1_right_l_middle_proximal_col\"/>\\n                                <site name=\"gripper1_right_site_l_middle_proximal\" pos=\"0 0 0\" size=\"0.01\" material=\"gripper1_right_site_left_hand\" rgba=\"0.5 0.5 0.5 -1\"/>\\n                                <body name=\"gripper1_right_l_middle_distal\" pos=\"-0.0024229 -0.032041 -0.001\">\\n                                  <joint name=\"gripper1_right_joint_l_middle_distal\" pos=\"0 0 0\" axis=\"0 0 -1\" limited=\"true\" range=\"0 1.82\" damping=\"1\"/>\\n                                  <geom name=\"gripper1_right_l_middle_distal_vis\" type=\"mesh\" contype=\"0\" conaffinity=\"0\" group=\"1\" material=\"gripper1_right_l_middle_material\" mesh=\"gripper1_right_l_middle_distal_vis\"/>\\n                                  <geom name=\"gripper1_right_l_middle_distal_col\" type=\"mesh\" mass=\"0.1\" rgba=\"0 0 0.5 1\" mesh=\"gripper1_right_l_middle_distal_col\"/>\\n                                  <site name=\"gripper1_right_site_l_middle_distal\" pos=\"0 0 0\" size=\"0.01\" material=\"gripper1_right_site_left_hand\" rgba=\"0.5 0.5 0.5 -1\"/>\\n                                </body>\\n                              </body>\\n                            </body>\\n                            <body name=\"gripper1_right_l_ring\">\\n                              <body name=\"gripper1_right_l_ring_proximal\" pos=\"0.0022853 -0.10531 -0.0062872\" quat=\"0.999657 0.0261799 0 0\">\\n                                <joint name=\"gripper1_right_joint_l_ring_proximal\" pos=\"0 0 0\" axis=\"0 0 -1\" limited=\"true\" range=\"0 1.62\" damping=\"1\"/>\\n                                <geom name=\"gripper1_right_l_ring_proximal_vis\" type=\"mesh\" contype=\"0\" conaffinity=\"0\" group=\"1\" material=\"gripper1_right_l_ring_material\" mesh=\"gripper1_right_l_ring_proximal_vis\"/>\\n                                <geom name=\"gripper1_right_l_ring_proximal_col\" type=\"mesh\" mass=\"0.1\" rgba=\"0 0 0.5 1\" mesh=\"gripper1_right_l_ring_proximal_col\"/>\\n                                <site name=\"gripper1_right_site_l_ring_proximal\" pos=\"0 0 0\" size=\"0.01\" material=\"gripper1_right_site_left_hand\" rgba=\"0.5 0.5 0.5 -1\"/>\\n                                <body name=\"gripper1_right_l_ring_distal\" pos=\"-0.0024229 -0.032041 -0.001\">\\n                                  <joint name=\"gripper1_right_joint_l_ring_distal\" pos=\"0 0 0\" axis=\"0 0 -1\" limited=\"true\" range=\"0 1.75\" damping=\"1\"/>\\n                                  <geom name=\"gripper1_right_l_ring_distal_vis\" type=\"mesh\" contype=\"0\" conaffinity=\"0\" group=\"1\" material=\"gripper1_right_l_ring_material\" mesh=\"gripper1_right_l_ring_distal_vis\"/>\\n                                  <geom name=\"gripper1_right_l_ring_distal_col\" type=\"mesh\" mass=\"0.1\" rgba=\"0 0 0.5 1\" mesh=\"gripper1_right_l_ring_distal_col\"/>\\n                                  <site name=\"gripper1_right_site_l_ring_distal\" pos=\"0 0 0\" size=\"0.01\" material=\"gripper1_right_site_left_hand\" rgba=\"0.5 0.5 0.5 -1\"/>\\n                                </body>\\n                              </body>\\n                            </body>\\n                            <body name=\"gripper1_right_l_pinky\">\\n                              <body name=\"gripper1_right_l_pinky_proximal\" pos=\"0.0022853 -0.10411 -0.025488\" quat=\"0.998629 0.05234 0 0\">\\n                                <joint name=\"gripper1_right_joint_l_pinky_proximal\" pos=\"0 0 0\" axis=\"0 0 -1\" limited=\"true\" range=\"0 1.62\" damping=\"1\"/>\\n                                <geom name=\"gripper1_right_l_pinky_proximal_vis\" type=\"mesh\" contype=\"0\" conaffinity=\"0\" group=\"1\" material=\"gripper1_right_l_pinky_material\" mesh=\"gripper1_right_l_pinky_proximal_vis\"/>\\n                                <geom name=\"gripper1_right_l_pinky_proximal_col\" type=\"mesh\" mass=\"0.1\" rgba=\"0 0 0.5 1\" mesh=\"gripper1_right_l_pinky_proximal_col\"/>\\n                                <site name=\"gripper1_right_site_l_pinky_proximal\" pos=\"0 0 0\" size=\"0.01\" material=\"gripper1_right_site_left_hand\" rgba=\"0.5 0.5 0.5 -1\"/>\\n                                <body name=\"gripper1_right_l_pinky_distal\" pos=\"-0.0024229 -0.032041 -0.001\">\\n                                  <joint name=\"gripper1_right_joint_l_pinky_distal\" pos=\"0 0 0\" axis=\"0 0 -1\" limited=\"true\" range=\"0 1.87\" damping=\"1\"/>\\n                                  <geom name=\"gripper1_right_l_pinky_distal_vis\" type=\"mesh\" contype=\"0\" conaffinity=\"0\" group=\"1\" material=\"gripper1_right_l_pinky_material\" mesh=\"gripper1_right_l_pinky_distal_vis\"/>\\n                                  <geom name=\"gripper1_right_l_pinky_distal_col\" type=\"mesh\" mass=\"0.1\" rgba=\"0 0 0.5 1\" mesh=\"gripper1_right_l_pinky_distal_col\"/>\\n                                  <site name=\"gripper1_right_site_l_pinky_distal\" pos=\"0 0 0\" size=\"0.01\" material=\"gripper1_right_site_left_hand\" rgba=\"0.5 0.5 0.5 -1\"/>\\n                                </body>\\n                              </body>\\n                            </body>\\n                          </body>\\n                        </body>\\n                      </body>\\n                    </body>\\n                  </body>\\n                </body>\\n              </body>\\n            </body>\\n          </body>\\n        </body>\\n      </body>\\n      <body name=\"fixed_mount1_base\" pos=\"0 0 0.01\">\\n        <body name=\"fixed_mount1_controller_box\">\\n          <inertial pos=\"-0.325 0 -0.38\" mass=\"46.64\" diaginertia=\"1.71363 1.27988 0.809981\"/>\\n          <geom name=\"fixed_mount1_controller_box_col\" size=\"0.11 0.2 0.265\" pos=\"-0.325 0 -0.38\" type=\"box\" rgba=\"0.5 0.5 0 1\"/>\\n        </body>\\n        <body name=\"fixed_mount1_pedestal_feet\">\\n          <inertial pos=\"-0.1225 0 -0.758\" mass=\"167.09\" diaginertia=\"8.16095 9.59375 15.0785\"/>\\n          <geom name=\"fixed_mount1_pedestal_feet_col\" size=\"0.385 0.35 0.155\" pos=\"-0.1225 0 -0.758\" type=\"box\" rgba=\"0.5 0.5 0 1\"/>\\n        </body>\\n        <body name=\"fixed_mount1_torso\">\\n          <inertial pos=\"0 0 0\" mass=\"0.0001\" diaginertia=\"1e-08 1e-08 1e-08\"/>\\n          <geom name=\"fixed_mount1_torso_vis\" size=\"0.05 0.05 0.05\" pos=\"0 0 -0.05\" type=\"box\" contype=\"0\" conaffinity=\"0\" group=\"1\" rgba=\"0.2 0.2 0.2 1\"/>\\n        </body>\\n        <body name=\"fixed_mount1_pedestal\">\\n          <inertial pos=\"0 0 0\" quat=\"0.659267 -0.259505 -0.260945 0.655692\" mass=\"60.864\" diaginertia=\"6.0869 5.81635 4.20915\"/>\\n          <geom name=\"fixed_mount1_pedestal_vis\" type=\"mesh\" contype=\"0\" conaffinity=\"0\" group=\"1\" rgba=\"0.2 0.2 0.2 1\" mesh=\"fixed_mount1_pedestal\"/>\\n          <geom name=\"fixed_mount1_pedestal_col\" size=\"0.18 0.31\" pos=\"-0.02 0 -0.29\" type=\"cylinder\" rgba=\"0.5 0.5 0 1\"/>\\n        </body>\\n      </body>\\n    </body>\\n    <body name=\"box_obj_root\">\\n      <joint name=\"box_obj_joint0\" type=\"free\"/>\\n      <geom name=\"box_obj_base\" size=\"0.095 0.095 0.005\" pos=\"0 0 -0.07\" type=\"box\" density=\"100000\" rgba=\"0.5 0 0 1\"/>\\n      <geom name=\"box_obj_base_vis\" size=\"0.095 0.095 0.005\" pos=\"0 0 -0.07\" type=\"box\" contype=\"0\" conaffinity=\"0\" group=\"1\" mass=\"0\" material=\"box_obj_lightwood_mat\"/>\\n      <geom name=\"box_obj_wall0\" size=\"0.005 0.1 0.075\" pos=\"0 -0.095 0\" quat=\"0.707107 0 0 0.707107\" type=\"box\" density=\"100000\" rgba=\"0.5 0 0 1\"/>\\n      <geom name=\"box_obj_wall0_vis\" size=\"0.005 0.1 0.075\" pos=\"0 -0.095 0\" quat=\"0.707107 0 0 0.707107\" type=\"box\" contype=\"0\" conaffinity=\"0\" group=\"1\" mass=\"0\" material=\"box_obj_lightwood_mat\"/>\\n      <geom name=\"box_obj_wall1\" size=\"0.005 0.1 0.075\" pos=\"-0.095 0 0\" type=\"box\" density=\"100000\" rgba=\"0.5 0 0 1\"/>\\n      <geom name=\"box_obj_wall1_vis\" size=\"0.005 0.1 0.075\" pos=\"-0.095 0 0\" type=\"box\" contype=\"0\" conaffinity=\"0\" group=\"1\" mass=\"0\" material=\"box_obj_lightwood_mat\"/>\\n      <geom name=\"box_obj_wall2\" size=\"0.005 0.1 0.075\" pos=\"0 0.095 0\" quat=\"0.707107 0 0 -0.707107\" type=\"box\" density=\"100000\" rgba=\"0.5 0 0 1\"/>\\n      <geom name=\"box_obj_wall2_vis\" size=\"0.005 0.1 0.075\" pos=\"0 0.095 0\" quat=\"0.707107 0 0 -0.707107\" type=\"box\" contype=\"0\" conaffinity=\"0\" group=\"1\" mass=\"0\" material=\"box_obj_lightwood_mat\"/>\\n      <geom name=\"box_obj_wall3\" size=\"0.005 0.1 0.075\" pos=\"0.095 0 0\" quat=\"0 0 0 1\" type=\"box\" density=\"100000\" rgba=\"0.5 0 0 1\"/>\\n      <geom name=\"box_obj_wall3_vis\" size=\"0.005 0.1 0.075\" pos=\"0.095 0 0\" quat=\"0 0 0 1\" type=\"box\" contype=\"0\" conaffinity=\"0\" group=\"1\" mass=\"0\" material=\"box_obj_lightwood_mat\"/>\\n      <site name=\"box_obj_default_site\" pos=\"0 0 0\" size=\"0.002\" rgba=\"1 0 0 0\"/>\\n    </body>\\n    <body name=\"lid_obj_root\">\\n      <joint name=\"lid_obj_joint0\" type=\"free\"/>\\n      <site name=\"lid_obj_default_site\" pos=\"0 0 0\" size=\"0.002\" rgba=\"1 0 0 0\"/>\\n      <body name=\"lid_obj_box_1_main\" pos=\"0 0 -0.005\">\\n        <geom name=\"lid_obj_box_1_g0\" size=\"0.075 0.075 0.02\" type=\"box\" density=\"100\" rgba=\"0.5 0 0 1\"/>\\n        <geom name=\"lid_obj_box_1_g0_vis\" size=\"0.075 0.075 0.02\" type=\"box\" contype=\"0\" conaffinity=\"0\" group=\"1\" mass=\"0\" material=\"lid_obj_box_1_lightwood_mat\"/>\\n        <site name=\"lid_obj_box_1_default_site\" pos=\"0 0 0\" size=\"0.002\" rgba=\"1 0 0 -1\"/>\\n      </body>\\n      <body name=\"lid_obj_box_2_main\" pos=\"0 0 0.045\">\\n        <geom name=\"lid_obj_box_2_g0\" size=\"0.125 0.125 0.03\" type=\"box\" density=\"100\" rgba=\"0.5 0 0 1\"/>\\n        <geom name=\"lid_obj_box_2_g0_vis\" size=\"0.125 0.125 0.03\" type=\"box\" contype=\"0\" conaffinity=\"0\" group=\"1\" mass=\"0\" material=\"lid_obj_box_2_lightwood_mat\"/>\\n        <site name=\"lid_obj_box_2_default_site\" pos=\"0 0 0\" size=\"0.002\" rgba=\"1 0 0 -1\"/>\\n      </body>\\n    </body>\\n  </worldbody>\\n\\n  <contact>\\n    <exclude name=\"gripper0_right_exclude_rh_palm_thumb_proximal_1\" body1=\"gripper0_right_r_palm\" body2=\"gripper0_right_r_thumb_proximal_1\"/>\\n    <exclude name=\"gripper0_right_exclude_rh_palm_thumb_proximal_2\" body1=\"gripper0_right_r_palm\" body2=\"gripper0_right_r_thumb_proximal_2\"/>\\n    <exclude name=\"gripper0_right_exclude_rh_palm_thumb_middle_2\" body1=\"gripper0_right_r_palm\" body2=\"gripper0_right_r_thumb_middle\"/>\\n    <exclude name=\"gripper0_right_exclude_rh_palm_index_proximal\" body1=\"gripper0_right_r_palm\" body2=\"gripper0_right_r_index_proximal\"/>\\n    <exclude name=\"gripper0_right_exclude_rh_palm_middle_proximal\" body1=\"gripper0_right_r_palm\" body2=\"gripper0_right_r_middle_proximal\"/>\\n    <exclude name=\"gripper0_right_exclude_rh_palm_ring_proximal\" body1=\"gripper0_right_r_palm\" body2=\"gripper0_right_r_ring_proximal\"/>\\n    <exclude name=\"gripper0_right_exclude_rh_palm_pinky_proximal\" body1=\"gripper0_right_r_palm\" body2=\"gripper0_right_r_pinky_proximal\"/>\\n    <exclude name=\"gripper0_right_exclude_rh_palm_thumb_proximal_1_proximal_2\" body1=\"gripper0_right_r_thumb_proximal_1\" body2=\"gripper0_right_r_thumb_proximal_2\"/>\\n    <exclude name=\"gripper0_right_exclude_rh_thumb_proximal_2_middle\" body1=\"gripper0_right_r_thumb_proximal_2\" body2=\"gripper0_right_r_thumb_middle\"/>\\n    <exclude name=\"gripper0_right_exclude_rh_thumb_middle_distal\" body1=\"gripper0_right_r_thumb_middle\" body2=\"gripper0_right_r_thumb_distal\"/>\\n    <exclude name=\"gripper1_right_exclude_lh_palm_thumb_proximal_1\" body1=\"gripper1_right_l_palm\" body2=\"gripper1_right_l_thumb_proximal_1\"/>\\n    <exclude name=\"gripper1_right_exclude_lh_palm_thumb_proximal_2\" body1=\"gripper1_right_l_palm\" body2=\"gripper1_right_l_thumb_proximal_2\"/>\\n    <exclude name=\"gripper1_right_exclude_lh_palm_thumb_middle_2\" body1=\"gripper1_right_l_palm\" body2=\"gripper1_right_l_thumb_middle\"/>\\n    <exclude name=\"gripper1_right_exclude_lh_palm_index_proximal\" body1=\"gripper1_right_l_palm\" body2=\"gripper1_right_l_index_proximal\"/>\\n    <exclude name=\"gripper1_right_exclude_lh_palm_middle_proximal\" body1=\"gripper1_right_l_palm\" body2=\"gripper1_right_l_middle_proximal\"/>\\n    <exclude name=\"gripper1_right_exclude_lh_palm_ring_proximal\" body1=\"gripper1_right_l_palm\" body2=\"gripper1_right_l_ring_proximal\"/>\\n    <exclude name=\"gripper1_right_exclude_lh_palm_pinky_proximal\" body1=\"gripper1_right_l_palm\" body2=\"gripper1_right_l_pinky_proximal\"/>\\n    <exclude name=\"gripper1_right_exclude_lh_palm_thumb_proximal_1_proximal_2\" body1=\"gripper1_right_l_thumb_proximal_1\" body2=\"gripper1_right_l_thumb_proximal_2\"/>\\n    <exclude name=\"gripper1_right_exclude_lh_thumb_proximal_2_middle\" body1=\"gripper1_right_l_thumb_proximal_2\" body2=\"gripper1_right_l_thumb_middle\"/>\\n    <exclude name=\"gripper1_right_exclude_lh_thumb_middle_distal\" body1=\"gripper1_right_l_thumb_middle\" body2=\"gripper1_right_l_thumb_distal\"/>\\n  </contact>\\n\\n  <actuator>\\n    <general name=\"robot0_torq_j1\" joint=\"robot0_joint1\" ctrllimited=\"true\" ctrlrange=\"-80 80\"/>\\n    <general name=\"robot0_torq_j2\" joint=\"robot0_joint2\" ctrllimited=\"true\" ctrlrange=\"-80 80\"/>\\n    <general name=\"robot0_torq_j3\" joint=\"robot0_joint3\" ctrllimited=\"true\" ctrlrange=\"-80 80\"/>\\n    <general name=\"robot0_torq_j4\" joint=\"robot0_joint4\" ctrllimited=\"true\" ctrlrange=\"-80 80\"/>\\n    <general name=\"robot0_torq_j5\" joint=\"robot0_joint5\" ctrllimited=\"true\" ctrlrange=\"-80 80\"/>\\n    <general name=\"robot0_torq_j6\" joint=\"robot0_joint6\" ctrllimited=\"true\" ctrlrange=\"-12 12\"/>\\n    <general name=\"robot0_torq_j7\" joint=\"robot0_joint7\" ctrllimited=\"true\" ctrlrange=\"-12 12\"/>\\n    <general name=\"gripper0_right_pinky_distal_drive\" joint=\"gripper0_right_joint_r_pinky_distal\" ctrlrange=\"0 1.87\" forcelimited=\"true\" forcerange=\"-20 20\" biastype=\"affine\" gainprm=\"2\" biasprm=\"0 -2\"/>\\n    <general name=\"gripper0_right_pinky_proximal_drive\" joint=\"gripper0_right_joint_r_pinky_proximal\" ctrlrange=\"0 1.62\" forcelimited=\"true\" forcerange=\"-20 20\" biastype=\"affine\" gainprm=\"2\" biasprm=\"0 -2\"/>\\n    <general name=\"gripper0_right_ring_distal_drive\" joint=\"gripper0_right_joint_r_ring_distal\" ctrlrange=\"0 1.75\" forcelimited=\"true\" forcerange=\"-20 20\" biastype=\"affine\" gainprm=\"2\" biasprm=\"0 -2\"/>\\n    <general name=\"gripper0_right_ring_proximal_drive\" joint=\"gripper0_right_joint_r_ring_proximal\" ctrlrange=\"0 1.62\" forcelimited=\"true\" forcerange=\"-20 20\" biastype=\"affine\" gainprm=\"2\" biasprm=\"0 -2\"/>\\n    <general name=\"gripper0_right_middle_distal_drive\" joint=\"gripper0_right_joint_r_middle_distal\" ctrlrange=\"0 1.82\" forcelimited=\"true\" forcerange=\"-20 20\" biastype=\"affine\" gainprm=\"2\" biasprm=\"0 -2\"/>\\n    <general name=\"gripper0_right_middle_proximal_drive\" joint=\"gripper0_right_joint_r_middle_proximal\" ctrlrange=\"0 1.62\" forcelimited=\"true\" forcerange=\"-20 20\" biastype=\"affine\" gainprm=\"2\" biasprm=\"0 -2\"/>\\n    <general name=\"gripper0_right_index_distal_drive\" joint=\"gripper0_right_joint_r_index_distal\" ctrlrange=\"0 1.82\" forcelimited=\"true\" forcerange=\"-20 20\" biastype=\"affine\" gainprm=\"2\" biasprm=\"0 -2\"/>\\n    <general name=\"gripper0_right_index_proximal_drive\" joint=\"gripper0_right_joint_r_index_proximal\" ctrlrange=\"0 1.62\" forcelimited=\"true\" forcerange=\"-20 20\" biastype=\"affine\" gainprm=\"2\" biasprm=\"0 -2\"/>\\n    <general name=\"gripper0_right_thumb_distal_drive\" joint=\"gripper0_right_joint_r_thumb_distal\" ctrlrange=\"0 0.77\" forcelimited=\"true\" forcerange=\"-20 20\" biastype=\"affine\" gainprm=\"2\" biasprm=\"0 -2\"/>\\n    <general name=\"gripper0_right_thumb_middle_drive\" joint=\"gripper0_right_joint_r_thumb_middle\" ctrlrange=\"0 0.68\" forcelimited=\"true\" forcerange=\"-20 20\" biastype=\"affine\" gainprm=\"2\" biasprm=\"0 -2\"/>\\n    <general name=\"gripper0_right_thumb_proximal_2_drive\" joint=\"gripper0_right_joint_r_thumb_proximal_2\" ctrlrange=\"0 0.68\" forcelimited=\"true\" forcerange=\"-20 20\" biastype=\"affine\" gainprm=\"2\" biasprm=\"0 -2\"/>\\n    <general name=\"gripper0_right_thumb_proximal_1_drive\" joint=\"gripper0_right_joint_r_thumb_proximal_1\" ctrlrange=\"0 1.3\" forcelimited=\"true\" forcerange=\"-20 20\" biastype=\"affine\" gainprm=\"4\" biasprm=\"0 -4\"/>\\n    <general name=\"robot1_torq_j1\" joint=\"robot1_joint1\" ctrllimited=\"true\" ctrlrange=\"-80 80\"/>\\n    <general name=\"robot1_torq_j2\" joint=\"robot1_joint2\" ctrllimited=\"true\" ctrlrange=\"-80 80\"/>\\n    <general name=\"robot1_torq_j3\" joint=\"robot1_joint3\" ctrllimited=\"true\" ctrlrange=\"-80 80\"/>\\n    <general name=\"robot1_torq_j4\" joint=\"robot1_joint4\" ctrllimited=\"true\" ctrlrange=\"-80 80\"/>\\n    <general name=\"robot1_torq_j5\" joint=\"robot1_joint5\" ctrllimited=\"true\" ctrlrange=\"-80 80\"/>\\n    <general name=\"robot1_torq_j6\" joint=\"robot1_joint6\" ctrllimited=\"true\" ctrlrange=\"-12 12\"/>\\n    <general name=\"robot1_torq_j7\" joint=\"robot1_joint7\" ctrllimited=\"true\" ctrlrange=\"-12 12\"/>\\n    <general name=\"gripper1_right_pinky_distal_drive\" joint=\"gripper1_right_joint_l_pinky_distal\" ctrlrange=\"0 1.87\" forcelimited=\"true\" forcerange=\"-20 20\" biastype=\"affine\" gainprm=\"2\" biasprm=\"0 -2\"/>\\n    <general name=\"gripper1_right_pinky_proximal_drive\" joint=\"gripper1_right_joint_l_pinky_proximal\" ctrlrange=\"0 1.62\" forcelimited=\"true\" forcerange=\"-20 20\" biastype=\"affine\" gainprm=\"2\" biasprm=\"0 -2\"/>\\n    <general name=\"gripper1_right_ring_distal_drive\" joint=\"gripper1_right_joint_l_ring_distal\" ctrlrange=\"0 1.75\" forcelimited=\"true\" forcerange=\"-20 20\" biastype=\"affine\" gainprm=\"2\" biasprm=\"0 -2\"/>\\n    <general name=\"gripper1_right_ring_proximal_drive\" joint=\"gripper1_right_joint_l_ring_proximal\" ctrlrange=\"0 1.62\" forcelimited=\"true\" forcerange=\"-20 20\" biastype=\"affine\" gainprm=\"2\" biasprm=\"0 -2\"/>\\n    <general name=\"gripper1_right_middle_distal_drive\" joint=\"gripper1_right_joint_l_middle_distal\" ctrlrange=\"0 1.82\" forcelimited=\"true\" forcerange=\"-20 20\" biastype=\"affine\" gainprm=\"2\" biasprm=\"0 -2\"/>\\n    <general name=\"gripper1_right_middle_proximal_drive\" joint=\"gripper1_right_joint_l_middle_proximal\" ctrlrange=\"0 1.62\" forcelimited=\"true\" forcerange=\"-20 20\" biastype=\"affine\" gainprm=\"2\" biasprm=\"0 -2\"/>\\n    <general name=\"gripper1_right_index_distal_drive\" joint=\"gripper1_right_joint_l_index_distal\" ctrlrange=\"0 1.82\" forcelimited=\"true\" forcerange=\"-20 20\" biastype=\"affine\" gainprm=\"2\" biasprm=\"0 -2\"/>\\n    <general name=\"gripper1_right_index_proximal_drive\" joint=\"gripper1_right_joint_l_index_proximal\" ctrlrange=\"0 1.62\" forcelimited=\"true\" forcerange=\"-20 20\" biastype=\"affine\" gainprm=\"2\" biasprm=\"0 -2\"/>\\n    <general name=\"gripper1_right_thumb_distal_drive\" joint=\"gripper1_right_joint_l_thumb_distal\" ctrlrange=\"0 0.77\" forcelimited=\"true\" forcerange=\"-20 20\" biastype=\"affine\" gainprm=\"2\" biasprm=\"0 -2\"/>\\n    <general name=\"gripper1_right_thumb_middle_drive\" joint=\"gripper1_right_joint_l_thumb_middle\" ctrlrange=\"0 0.68\" forcelimited=\"true\" forcerange=\"-20 20\" biastype=\"affine\" gainprm=\"2\" biasprm=\"0 -2\"/>\\n    <general name=\"gripper1_right_thumb_proximal_2_drive\" joint=\"gripper1_right_joint_l_thumb_proximal_2\" ctrlrange=\"0 0.68\" forcelimited=\"true\" forcerange=\"-20 20\" biastype=\"affine\" gainprm=\"2\" biasprm=\"0 -2\"/>\\n    <general name=\"gripper1_right_thumb_proximal_1_drive\" joint=\"gripper1_right_joint_l_thumb_proximal_1\" ctrlrange=\"0 1.3\" forcelimited=\"true\" forcerange=\"-20 20\" biastype=\"affine\" gainprm=\"4\" biasprm=\"0 -4\"/>\\n  </actuator>\\n\\n  <sensor>\\n    <force site=\"gripper0_right_ft_frame\" name=\"gripper0_right_force_ee\"/>\\n    <torque site=\"gripper0_right_ft_frame\" name=\"gripper0_right_torque_ee\"/>\\n    <force site=\"gripper1_right_ft_frame\" name=\"gripper1_right_force_ee\"/>\\n    <torque site=\"gripper1_right_ft_frame\" name=\"gripper1_right_torque_ee\"/>\\n  </sensor>\\n</mujoco>\\n'"
      ]
     },
     "execution_count": 42,
     "metadata": {},
     "output_type": "execute_result"
    }
   ],
   "source": [
    "new_initial_state1['model']"
   ]
  },
  {
   "cell_type": "code",
   "execution_count": 38,
   "id": "d7819416",
   "metadata": {},
   "outputs": [
    {
     "data": {
      "text/plain": [
       "array([0.        , 0.02787212, 0.01537646, 0.02001598, 0.00102509,\n",
       "       0.00776584, 0.04422376, 0.00885004, 0.        , 0.        ,\n",
       "       0.        , 0.        , 0.        , 0.        , 0.        ,\n",
       "       0.        , 0.        , 0.        , 0.        , 0.        ,\n",
       "       0.01744826, 0.02348239, 0.01574859, 0.00526816, 0.03058362,\n",
       "       0.01949215, 0.02839862, 0.        , 0.        , 0.        ,\n",
       "       0.        , 0.        , 0.        , 0.        , 0.        ,\n",
       "       0.        , 0.        , 0.        , 0.        , 0.00606731,\n",
       "       0.        , 0.        , 0.        , 0.        , 0.        ,\n",
       "       0.        , 0.06664072, 0.        , 0.        , 0.        ,\n",
       "       0.        , 0.        , 0.        , 0.        , 0.        ,\n",
       "       0.        , 0.        , 0.        , 0.        , 0.        ,\n",
       "       0.        , 0.        , 0.        , 0.        , 0.        ,\n",
       "       0.        , 0.        , 0.        , 0.        , 0.        ,\n",
       "       0.        , 0.        , 0.        , 0.        , 0.        ,\n",
       "       0.        , 0.        , 0.        , 0.        , 0.        ,\n",
       "       0.        , 0.        , 0.        , 0.        , 0.        ,\n",
       "       0.        , 0.        , 0.        , 0.        , 0.        ,\n",
       "       0.        , 0.        , 0.        , 0.        , 0.        ,\n",
       "       0.        , 0.        , 0.        , 0.        , 0.        ,\n",
       "       0.        , 0.        , 0.        ])"
      ]
     },
     "execution_count": 38,
     "metadata": {},
     "output_type": "execute_result"
    }
   ],
   "source": [
    "np.abs(new_initial_state1['states'] - new_initial_state2['states'])"
   ]
  },
  {
   "cell_type": "code",
   "execution_count": 57,
   "id": "b12beb83",
   "metadata": {},
   "outputs": [
    {
     "name": "stdout",
     "output_type": "stream",
     "text": [
      "Object name: box_obj_root, Object id: 74, Object pos: [ 0.01547843 -0.15        0.776     ], Object rot: [[1. 0. 0.]\n",
      " [0. 1. 0.]\n",
      " [0. 0. 1.]]\n",
      "Object name: lid_obj_root, Object id: 75, Object pos: [-0.03751437  0.2         0.725     ], Object rot: [[1. 0. 0.]\n",
      " [0. 1. 0.]\n",
      " [0. 0. 1.]]\n"
     ]
    }
   ],
   "source": [
    "env.reset()\n",
    "new_initial_state3 = env.get_state()\n",
    "\n",
    "obj_name = 'box_obj_root'\n",
    "\n",
    "'''This is the main object that is being tracked'''\n",
    "\n",
    "obj_id = env.sim.model.body_name2id(obj_name)\n",
    "obj_pos = np.array(env.sim.data.body_xpos[obj_id])\n",
    "obj_rot = np.array(env.sim.data.body_xmat[obj_id].reshape(3, 3))\n",
    "print(f\"Object name: {obj_name}, Object id: {obj_id}, Object pos: {obj_pos}, Object rot: {obj_rot}\")\n",
    "\n",
    "obj_name = 'lid_obj_root'\n",
    "\n",
    "obj_id = env.sim.model.body_name2id(obj_name)\n",
    "obj_pos = np.array(env.sim.data.body_xpos[obj_id])\n",
    "obj_rot = np.array(env.sim.data.body_xmat[obj_id].reshape(3, 3))\n",
    "print(f\"Object name: {obj_name}, Object id: {obj_id}, Object pos: {obj_pos}, Object rot: {obj_rot}\")\n",
    "\n",
    "env.render()\n",
    "env.step(np.zeros(env.action_dim))\n",
    "env.render()\n"
   ]
  },
  {
   "cell_type": "code",
   "execution_count": null,
   "id": "bb97131d",
   "metadata": {},
   "outputs": [],
   "source": []
  },
  {
   "cell_type": "code",
   "execution_count": null,
   "id": "f16c52ff",
   "metadata": {},
   "outputs": [],
   "source": [
    "'''\n",
    "So, from what I understand from MimicGen, new object state is sampled at every reset. \n",
    "\n",
    "Just use the pose created by reset for datageneration.\n",
    "'''"
   ]
  },
  {
   "cell_type": "code",
   "execution_count": null,
   "id": "f6677321",
   "metadata": {},
   "outputs": [],
   "source": []
  }
 ],
 "metadata": {
  "kernelspec": {
   "display_name": "dexmimicgen",
   "language": "python",
   "name": "python3"
  },
  "language_info": {
   "codemirror_mode": {
    "name": "ipython",
    "version": 3
   },
   "file_extension": ".py",
   "mimetype": "text/x-python",
   "name": "python",
   "nbconvert_exporter": "python",
   "pygments_lexer": "ipython3",
   "version": "3.9.23"
  }
 },
 "nbformat": 4,
 "nbformat_minor": 5
}
