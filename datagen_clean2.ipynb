{
 "cells": [
  {
   "cell_type": "code",
   "execution_count": 2,
   "id": "ec87aecd",
   "metadata": {},
   "outputs": [
    {
     "name": "stdout",
     "output_type": "stream",
     "text": [
      "{'env_name': 'TwoArmBoxCleanup', 'env_version': '1.5.1', 'type': 1, 'env_kwargs': {'robots': ['PandaDexRH', 'PandaDexLH'], 'controller_configs': {'type': 'BASIC', 'body_parts': {'right': {'type': 'OSC_POSE', 'input_max': 1, 'input_min': -1, 'output_max': [0.05, 0.05, 0.05, 0.5, 0.5, 0.5], 'output_min': [-0.05, -0.05, -0.05, -0.5, -0.5, -0.5], 'kp': 150, 'damping_ratio': 1, 'impedance_mode': 'fixed', 'kp_limits': [0, 300], 'damping_ratio_limits': [0, 10], 'position_limits': None, 'orientation_limits': None, 'uncouple_pos_ori': True, 'input_type': 'delta', 'input_ref_frame': 'base', 'interpolation': None, 'ramp_ratio': 0.2, 'gripper': {'type': 'GRIP', 'use_action_scaling': False}}}}, 'translucent_robot': False, 'env_configuration': 'parallel', 'reward_shaping': False, 'camera_names': ['agentview', 'robot0_eye_in_hand', 'robot1_eye_in_hand'], 'camera_heights': 84, 'camera_widths': 84, 'has_renderer': False, 'has_offscreen_renderer': True, 'ignore_done': True, 'use_object_obs': True, 'use_camera_obs': True, 'camera_depths': False, 'render_gpu_device_id': 0, 'env_lang': None}}\n"
     ]
    }
   ],
   "source": [
    "import robosuite \n",
    "import dexmimicgen  \n",
    "\n",
    "import h5py \n",
    "import imageio \n",
    "import numpy as np\n",
    "import time \n",
    "import os\n",
    "import json\n",
    "\n",
    "'''\n",
    "\n",
    "1. Loading dual robot environment\n",
    "'''\n",
    "\n",
    "def get_env_metadata_from_dataset(dataset_path, ds_format=\"robomimic\"):\n",
    "    \"\"\"\n",
    "    Retrieves env metadata from dataset.\n",
    "\n",
    "    Args:\n",
    "        dataset_path (str): path to dataset\n",
    "\n",
    "    Returns:\n",
    "        env_meta (dict): environment metadata. Contains 3 keys:\n",
    "\n",
    "            :`'env_name'`: name of environment\n",
    "            :`'type'`: type of environment, should be a value in EB.EnvType\n",
    "            :`'env_kwargs'`: dictionary of keyword arguments to pass to environment constructor\n",
    "    \"\"\"\n",
    "    dataset_path = os.path.expanduser(dataset_path)\n",
    "    f = h5py.File(dataset_path, \"r\")\n",
    "    if ds_format == \"robomimic\":\n",
    "        env_meta = json.loads(f[\"data\"].attrs[\"env_args\"])\n",
    "    else:\n",
    "        raise ValueError\n",
    "    f.close()\n",
    "    return env_meta\n",
    "\n",
    "dataset_path = \"/home/vishal/Volume_E/Active/Gap_year/grand-project-2025/deepak/dexmimicgen/datasets/two_arm_box_cleanup.hdf5\"\n",
    "\n",
    "env_meta = get_env_metadata_from_dataset(dataset_path)\n",
    "print(env_meta)\n",
    "\n",
    "write_to_video = False\n",
    "\n",
    "env_kwargs = env_meta['env_kwargs']\n",
    "env_kwargs[\"env_name\"] = env_meta[\"env_name\"]\n",
    "env_kwargs[\"has_renderer\"] = True\n",
    "env_kwargs[\"renderer\"] = \"mjviewer\"\n",
    "env_kwargs[\"has_offscreen_renderer\"] = write_to_video # False # write_video\n",
    "env_kwargs[\"use_camera_obs\"] = False\n",
    "\n",
    "env_kwargs.pop(\"env_lang\")\n",
    "\n",
    "env = robosuite.make(**env_kwargs)"
   ]
  },
  {
   "cell_type": "code",
   "execution_count": 1,
   "id": "b03e59f3",
   "metadata": {},
   "outputs": [
    {
     "name": "stderr",
     "output_type": "stream",
     "text": [
      "\u001b[1m\u001b[33m[robosuite WARNING] \u001b[0mNo private macro file found! (macros.py:57)\n",
      "\u001b[1m\u001b[33m[robosuite WARNING] \u001b[0mIt is recommended to use a private macro file (macros.py:58)\n",
      "\u001b[1m\u001b[33m[robosuite WARNING] \u001b[0mTo setup, run: python /home/vishal/Volume_E/Active/Gap_year/grand-project-2025/deepak/robosuite/robosuite/scripts/setup_macros.py (macros.py:59)\n",
      "\u001b[1m\u001b[33m[robosuite WARNING] \u001b[0mCould not import robosuite_models. Some robots may not be available. If you want to use these robots, please install robosuite_models from source (https://github.com/ARISE-Initiative/robosuite_models) or through pip install. (__init__.py:30)\n",
      "\u001b[1m\u001b[33m[robosuite WARNING] \u001b[0mCould not load the mink-based whole-body IK. Make sure you install related import properly, otherwise you will not be able to use the default IK controller setting for GR1 robot. (__init__.py:40)\n"
     ]
    }
   ],
   "source": [
    "import pose_utils_vishal_from_mimicgen as PoseUtils\n",
    "import robosuite.utils.transform_utils as T"
   ]
  },
  {
   "cell_type": "code",
   "execution_count": 3,
   "id": "8fe49058",
   "metadata": {},
   "outputs": [
    {
     "name": "stdout",
     "output_type": "stream",
     "text": [
      "Keys in the dataset: <KeysViewHDF5 ['demo_0', 'demo_1', 'demo_10', 'demo_100', 'demo_1000', 'demo_1001', 'demo_1002', 'demo_1003', 'demo_1004', 'demo_1005', 'demo_1006', 'demo_1007', 'demo_1008', 'demo_1009', 'demo_101', 'demo_1010', 'demo_1011', 'demo_1012', 'demo_1013', 'demo_1014', 'demo_1015', 'demo_102', 'demo_103', 'demo_104', 'demo_105', 'demo_106', 'demo_107', 'demo_108', 'demo_109', 'demo_11', 'demo_110', 'demo_111', 'demo_112', 'demo_113', 'demo_114', 'demo_115', 'demo_116', 'demo_117', 'demo_118', 'demo_119', 'demo_12', 'demo_120', 'demo_121', 'demo_122', 'demo_123', 'demo_124', 'demo_125', 'demo_126', 'demo_127', 'demo_128', 'demo_129', 'demo_13', 'demo_130', 'demo_131', 'demo_132', 'demo_133', 'demo_134', 'demo_135', 'demo_136', 'demo_137', 'demo_138', 'demo_139', 'demo_14', 'demo_140', 'demo_141', 'demo_142', 'demo_143', 'demo_144', 'demo_145', 'demo_146', 'demo_147', 'demo_148', 'demo_149', 'demo_15', 'demo_150', 'demo_151', 'demo_152', 'demo_153', 'demo_154', 'demo_155', 'demo_156', 'demo_157', 'demo_158', 'demo_159', 'demo_16', 'demo_160', 'demo_161', 'demo_162', 'demo_163', 'demo_164', 'demo_165', 'demo_166', 'demo_167', 'demo_168', 'demo_169', 'demo_17', 'demo_170', 'demo_171', 'demo_172', 'demo_173', 'demo_174', 'demo_175', 'demo_176', 'demo_177', 'demo_178', 'demo_179', 'demo_18', 'demo_180', 'demo_181', 'demo_182', 'demo_183', 'demo_184', 'demo_185', 'demo_186', 'demo_187', 'demo_188', 'demo_189', 'demo_19', 'demo_190', 'demo_191', 'demo_192', 'demo_193', 'demo_194', 'demo_195', 'demo_196', 'demo_197', 'demo_198', 'demo_199', 'demo_2', 'demo_20', 'demo_200', 'demo_201', 'demo_202', 'demo_203', 'demo_204', 'demo_205', 'demo_206', 'demo_207', 'demo_208', 'demo_209', 'demo_21', 'demo_210', 'demo_211', 'demo_212', 'demo_213', 'demo_214', 'demo_215', 'demo_216', 'demo_217', 'demo_218', 'demo_219', 'demo_22', 'demo_220', 'demo_221', 'demo_222', 'demo_223', 'demo_224', 'demo_225', 'demo_226', 'demo_227', 'demo_228', 'demo_229', 'demo_23', 'demo_230', 'demo_231', 'demo_232', 'demo_233', 'demo_234', 'demo_235', 'demo_236', 'demo_237', 'demo_238', 'demo_239', 'demo_24', 'demo_240', 'demo_241', 'demo_242', 'demo_243', 'demo_244', 'demo_245', 'demo_246', 'demo_247', 'demo_248', 'demo_249', 'demo_25', 'demo_250', 'demo_251', 'demo_252', 'demo_253', 'demo_254', 'demo_255', 'demo_256', 'demo_257', 'demo_258', 'demo_259', 'demo_26', 'demo_260', 'demo_261', 'demo_262', 'demo_263', 'demo_264', 'demo_265', 'demo_266', 'demo_267', 'demo_268', 'demo_269', 'demo_27', 'demo_270', 'demo_271', 'demo_272', 'demo_273', 'demo_274', 'demo_275', 'demo_276', 'demo_277', 'demo_278', 'demo_279', 'demo_28', 'demo_280', 'demo_281', 'demo_282', 'demo_283', 'demo_284', 'demo_285', 'demo_286', 'demo_287', 'demo_288', 'demo_289', 'demo_29', 'demo_290', 'demo_291', 'demo_292', 'demo_293', 'demo_294', 'demo_295', 'demo_296', 'demo_297', 'demo_298', 'demo_299', 'demo_3', 'demo_30', 'demo_300', 'demo_301', 'demo_302', 'demo_303', 'demo_304', 'demo_305', 'demo_306', 'demo_307', 'demo_308', 'demo_309', 'demo_31', 'demo_310', 'demo_311', 'demo_312', 'demo_313', 'demo_314', 'demo_315', 'demo_316', 'demo_317', 'demo_318', 'demo_319', 'demo_32', 'demo_320', 'demo_321', 'demo_322', 'demo_323', 'demo_324', 'demo_325', 'demo_326', 'demo_327', 'demo_328', 'demo_329', 'demo_33', 'demo_330', 'demo_331', 'demo_332', 'demo_333', 'demo_334', 'demo_335', 'demo_336', 'demo_337', 'demo_338', 'demo_339', 'demo_34', 'demo_340', 'demo_341', 'demo_342', 'demo_343', 'demo_344', 'demo_345', 'demo_346', 'demo_347', 'demo_348', 'demo_349', 'demo_35', 'demo_350', 'demo_351', 'demo_352', 'demo_353', 'demo_354', 'demo_355', 'demo_356', 'demo_357', 'demo_358', 'demo_359', 'demo_36', 'demo_360', 'demo_361', 'demo_362', 'demo_363', 'demo_364', 'demo_365', 'demo_366', 'demo_367', 'demo_368', 'demo_369', 'demo_37', 'demo_370', 'demo_371', 'demo_372', 'demo_373', 'demo_374', 'demo_375', 'demo_376', 'demo_377', 'demo_378', 'demo_379', 'demo_38', 'demo_380', 'demo_381', 'demo_382', 'demo_383', 'demo_384', 'demo_385', 'demo_386', 'demo_387', 'demo_388', 'demo_389', 'demo_39', 'demo_390', 'demo_391', 'demo_392', 'demo_393', 'demo_394', 'demo_395', 'demo_396', 'demo_397', 'demo_398', 'demo_399', 'demo_4', 'demo_40', 'demo_400', 'demo_401', 'demo_402', 'demo_403', 'demo_404', 'demo_405', 'demo_406', 'demo_407', 'demo_408', 'demo_409', 'demo_41', 'demo_410', 'demo_411', 'demo_412', 'demo_413', 'demo_414', 'demo_415', 'demo_416', 'demo_417', 'demo_418', 'demo_419', 'demo_42', 'demo_420', 'demo_421', 'demo_422', 'demo_423', 'demo_424', 'demo_425', 'demo_426', 'demo_427', 'demo_428', 'demo_429', 'demo_43', 'demo_430', 'demo_431', 'demo_432', 'demo_433', 'demo_434', 'demo_435', 'demo_436', 'demo_437', 'demo_438', 'demo_439', 'demo_44', 'demo_440', 'demo_441', 'demo_442', 'demo_443', 'demo_444', 'demo_445', 'demo_446', 'demo_447', 'demo_448', 'demo_449', 'demo_45', 'demo_450', 'demo_451', 'demo_452', 'demo_453', 'demo_454', 'demo_455', 'demo_456', 'demo_457', 'demo_458', 'demo_459', 'demo_46', 'demo_460', 'demo_461', 'demo_462', 'demo_463', 'demo_464', 'demo_465', 'demo_466', 'demo_467', 'demo_468', 'demo_469', 'demo_47', 'demo_470', 'demo_471', 'demo_472', 'demo_473', 'demo_474', 'demo_475', 'demo_476', 'demo_477', 'demo_478', 'demo_479', 'demo_48', 'demo_480', 'demo_481', 'demo_482', 'demo_483', 'demo_484', 'demo_485', 'demo_486', 'demo_487', 'demo_488', 'demo_489', 'demo_49', 'demo_490', 'demo_491', 'demo_492', 'demo_493', 'demo_494', 'demo_495', 'demo_496', 'demo_497', 'demo_498', 'demo_499', 'demo_5', 'demo_50', 'demo_500', 'demo_501', 'demo_502', 'demo_503', 'demo_504', 'demo_505', 'demo_506', 'demo_507', 'demo_508', 'demo_509', 'demo_51', 'demo_510', 'demo_511', 'demo_512', 'demo_513', 'demo_514', 'demo_515', 'demo_516', 'demo_517', 'demo_518', 'demo_519', 'demo_52', 'demo_520', 'demo_521', 'demo_522', 'demo_523', 'demo_524', 'demo_525', 'demo_526', 'demo_527', 'demo_528', 'demo_529', 'demo_53', 'demo_530', 'demo_531', 'demo_532', 'demo_533', 'demo_534', 'demo_535', 'demo_536', 'demo_537', 'demo_538', 'demo_539', 'demo_54', 'demo_540', 'demo_541', 'demo_542', 'demo_543', 'demo_544', 'demo_545', 'demo_546', 'demo_547', 'demo_548', 'demo_549', 'demo_55', 'demo_550', 'demo_551', 'demo_552', 'demo_553', 'demo_554', 'demo_555', 'demo_556', 'demo_557', 'demo_558', 'demo_559', 'demo_56', 'demo_560', 'demo_561', 'demo_562', 'demo_563', 'demo_564', 'demo_565', 'demo_566', 'demo_567', 'demo_568', 'demo_569', 'demo_57', 'demo_570', 'demo_571', 'demo_572', 'demo_573', 'demo_574', 'demo_575', 'demo_576', 'demo_577', 'demo_578', 'demo_579', 'demo_58', 'demo_580', 'demo_581', 'demo_582', 'demo_583', 'demo_584', 'demo_585', 'demo_586', 'demo_587', 'demo_588', 'demo_589', 'demo_59', 'demo_590', 'demo_591', 'demo_592', 'demo_593', 'demo_594', 'demo_595', 'demo_596', 'demo_597', 'demo_598', 'demo_599', 'demo_6', 'demo_60', 'demo_600', 'demo_601', 'demo_602', 'demo_603', 'demo_604', 'demo_605', 'demo_606', 'demo_607', 'demo_608', 'demo_609', 'demo_61', 'demo_610', 'demo_611', 'demo_612', 'demo_613', 'demo_614', 'demo_615', 'demo_616', 'demo_617', 'demo_618', 'demo_619', 'demo_62', 'demo_620', 'demo_621', 'demo_622', 'demo_623', 'demo_624', 'demo_625', 'demo_626', 'demo_627', 'demo_628', 'demo_629', 'demo_63', 'demo_630', 'demo_631', 'demo_632', 'demo_633', 'demo_634', 'demo_635', 'demo_636', 'demo_637', 'demo_638', 'demo_639', 'demo_64', 'demo_640', 'demo_641', 'demo_642', 'demo_643', 'demo_644', 'demo_645', 'demo_646', 'demo_647', 'demo_648', 'demo_649', 'demo_65', 'demo_650', 'demo_651', 'demo_652', 'demo_653', 'demo_654', 'demo_655', 'demo_656', 'demo_657', 'demo_658', 'demo_659', 'demo_66', 'demo_660', 'demo_661', 'demo_662', 'demo_663', 'demo_664', 'demo_665', 'demo_666', 'demo_667', 'demo_668', 'demo_669', 'demo_67', 'demo_670', 'demo_671', 'demo_672', 'demo_673', 'demo_674', 'demo_675', 'demo_676', 'demo_677', 'demo_678', 'demo_679', 'demo_68', 'demo_680', 'demo_681', 'demo_682', 'demo_683', 'demo_684', 'demo_685', 'demo_686', 'demo_687', 'demo_688', 'demo_689', 'demo_69', 'demo_690', 'demo_691', 'demo_692', 'demo_693', 'demo_694', 'demo_695', 'demo_696', 'demo_697', 'demo_698', 'demo_699', 'demo_7', 'demo_70', 'demo_700', 'demo_701', 'demo_702', 'demo_703', 'demo_704', 'demo_705', 'demo_706', 'demo_707', 'demo_708', 'demo_709', 'demo_71', 'demo_710', 'demo_711', 'demo_712', 'demo_713', 'demo_714', 'demo_715', 'demo_716', 'demo_717', 'demo_718', 'demo_719', 'demo_72', 'demo_720', 'demo_721', 'demo_722', 'demo_723', 'demo_724', 'demo_725', 'demo_726', 'demo_727', 'demo_728', 'demo_729', 'demo_73', 'demo_730', 'demo_731', 'demo_732', 'demo_733', 'demo_734', 'demo_735', 'demo_736', 'demo_737', 'demo_738', 'demo_739', 'demo_74', 'demo_740', 'demo_741', 'demo_742', 'demo_743', 'demo_744', 'demo_745', 'demo_746', 'demo_747', 'demo_748', 'demo_749', 'demo_75', 'demo_750', 'demo_751', 'demo_752', 'demo_753', 'demo_754', 'demo_755', 'demo_756', 'demo_757', 'demo_758', 'demo_759', 'demo_76', 'demo_760', 'demo_761', 'demo_762', 'demo_763', 'demo_764', 'demo_765', 'demo_766', 'demo_767', 'demo_768', 'demo_769', 'demo_77', 'demo_770', 'demo_771', 'demo_772', 'demo_773', 'demo_774', 'demo_775', 'demo_776', 'demo_777', 'demo_778', 'demo_779', 'demo_78', 'demo_780', 'demo_781', 'demo_782', 'demo_783', 'demo_784', 'demo_785', 'demo_786', 'demo_787', 'demo_788', 'demo_789', 'demo_79', 'demo_790', 'demo_791', 'demo_792', 'demo_793', 'demo_794', 'demo_795', 'demo_796', 'demo_797', 'demo_798', 'demo_799', 'demo_8', 'demo_80', 'demo_800', 'demo_801', 'demo_802', 'demo_803', 'demo_804', 'demo_805', 'demo_806', 'demo_807', 'demo_808', 'demo_809', 'demo_81', 'demo_810', 'demo_811', 'demo_812', 'demo_813', 'demo_814', 'demo_815', 'demo_816', 'demo_817', 'demo_818', 'demo_819', 'demo_82', 'demo_820', 'demo_821', 'demo_822', 'demo_823', 'demo_824', 'demo_825', 'demo_826', 'demo_827', 'demo_828', 'demo_829', 'demo_83', 'demo_830', 'demo_831', 'demo_832', 'demo_833', 'demo_834', 'demo_835', 'demo_836', 'demo_837', 'demo_838', 'demo_839', 'demo_84', 'demo_840', 'demo_841', 'demo_842', 'demo_843', 'demo_844', 'demo_845', 'demo_846', 'demo_847', 'demo_848', 'demo_849', 'demo_85', 'demo_850', 'demo_851', 'demo_852', 'demo_853', 'demo_854', 'demo_855', 'demo_856', 'demo_857', 'demo_858', 'demo_859', 'demo_86', 'demo_860', 'demo_861', 'demo_862', 'demo_863', 'demo_864', 'demo_865', 'demo_866', 'demo_867', 'demo_868', 'demo_869', 'demo_87', 'demo_870', 'demo_871', 'demo_872', 'demo_873', 'demo_874', 'demo_875', 'demo_876', 'demo_877', 'demo_878', 'demo_879', 'demo_88', 'demo_880', 'demo_881', 'demo_882', 'demo_883', 'demo_884', 'demo_885', 'demo_886', 'demo_887', 'demo_888', 'demo_889', 'demo_89', 'demo_890', 'demo_891', 'demo_892', 'demo_893', 'demo_894', 'demo_895', 'demo_896', 'demo_897', 'demo_898', 'demo_899', 'demo_9', 'demo_90', 'demo_900', 'demo_901', 'demo_902', 'demo_903', 'demo_904', 'demo_905', 'demo_906', 'demo_907', 'demo_908', 'demo_909', 'demo_91', 'demo_910', 'demo_911', 'demo_912', 'demo_913', 'demo_914', 'demo_915', 'demo_916', 'demo_917', 'demo_918', 'demo_919', 'demo_92', 'demo_920', 'demo_921', 'demo_922', 'demo_923', 'demo_924', 'demo_925', 'demo_926', 'demo_927', 'demo_928', 'demo_929', 'demo_93', 'demo_930', 'demo_931', 'demo_932', 'demo_933', 'demo_934', 'demo_935', 'demo_936', 'demo_937', 'demo_938', 'demo_939', 'demo_94', 'demo_940', 'demo_941', 'demo_942', 'demo_943', 'demo_944', 'demo_945', 'demo_946', 'demo_947', 'demo_948', 'demo_949', 'demo_95', 'demo_950', 'demo_951', 'demo_952', 'demo_953', 'demo_954', 'demo_955', 'demo_956', 'demo_957', 'demo_958', 'demo_959', 'demo_96', 'demo_960', 'demo_961', 'demo_962', 'demo_963', 'demo_964', 'demo_965', 'demo_966', 'demo_967', 'demo_968', 'demo_969', 'demo_97', 'demo_970', 'demo_971', 'demo_972', 'demo_973', 'demo_974', 'demo_975', 'demo_976', 'demo_977', 'demo_978', 'demo_979', 'demo_98', 'demo_980', 'demo_981', 'demo_982', 'demo_983', 'demo_984', 'demo_985', 'demo_986', 'demo_987', 'demo_988', 'demo_989', 'demo_99', 'demo_990', 'demo_991', 'demo_992', 'demo_993', 'demo_994', 'demo_995', 'demo_996', 'demo_997', 'demo_998', 'demo_999']>\n",
      "Number of demonstrations in the dataset: 1016\n",
      "Length of demo demo_15: 238\n",
      "Observations shape: <KeysViewHDF5 ['agentview_image', 'robot0_eef_pos', 'robot0_eef_quat', 'robot0_eef_quat_site', 'robot0_eye_in_hand_image', 'robot0_gripper_qpos', 'robot0_gripper_qvel', 'robot0_joint_pos', 'robot0_joint_pos_cos', 'robot0_joint_pos_sin', 'robot0_joint_vel', 'robot1_eef_pos', 'robot1_eef_quat', 'robot1_eef_quat_site', 'robot1_eye_in_hand_image', 'robot1_gripper_qpos', 'robot1_gripper_qvel', 'robot1_joint_pos', 'robot1_joint_pos_cos', 'robot1_joint_pos_sin', 'robot1_joint_vel']>\n",
      "Actions shape: (238, 24)\n",
      "Actions: <HDF5 dataset \"actions\": shape (238, 24), type \"<f8\">\n",
      "Actions shape: (238, 24)\n",
      "Action at step 0: [ 4.25097525e-02  9.12558692e-03  4.32557883e-02 -3.03393696e-04\n",
      " -2.73457170e-02 -8.96739494e-03  0.00000000e+00  0.00000000e+00\n",
      "  0.00000000e+00  0.00000000e+00  0.00000000e+00  1.57079633e+00\n",
      "  5.20099715e-02  1.32346484e-01  4.79033702e-02  1.38189155e-03\n",
      " -1.03843641e-02  3.85016240e-02  0.00000000e+00  0.00000000e+00\n",
      "  0.00000000e+00  0.00000000e+00  7.93970488e-02  1.57079633e+00]\n"
     ]
    }
   ],
   "source": [
    "'''\n",
    "Extracting a demonstration from the dataset\n",
    "'''\n",
    "\n",
    "data = h5py.File(dataset_path, \"r\")\n",
    "print(f\"Keys in the dataset: {data['data'].keys()}\")\n",
    "print(f\"Number of demonstrations in the dataset: {len(data['data'].keys())}\")\n",
    "demo_id = 'demo_15'\n",
    "print(f\"Length of demo {demo_id}: {data['data'][demo_id]['obs']['robot0_eef_pos'].shape[0]}\")\n",
    "print(f\"Observations shape: {data['data'][demo_id]['obs'].keys()}\")\n",
    "print(f\"Actions shape: {data['data'][demo_id]['actions'].shape}\")\n",
    "print(f\"Actions: {data['data'][demo_id]['actions']}\")\n",
    "print(f\"Actions shape: {data['data'][demo_id]['actions'].shape}\")\n",
    "print(f\"Action at step 0: {data['data'][demo_id]['actions'][0]}\")\n",
    "\n",
    "action_trajectory = data['data'][demo_id]['actions']\n",
    "obs_trajectory = data['data'][demo_id]['obs']\n",
    "states_trajectory = data['data'][demo_id]['states']\n",
    "\n",
    "eef_poses = data['data'][demo_id]['datagen_info']['eef_pose']\n",
    "gripper_actions = data['data'][demo_id]['datagen_info']['gripper_action']\n",
    "target_eef_poses = data['data'][demo_id]['datagen_info']['target_pose']"
   ]
  },
  {
   "cell_type": "code",
   "execution_count": 12,
   "id": "08a8a9ef",
   "metadata": {},
   "outputs": [],
   "source": [
    "def just_reset(env, state):\n",
    "    # The following resets the state\n",
    "    env.reset()\n",
    "    # env.sim.set_state_from_flattened(state)\n",
    "    # env.sim.forward()\n",
    "\n",
    "    # This part is just to visualize the state after resetting\n",
    "    env.render()\n",
    "    obfull = env.step(np.zeros(env.action_dim))\n",
    "    env.render()\n",
    "    return obfull\n",
    "\n",
    "def reset_to_state(env, state):\n",
    "    # The following resets the state\n",
    "    env.reset()\n",
    "    env.sim.set_state_from_flattened(state)\n",
    "    env.sim.forward()\n",
    "\n",
    "    # This part is just to visualize the state after resetting\n",
    "    env.render()\n",
    "    obfull = env.step(np.zeros(env.action_dim))\n",
    "    env.render()\n",
    "    return obfull"
   ]
  },
  {
   "cell_type": "code",
   "execution_count": 7,
   "id": "b0102218",
   "metadata": {},
   "outputs": [],
   "source": [
    "'''\n",
    "Replay a demonstration\n",
    "'''\n",
    "reset_to_state(env, states_trajectory[0])\n",
    "# just_reset(env, states_trajectory[25])\n",
    "\n",
    "for i in range(action_trajectory.shape[0]):\n",
    "    action = action_trajectory[i]\n",
    "    obs, reward, done, info = env.step(action)\n",
    "    env.render()\n",
    "    time.sleep(0.05)"
   ]
  },
  {
   "cell_type": "code",
   "execution_count": 55,
   "id": "412bcf59",
   "metadata": {},
   "outputs": [],
   "source": [
    "'''\n",
    "Generating novel demonstration\n",
    "'''\n",
    "# reset_to_state(env, states_trajectory[0])\n",
    "obfull = just_reset(env, states_trajectory[25])\n",
    "\n",
    "max_dpos = 0.05\n",
    "max_drot = 0.5\n",
    "\n"
   ]
  },
  {
   "cell_type": "code",
   "execution_count": 53,
   "id": "7da244b6",
   "metadata": {},
   "outputs": [
    {
     "data": {
      "text/plain": [
       "(array([-0.10890595, -0.24315468,  1.11708306]),\n",
       " array([ 0.99715776, -0.00586935,  0.07499281, -0.00424655]),\n",
       " array([-0.11661582,  0.26369951,  1.11778467]),\n",
       " array([ 0.99736291,  0.00731811,  0.07216278, -0.00249229]))"
      ]
     },
     "execution_count": 53,
     "metadata": {},
     "output_type": "execute_result"
    }
   ],
   "source": [
    "obfull[0].keys()\n",
    "obfull[0]['robot0_eef_pos'], obfull[0]['robot0_eef_quat'], obfull[0]['robot1_eef_pos'], obfull[0]['robot1_eef_quat']"
   ]
  },
  {
   "cell_type": "code",
   "execution_count": 54,
   "id": "b90a2c16",
   "metadata": {},
   "outputs": [],
   "source": [
    "obs = obfull[0]\n",
    "\n",
    "for i in range(action_trajectory.shape[0]):\n",
    "    action = action_trajectory[i]\n",
    "\n",
    "    p0 = PoseUtils.unmake_pose(target_eef_poses[i])\n",
    "    action[0:3] = p0[0][0] - obs['robot0_eef_pos']\n",
    "    action[0:3] = np.clip(action[0:3] / max_dpos, -1., 1.)\n",
    "    # curr_rot = T.quat2mat(obs['robot0_eef_quat'])\n",
    "    # target_rot = p0[1][0]\n",
    "    # delta_rot_mat = target_rot.dot(curr_rot.T)\n",
    "    # delta_quat = T.mat2quat(delta_rot_mat)\n",
    "    # delta_rotation = T.quat2axisangle(delta_quat)\n",
    "    # delta_rotation = np.clip(delta_rotation / max_drot, -1., 1.)\n",
    "    # action[3:6] = delta_rotation\n",
    "\n",
    "    action[12:15] = p0[0][1] - obs['robot1_eef_pos']\n",
    "    action[12:15] = np.clip(action[12:15] / max_dpos, -1., 1.)\n",
    "    # curr_rot = T.quat2mat(obs['robot1_eef_quat'])\n",
    "    # target_rot = p0[1][1]\n",
    "    # delta_rot_mat = target_rot.dot(curr_rot.T)\n",
    "    # delta_quat = T.mat2quat(delta_rot_mat)\n",
    "    # delta_rotation = T.quat2axisangle(delta_quat)\n",
    "    # delta_rotation = np.clip(delta_rotation / max_drot, -1., 1.)\n",
    "    # action[15:18] = delta_rotation\n",
    "\n",
    "    obs, reward, done, info = env.step(action)\n",
    "    # obfull[0] = obs\n",
    "    env.render()\n",
    "    time.sleep(0.05)\n"
   ]
  },
  {
   "cell_type": "code",
   "execution_count": 37,
   "id": "fb86c833",
   "metadata": {},
   "outputs": [
    {
     "data": {
      "text/plain": [
       "array([-0.27634358,  0.43484571,  0.98203987])"
      ]
     },
     "execution_count": 37,
     "metadata": {},
     "output_type": "execute_result"
    }
   ],
   "source": [
    "obs['robot0_eef_pos']"
   ]
  },
  {
   "cell_type": "code",
   "execution_count": 21,
   "id": "56486b8b",
   "metadata": {},
   "outputs": [
    {
     "data": {
      "text/plain": [
       "array([[-0.99597645, -0.08945754, -0.00531572],\n",
       "       [-0.00507369, -0.00293271,  0.99998283],\n",
       "       [-0.08947159,  0.99598632,  0.00246703]])"
      ]
     },
     "execution_count": 21,
     "metadata": {},
     "output_type": "execute_result"
    }
   ],
   "source": [
    "p0[1][0]"
   ]
  },
  {
   "cell_type": "code",
   "execution_count": null,
   "id": "d84f73d7",
   "metadata": {},
   "outputs": [],
   "source": []
  }
 ],
 "metadata": {
  "kernelspec": {
   "display_name": "dexmimicgen",
   "language": "python",
   "name": "python3"
  },
  "language_info": {
   "codemirror_mode": {
    "name": "ipython",
    "version": 3
   },
   "file_extension": ".py",
   "mimetype": "text/x-python",
   "name": "python",
   "nbconvert_exporter": "python",
   "pygments_lexer": "ipython3",
   "version": "3.9.23"
  }
 },
 "nbformat": 4,
 "nbformat_minor": 5
}
